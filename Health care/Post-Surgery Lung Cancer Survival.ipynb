{
 "cells": [
  {
   "cell_type": "markdown",
   "metadata": {
    "colab_type": "text",
    "id": "V5bir1J61vmg"
   },
   "source": [
    "---\n",
    "# **Table of Contents**\n",
    "---\n",
    "**1.** [**Introduction**](#Section1)<br>\n",
    "**2.** [**Problem Statement**](#Section2)<br>\n",
    "**3.** [**Installing & Importing Libraries**](#Section3)<br>\n",
    "  - **3.1** [**Installing Libraries**](#Section31)\n",
    "  - **3.2** [**Upgrading Libraries**](#Section32)\n",
    "  - **3.3** [**Importing Libraries**](#Section33)\n",
    "\n",
    "**4.** [**Data Acquisition & Description**](#Section4)<br>\n",
    "  - **4.1** [**Data Description**](#Section41)\n",
    "  - **4.2** [**Data Information**](#Section42)\n",
    "  - **4.3** [**Numerical Data Distribution**](#Section43)\n",
    "  - **4.4** [**Pre Profiling Report**](#Section44)\n",
    "\n",
    "**5.** [**Data Pre-processing**](#Section5)<br>\n",
    "  - **5.1** [**Identification & Handling of Missing Data**](#Section51)\n",
    "  - **5.2** [**Identification & Handling of Redundant Data**](#Section52)\n",
    "  - **5.3** [**Identification & Handling of Inconsistent Data Types**](#Section53)\n",
    "  - **5.4** [**Post Profiling Report**](#Section54)\n",
    "\n",
    "**6.** [**Exploratory Data Analysis**](#Section6)<br>\n",
    "**7.** [**Post Data Processing & Feature Selection**](#Section7)<br>\n",
    "  - **7.1** [**Encoding Categorical Features**](#Section71)\n",
    "  - **7.2** [**Feature Selection using Random Forest**](#Section72)\n",
    "  - **7.3** [**Data Preparation**](#Section73)\n",
    "\n",
    "**8.** [**Model Development & Evaluation**](#Section8)<br>\n",
    "  - **8.1** [**Baseline Models**](#Section81)\n",
    "  - **8.2** [**Oversampling Models**](#Section82)\n",
    "  - **8.3** [**Fine Tuning of Model**](#Section83)\n",
    "  - **8.4** [**Final Model**](#Section84)\n",
    "\n",
    "**9.** [**Conclusion**](#Section9)<br>\n",
    "\n",
    "---"
   ]
  },
  {
   "cell_type": "markdown",
   "metadata": {
    "colab_type": "text",
    "id": "wxzHZCNC1zTA"
   },
   "source": [
    "<a id = Section1></a>\n",
    "\n",
    "---\n",
    "# **1. Introduction**\n",
    "---\n",
    "**<h3>Lung Cancer:</h3>**\n",
    "\n",
    "- It refers to an **uncontrolled growth** of **abnormal cells** in **one or both lungs**, **usually** in the **cells lining air passages**. \n",
    "\n",
    "- These **abnormal cells do not grow into healthy lung tissue**, **but divide rapidly** to **form tumours** that **interfere** with **lung function**.\n",
    "\n",
    "**<h3>Treatment(Thoracic Surgery):</h3>**\n",
    "\n",
    "- This surgery **refers** to an **operation on organs in the chest, including the heart, lungs and esophagus**.\n",
    "\n",
    "- **Examples** of thoracic surgery include **coronary artery bypass surgery, heart transplant, lung transplant** and **removal of parts of the lung affected by cancer**.\n",
    "\n",
    "- Thoracic surgery, **also known as chest surgery**, may be **used to diagnose or repair lungs affected by cancer, trauma or pulmonary disease**. \n",
    "\n",
    "- Thoracic **surgery** procedures may be **performed with either minimally invasive techniques** or an **open surgical procedure** called a **thoracotomy**.\n",
    "\n",
    "- **Surgeon** may **opt** for a **thoracotomy when it is necessary** to see large portions of the lung or inner chest cavity. The procedure may be **performed to remove the entire lung or a portion of the lung**.\n",
    "\n",
    "<center><img src = \"https://www.roycastle.org/app/uploads/2019/07/Detect-Lung-Cancer-Early.jpg\"></center>\n",
    "\n",
    "**<h3>Symptoms:</h3>**\n",
    "\n",
    "- It includes a **cough** (often with blood), **chest pain**, **wheezing and weight loss**.\n",
    "\n",
    "- It **requries** a **medical diagnosis** and **symptoms often don't appear until the cancer is advanced**.\n",
    "\n",
    "**<h3>Quick Facts:</h3>**\n",
    "\n",
    "- According to <a href = \"https://www.who.int/news-room/fact-sheets/detail/cancer\">**World Health Orgainization (WHO)**</a>, **cancer** is the **second leading cause of death globally**, and is responsible for an **estimated 9.6 million deaths in 2018**. Globally, about 1 in 6 deaths is due to cancer.\n",
    "\n",
    "- According to <a href = \"https://www.wcrf.org/dietandcancer/cancer-trends/lung-cancer-statistics\">**World Cancer Researh Fund**</a>, an American Institute For Cancer Research, **Lung Cancer** is the **most commonly occurring cancer** in men and the third most commonly occurring cancer in women. **There were 2 million new cases in 2018**.\n",
    "\n",
    "- To know more about facts related to cancer, click on the links that are available above."
   ]
  },
  {
   "cell_type": "markdown",
   "metadata": {
    "colab_type": "text",
    "id": "s9DWfoNV10D4"
   },
   "source": [
    "<a id = Section2></a>\n",
    "\n",
    "---\n",
    "# **2. Problem Statement**\n",
    "---\n",
    "\n",
    "- As we already know, **in some scenarios(rare)**, it is **not entirely possible** for **patients** to **survive even after surgery**. There may be **several factors related** to the patients, **example, their health history**.\n",
    "\n",
    "- These **patients requires intensive care** even on **post operation** and **sometimes** it is **entirely upto the luck of the patients** that they will get cured completely or not.\n",
    "\n",
    "- Our **problem here is to classify the life expectancy of patients on post operation of lung cancer**.\n",
    "\n",
    "<center><img src = \"https://albertahealthservices.ca/img-post-surgery-eating.jpg\"></center>\n",
    "\n",
    "**<h3>Scenario:</h3>**\n",
    "\n",
    "- **Grand Oak**, is an **american hospital specialized** in **identification and treatment** of **cancer related diseases**.\n",
    "\n",
    "- **Over time** hospital has **accumulated data** of patients, and **experts have provided pattern over accumulated data** to **ensure** that **patient will survive if certain criteria met**.\n",
    "\n",
    "- There are **5 teams** of **experts** who can **perform approx 300 operations per day in total**, **after receiving** the **health reports** of patients.\n",
    "\n",
    "- These **teams have experience** of **patient's survial after post operation** **reason being** their **knowledge over past years of study and operations** they have performed.\n",
    "\n",
    "- As they perform **more operations** their **knowledge may get refined** over time but **pace in improving refinement is slow**.\n",
    "\n",
    "- **If** somehow we could **use** their **knowledge into machines**, it can **provide very precise results**.\n",
    "\n",
    "- So they **hired** a **team of data scientists** to **find pattern** out of the data which could **help in identification** of **survial of patients** **based on accumulated knowledge by expertise**.\n",
    "\n",
    "| Target Feature | Potential Values |\n",
    "| :-- | :-- |\n",
    "| Risk(1yr) | False: Patient won't die |\n",
    "| | True: Patient dies |"
   ]
  },
  {
   "cell_type": "markdown",
   "metadata": {
    "colab_type": "text",
    "id": "J-UWmxV112__"
   },
   "source": [
    "<a id = Section3></a>\n",
    "\n",
    "---\n",
    "# **3. Installing & Importing Libraries**\n",
    "---"
   ]
  },
  {
   "cell_type": "markdown",
   "metadata": {
    "colab_type": "text",
    "id": "lV4BfldA15Yo"
   },
   "source": [
    "<a id = Section31></a>\n",
    "### **3.1 Installing Libraries**"
   ]
  },
  {
   "cell_type": "code",
   "execution_count": 0,
   "metadata": {
    "colab": {
     "base_uri": "https://localhost:8080/",
     "height": 51
    },
    "colab_type": "code",
    "executionInfo": {
     "elapsed": 17714,
     "status": "ok",
     "timestamp": 1590996466915,
     "user": {
      "displayName": "Mukesh Kumar",
      "photoUrl": "https://lh3.googleusercontent.com/a-/AOh14GjlcDlZf8Lr8SWM0ugfq17HC9TF79sbME_lLaRW=s64",
      "userId": "12802686450045644565"
     },
     "user_tz": -330
    },
    "id": "f3KyCBNUaY-c",
    "outputId": "5026582d-1855-42ba-fa45-5c3845759534"
   },
   "outputs": [
    {
     "name": "stdout",
     "output_type": "stream",
     "text": [
      "\u001b[?25l\r",
      "\u001b[K     |████▊                           | 10kB 21.3MB/s eta 0:00:01\r",
      "\u001b[K     |█████████▍                      | 20kB 1.7MB/s eta 0:00:01\r",
      "\u001b[K     |██████████████                  | 30kB 2.2MB/s eta 0:00:01\r",
      "\u001b[K     |██████████████████▊             | 40kB 2.5MB/s eta 0:00:01\r",
      "\u001b[K     |███████████████████████▍        | 51kB 2.0MB/s eta 0:00:01\r",
      "\u001b[K     |████████████████████████████    | 61kB 2.2MB/s eta 0:00:01\r",
      "\u001b[K     |████████████████████████████████| 71kB 2.0MB/s \n",
      "\u001b[?25h  Building wheel for folium (setup.py) ... \u001b[?25l\u001b[?25hdone\n"
     ]
    }
   ],
   "source": [
    "!pip install -q datascience                   # Package that is required by pandas profiling\n",
    "!pip install -q pandas-profiling              # Toolbox for Generating Statistics Report\n",
    "!pip install -q yellowbrick                   # Toolbox for Measuring Machine Performance\n",
    "!pip install -q imbalanced-learn              # Toolbox for imbalanced dataset"
   ]
  },
  {
   "cell_type": "markdown",
   "metadata": {
    "colab_type": "text",
    "id": "Y08VBGsC2EXP"
   },
   "source": [
    "<a id = Section32></a>\n",
    "### **3.2 Upgrading Libraries**\n",
    "\n",
    "**Note:** After upgrading, you need to restart the runtime. Make sure not to execute the cell above (3.1) and below (3.2) again after restarting the runtime."
   ]
  },
  {
   "cell_type": "code",
   "execution_count": 0,
   "metadata": {
    "colab": {
     "base_uri": "https://localhost:8080/",
     "height": 187
    },
    "colab_type": "code",
    "executionInfo": {
     "elapsed": 33844,
     "status": "ok",
     "timestamp": 1590996486718,
     "user": {
      "displayName": "Mukesh Kumar",
      "photoUrl": "https://lh3.googleusercontent.com/a-/AOh14GjlcDlZf8Lr8SWM0ugfq17HC9TF79sbME_lLaRW=s64",
      "userId": "12802686450045644565"
     },
     "user_tz": -330
    },
    "id": "k8Z-FVj92FUo",
    "outputId": "fb27d52d-0161-4a83-f40b-61c776d0f24f"
   },
   "outputs": [
    {
     "name": "stdout",
     "output_type": "stream",
     "text": [
      "\u001b[K     |████████████████████████████████| 266kB 2.9MB/s \n",
      "\u001b[K     |████████████████████████████████| 3.1MB 8.7MB/s \n",
      "\u001b[K     |████████████████████████████████| 71kB 7.5MB/s \n",
      "\u001b[K     |████████████████████████████████| 61kB 6.6MB/s \n",
      "\u001b[K     |████████████████████████████████| 604kB 29.7MB/s \n",
      "\u001b[K     |████████████████████████████████| 296kB 37.6MB/s \n",
      "\u001b[?25h  Building wheel for htmlmin (setup.py) ... \u001b[?25l\u001b[?25hdone\n",
      "  Building wheel for confuse (setup.py) ... \u001b[?25l\u001b[?25hdone\n",
      "  Building wheel for imagehash (setup.py) ... \u001b[?25l\u001b[?25hdone\n",
      "\u001b[K     |████████████████████████████████| 266kB 2.9MB/s \n",
      "\u001b[?25h"
     ]
    }
   ],
   "source": [
    "!pip install -q --upgrade pandas-profiling\n",
    "!pip install -q --upgrade yellowbrick"
   ]
  },
  {
   "cell_type": "markdown",
   "metadata": {
    "colab_type": "text",
    "id": "BvWnaQD72G6_"
   },
   "source": [
    "<a id = Section33></a>\n",
    "### **3.3 Importing Libraries**"
   ]
  },
  {
   "cell_type": "code",
   "execution_count": 0,
   "metadata": {
    "colab": {},
    "colab_type": "code",
    "id": "KUf1r3XH2I3g"
   },
   "outputs": [],
   "source": [
    "# For Panel Data Analysis\n",
    "import pandas as pd\n",
    "from pandas_profiling import ProfileReport\n",
    "import pandas.util.testing as tm\n",
    "pd.set_option('display.max_columns', None)\n",
    "pd.set_option('display.max_colwidth', None)\n",
    "pd.set_option('display.max_rows', None)\n",
    "pd.set_option('mode.chained_assignment', None)\n",
    "\n",
    "# For Numerical Python\n",
    "import numpy as np\n",
    "\n",
    "# For Random seed values\n",
    "from random import randint\n",
    "\n",
    "# For Data Visualization\n",
    "import matplotlib.pyplot as plt\n",
    "%matplotlib inline\n",
    "import seaborn as sns\n",
    "\n",
    "# For Preprocessing\n",
    "from sklearn.preprocessing import LabelEncoder, StandardScaler\n",
    "\n",
    "# For Feature Selection\n",
    "from sklearn.feature_selection import SelectFromModel\n",
    "\n",
    "# For Feature Importances\n",
    "from yellowbrick.model_selection import FeatureImportances\n",
    "\n",
    "# To handle class imbalance problem\n",
    "from imblearn.over_sampling import SMOTE\n",
    "\n",
    "# For metrics evaluation\n",
    "from sklearn.metrics import precision_recall_curve, classification_report, plot_confusion_matrix\n",
    "\n",
    "# For Data Modeling\n",
    "from sklearn.model_selection import train_test_split, cross_val_score, GridSearchCV\n",
    "from sklearn.linear_model import LogisticRegression\n",
    "from sklearn.svm import SVC\n",
    "from sklearn.tree import DecisionTreeClassifier\n",
    "from sklearn.ensemble import RandomForestClassifier\n",
    "\n",
    "# To Disable Warnings\n",
    "import warnings\n",
    "warnings.filterwarnings(action = 'ignore')"
   ]
  },
  {
   "cell_type": "markdown",
   "metadata": {
    "colab_type": "text",
    "id": "ahnI15sZ2PY_"
   },
   "source": [
    "<a id=Section4></a>\n",
    "\n",
    "---\n",
    "# **4. Data Acquisition & Description**\n",
    "---\n",
    "\n",
    "This data set is based on Post Thoracic Surgery provided by Grand Oak and is accessible <a href=\"https://raw.githubusercontent.com/insaid2018/Domain_Case_Studies/master/Healthcare/Post%20Thoracic%20Surgery/ThoraricSurgery.csv\">**here**</a>.\n",
    "\n",
    "\n",
    "| Records | Features | Dataset Size |\n",
    "| :-- | :-- | :-- |\n",
    "| 500 | 17 | 44.8 KB|\n",
    "\n",
    "|#|Features|Description|\n",
    "| :-- | :-- | :-- |\n",
    "|01|**DiagnosisCode**|Diagnosis specific combination of ICD-10 codes for primary and secondary as well multiple tumours if any [DGN1,DGN2,DGN3,DGN4,DGN5,DGN6,DGN8]|\n",
    "|||Diagnosis Codes are the medical codes used to classify two diagnoses, a diagnosis with an associated secondary process (manifestation) or a diagnosis with an associated complication|\n",
    "|02|**ForcedVitalCapacity**|Maximum amount of air a person can expel from the lungs after a maximum inhalation in litres. [Range: (1.44, 6.3)]|\n",
    "|03|**ForcedExpirationVolume**|Volume that has been exhaled at the end of the first second of forced expiration in litres. [Range: (0.96, 86.3)]|\n",
    "|04|**ZubrodPerformanceStatus**|A performance status in Zubrod scale [PRZ0 : (fully active, unrestricted by disease), PRZ1 : (able to carry out light work),|\n",
    "||| PRZ2 : (ambulatory but resting for as much as 50% of the day)]|\n",
    "|05|**PainBeforeSurgery**|If patient has any pain before surgery. Values: [False, True]|\n",
    "|06|**HaemoptysisBeforeSurgery**|If patient has any Haemoptysis(cough with blood) before surgery. Values: [False, True]|\n",
    "|07|**DyspnoeaBeforeSurgery**|If patient has any Dyspnoea (difficult in breathing) before surgery. Values: [False, True]|\n",
    "|08|**CoughBeforeSurgery**|If patient has any cough before surgery. Values: [False, True]|\n",
    "|09|**WeaknessBeforeSurgery**|If patient has any weakness before surgery. Values: [False, True]|\n",
    "|10|**OriginalTumourSize**|Size of the original tumour, from OC11 (smallest) to OC14 (largest) [OC11,OC14,OC12,OC13]|\n",
    "|11|**Type2Diabetes**|If patient has any type 2 diabetes before surgery. Values: [False, True]|\n",
    "|12|**MIUpto6**|If patient has any myocardial infarction (MI) or heart attack before surgery. Values: [False, True]|\n",
    "|13|**PeripheralArterialDiseases**|If patient has any Peripheral Arterial Diseases before surgery. Values: [False, True]|\n",
    "|14|**Smoking**|If patient has any smoking habits before surgery. Values: [False, True]|\n",
    "|15|**Asthma**|If patient has any asthma before surgery. Values: [False, True]|\n",
    "|16|**AgeAtSurgery**|The current age at which patients is having surgery.|\n",
    "|17|**Risk(1yr)**|If patient will survive within a year or not. Values: [False, True]|"
   ]
  },
  {
   "cell_type": "code",
   "execution_count": 0,
   "metadata": {
    "colab": {},
    "colab_type": "code",
    "id": "MBu1Vla-2M0P"
   },
   "outputs": [],
   "source": [
    "LINK = 'https://raw.githubusercontent.com/insaid2018/Domain_Case_Studies/master/Healthcare/Post%20Thoracic%20Surgery/ThoraricSurgery.csv'\n",
    "\n",
    "def load_thoracic_data(link = LINK):\n",
    "  return pd.read_csv(filepath_or_buffer = link)"
   ]
  },
  {
   "cell_type": "code",
   "execution_count": 0,
   "metadata": {
    "colab": {
     "base_uri": "https://localhost:8080/",
     "height": 241
    },
    "colab_type": "code",
    "executionInfo": {
     "elapsed": 6388,
     "status": "ok",
     "timestamp": 1591010431431,
     "user": {
      "displayName": "Mukesh Kumar",
      "photoUrl": "https://lh3.googleusercontent.com/a-/AOh14GjlcDlZf8Lr8SWM0ugfq17HC9TF79sbME_lLaRW=s64",
      "userId": "12802686450045644565"
     },
     "user_tz": -330
    },
    "id": "oXimx0JO2USn",
    "outputId": "eb57ca51-9853-416f-bc53-caad00904023"
   },
   "outputs": [
    {
     "name": "stdout",
     "output_type": "stream",
     "text": [
      "Data Shape: (500, 17)\n"
     ]
    },
    {
     "data": {
      "text/html": [
       "<div>\n",
       "<style scoped>\n",
       "    .dataframe tbody tr th:only-of-type {\n",
       "        vertical-align: middle;\n",
       "    }\n",
       "\n",
       "    .dataframe tbody tr th {\n",
       "        vertical-align: top;\n",
       "    }\n",
       "\n",
       "    .dataframe thead th {\n",
       "        text-align: right;\n",
       "    }\n",
       "</style>\n",
       "<table border=\"1\" class=\"dataframe\">\n",
       "  <thead>\n",
       "    <tr style=\"text-align: right;\">\n",
       "      <th></th>\n",
       "      <th>DiagnosisCode</th>\n",
       "      <th>ForcedVitalCapacity</th>\n",
       "      <th>ForcedExpirationVolume</th>\n",
       "      <th>ZubrodPerformanceStatus</th>\n",
       "      <th>PainBeforeSurgery</th>\n",
       "      <th>HaemoptysisBeforeSurgery</th>\n",
       "      <th>DyspnoeaBeforeSurgery</th>\n",
       "      <th>CoughBeforeSurgery</th>\n",
       "      <th>WeaknessBeforeSurgery</th>\n",
       "      <th>OriginalTumourSize</th>\n",
       "      <th>Type2Diabetes</th>\n",
       "      <th>MIUpto6</th>\n",
       "      <th>PeripheralArterialDiseases</th>\n",
       "      <th>Smoking</th>\n",
       "      <th>Asthma</th>\n",
       "      <th>AgeAtSurgery</th>\n",
       "      <th>Risk(1yr)</th>\n",
       "    </tr>\n",
       "  </thead>\n",
       "  <tbody>\n",
       "    <tr>\n",
       "      <th>0</th>\n",
       "      <td>DGN2</td>\n",
       "      <td>2.88</td>\n",
       "      <td>2.16</td>\n",
       "      <td>PRZ1</td>\n",
       "      <td>NaN</td>\n",
       "      <td>False</td>\n",
       "      <td>False</td>\n",
       "      <td>True</td>\n",
       "      <td>True</td>\n",
       "      <td>OC14</td>\n",
       "      <td>False</td>\n",
       "      <td>False</td>\n",
       "      <td>False</td>\n",
       "      <td>True</td>\n",
       "      <td>False</td>\n",
       "      <td>60</td>\n",
       "      <td>False</td>\n",
       "    </tr>\n",
       "    <tr>\n",
       "      <th>1</th>\n",
       "      <td>DGN3</td>\n",
       "      <td>3.40</td>\n",
       "      <td>1.88</td>\n",
       "      <td>PRZ0</td>\n",
       "      <td>NaN</td>\n",
       "      <td>False</td>\n",
       "      <td>False</td>\n",
       "      <td>False</td>\n",
       "      <td>False</td>\n",
       "      <td>OC12</td>\n",
       "      <td>False</td>\n",
       "      <td>False</td>\n",
       "      <td>False</td>\n",
       "      <td>True</td>\n",
       "      <td>False</td>\n",
       "      <td>51</td>\n",
       "      <td>False</td>\n",
       "    </tr>\n",
       "    <tr>\n",
       "      <th>2</th>\n",
       "      <td>DGN3</td>\n",
       "      <td>2.76</td>\n",
       "      <td>2.08</td>\n",
       "      <td>PRZ1</td>\n",
       "      <td>NaN</td>\n",
       "      <td>False</td>\n",
       "      <td>False</td>\n",
       "      <td>True</td>\n",
       "      <td>False</td>\n",
       "      <td>OC11</td>\n",
       "      <td>False</td>\n",
       "      <td>False</td>\n",
       "      <td>False</td>\n",
       "      <td>True</td>\n",
       "      <td>False</td>\n",
       "      <td>59</td>\n",
       "      <td>False</td>\n",
       "    </tr>\n",
       "    <tr>\n",
       "      <th>3</th>\n",
       "      <td>DGN3</td>\n",
       "      <td>3.68</td>\n",
       "      <td>3.04</td>\n",
       "      <td>PRZ0</td>\n",
       "      <td>NaN</td>\n",
       "      <td>False</td>\n",
       "      <td>False</td>\n",
       "      <td>False</td>\n",
       "      <td>False</td>\n",
       "      <td>OC11</td>\n",
       "      <td>False</td>\n",
       "      <td>False</td>\n",
       "      <td>False</td>\n",
       "      <td>False</td>\n",
       "      <td>False</td>\n",
       "      <td>54</td>\n",
       "      <td>False</td>\n",
       "    </tr>\n",
       "    <tr>\n",
       "      <th>4</th>\n",
       "      <td>DGN3</td>\n",
       "      <td>2.44</td>\n",
       "      <td>0.96</td>\n",
       "      <td>PRZ2</td>\n",
       "      <td>NaN</td>\n",
       "      <td>True</td>\n",
       "      <td>False</td>\n",
       "      <td>NaN</td>\n",
       "      <td>True</td>\n",
       "      <td>OC11</td>\n",
       "      <td>False</td>\n",
       "      <td>False</td>\n",
       "      <td>False</td>\n",
       "      <td>True</td>\n",
       "      <td>False</td>\n",
       "      <td>73</td>\n",
       "      <td>True</td>\n",
       "    </tr>\n",
       "  </tbody>\n",
       "</table>\n",
       "</div>"
      ],
      "text/plain": [
       "  DiagnosisCode  ForcedVitalCapacity  ForcedExpirationVolume  \\\n",
       "0          DGN2                 2.88                    2.16   \n",
       "1          DGN3                 3.40                    1.88   \n",
       "2          DGN3                 2.76                    2.08   \n",
       "3          DGN3                 3.68                    3.04   \n",
       "4          DGN3                 2.44                    0.96   \n",
       "\n",
       "  ZubrodPerformanceStatus PainBeforeSurgery  HaemoptysisBeforeSurgery  \\\n",
       "0                    PRZ1               NaN                     False   \n",
       "1                    PRZ0               NaN                     False   \n",
       "2                    PRZ1               NaN                     False   \n",
       "3                    PRZ0               NaN                     False   \n",
       "4                    PRZ2               NaN                      True   \n",
       "\n",
       "   DyspnoeaBeforeSurgery CoughBeforeSurgery  WeaknessBeforeSurgery  \\\n",
       "0                  False               True                   True   \n",
       "1                  False              False                  False   \n",
       "2                  False               True                  False   \n",
       "3                  False              False                  False   \n",
       "4                  False                NaN                   True   \n",
       "\n",
       "  OriginalTumourSize  Type2Diabetes  MIUpto6  PeripheralArterialDiseases  \\\n",
       "0               OC14          False    False                       False   \n",
       "1               OC12          False    False                       False   \n",
       "2               OC11          False    False                       False   \n",
       "3               OC11          False    False                       False   \n",
       "4               OC11          False    False                       False   \n",
       "\n",
       "   Smoking  Asthma  AgeAtSurgery  Risk(1yr)  \n",
       "0     True   False            60      False  \n",
       "1     True   False            51      False  \n",
       "2     True   False            59      False  \n",
       "3    False   False            54      False  \n",
       "4     True   False            73       True  "
      ]
     },
     "execution_count": 226,
     "metadata": {
      "tags": []
     },
     "output_type": "execute_result"
    }
   ],
   "source": [
    "data = load_thoracic_data()\n",
    "print('Data Shape:', data.shape)\n",
    "data.head()"
   ]
  },
  {
   "cell_type": "markdown",
   "metadata": {
    "colab_type": "text",
    "id": "ZSexyyC7ks9H"
   },
   "source": [
    "<a id = Section41></a>\n",
    "### **4.1 Data Description**\n",
    "\n",
    "- In this section we will get **information about the data** and see some observations."
   ]
  },
  {
   "cell_type": "code",
   "execution_count": 0,
   "metadata": {
    "colab": {
     "base_uri": "https://localhost:8080/",
     "height": 314
    },
    "colab_type": "code",
    "executionInfo": {
     "elapsed": 6352,
     "status": "ok",
     "timestamp": 1591010431438,
     "user": {
      "displayName": "Mukesh Kumar",
      "photoUrl": "https://lh3.googleusercontent.com/a-/AOh14GjlcDlZf8Lr8SWM0ugfq17HC9TF79sbME_lLaRW=s64",
      "userId": "12802686450045644565"
     },
     "user_tz": -330
    },
    "id": "dF937iIvkunH",
    "outputId": "63032e58-56c0-44be-da7b-09a58caaa6de"
   },
   "outputs": [
    {
     "name": "stdout",
     "output_type": "stream",
     "text": [
      "Described Column Length: 3\n"
     ]
    },
    {
     "data": {
      "text/html": [
       "<div>\n",
       "<style scoped>\n",
       "    .dataframe tbody tr th:only-of-type {\n",
       "        vertical-align: middle;\n",
       "    }\n",
       "\n",
       "    .dataframe tbody tr th {\n",
       "        vertical-align: top;\n",
       "    }\n",
       "\n",
       "    .dataframe thead th {\n",
       "        text-align: right;\n",
       "    }\n",
       "</style>\n",
       "<table border=\"1\" class=\"dataframe\">\n",
       "  <thead>\n",
       "    <tr style=\"text-align: right;\">\n",
       "      <th></th>\n",
       "      <th>ForcedVitalCapacity</th>\n",
       "      <th>ForcedExpirationVolume</th>\n",
       "      <th>AgeAtSurgery</th>\n",
       "    </tr>\n",
       "  </thead>\n",
       "  <tbody>\n",
       "    <tr>\n",
       "      <th>count</th>\n",
       "      <td>500.000000</td>\n",
       "      <td>500.000000</td>\n",
       "      <td>500.000000</td>\n",
       "    </tr>\n",
       "    <tr>\n",
       "      <th>mean</th>\n",
       "      <td>3.290840</td>\n",
       "      <td>4.455920</td>\n",
       "      <td>62.534000</td>\n",
       "    </tr>\n",
       "    <tr>\n",
       "      <th>std</th>\n",
       "      <td>0.868247</td>\n",
       "      <td>11.418564</td>\n",
       "      <td>8.704964</td>\n",
       "    </tr>\n",
       "    <tr>\n",
       "      <th>min</th>\n",
       "      <td>1.440000</td>\n",
       "      <td>0.960000</td>\n",
       "      <td>21.000000</td>\n",
       "    </tr>\n",
       "    <tr>\n",
       "      <th>25%</th>\n",
       "      <td>2.600000</td>\n",
       "      <td>2.000000</td>\n",
       "      <td>57.000000</td>\n",
       "    </tr>\n",
       "    <tr>\n",
       "      <th>50%</th>\n",
       "      <td>3.185000</td>\n",
       "      <td>2.440000</td>\n",
       "      <td>62.000000</td>\n",
       "    </tr>\n",
       "    <tr>\n",
       "      <th>75%</th>\n",
       "      <td>3.840000</td>\n",
       "      <td>3.080000</td>\n",
       "      <td>69.000000</td>\n",
       "    </tr>\n",
       "    <tr>\n",
       "      <th>max</th>\n",
       "      <td>6.300000</td>\n",
       "      <td>86.300000</td>\n",
       "      <td>87.000000</td>\n",
       "    </tr>\n",
       "  </tbody>\n",
       "</table>\n",
       "</div>"
      ],
      "text/plain": [
       "       ForcedVitalCapacity  ForcedExpirationVolume  AgeAtSurgery\n",
       "count           500.000000              500.000000    500.000000\n",
       "mean              3.290840                4.455920     62.534000\n",
       "std               0.868247               11.418564      8.704964\n",
       "min               1.440000                0.960000     21.000000\n",
       "25%               2.600000                2.000000     57.000000\n",
       "50%               3.185000                2.440000     62.000000\n",
       "75%               3.840000                3.080000     69.000000\n",
       "max               6.300000               86.300000     87.000000"
      ]
     },
     "execution_count": 227,
     "metadata": {
      "tags": []
     },
     "output_type": "execute_result"
    }
   ],
   "source": [
    "print('Described Column Length:', len(data.describe().columns))\n",
    "data.describe()"
   ]
  },
  {
   "cell_type": "markdown",
   "metadata": {
    "colab_type": "text",
    "id": "maxEMSX_OSUW"
   },
   "source": [
    "**Observation:**\n",
    "\n",
    "- The **average forced vital capacity** of **patients** is **3.2**.\n",
    "- The **average forced expiration volume** of **patients** is **4.4**.\n",
    "- The **average age of patients** is **62**.\n",
    "- **Forced vital capacity** of **25% patients** is **atmost 2.6** while for **50% and 75% of patients** its **atmost 3.18 and 3.84**.\n",
    "- **Forced expiration volume** of **25% patients** is **atmost 2** while for **50% and 75% of patients** its **atmost 2.44 and 3.08**.\n",
    "- **Age** of **25% patients** is **atmost 57** while for **50% and 75% of patients** its **atmost 62 and 69**."
   ]
  },
  {
   "cell_type": "markdown",
   "metadata": {
    "colab_type": "text",
    "id": "F6B3RmsRky0k"
   },
   "source": [
    "<a id = Section42></a>\n",
    "### **4.2 Data Information**\n",
    "\n",
    "- In this section we will see the **information about the types of features**."
   ]
  },
  {
   "cell_type": "code",
   "execution_count": 0,
   "metadata": {
    "colab": {
     "base_uri": "https://localhost:8080/",
     "height": 425
    },
    "colab_type": "code",
    "executionInfo": {
     "elapsed": 6307,
     "status": "ok",
     "timestamp": 1591010431440,
     "user": {
      "displayName": "Mukesh Kumar",
      "photoUrl": "https://lh3.googleusercontent.com/a-/AOh14GjlcDlZf8Lr8SWM0ugfq17HC9TF79sbME_lLaRW=s64",
      "userId": "12802686450045644565"
     },
     "user_tz": -330
    },
    "id": "L4HLG2Plk1WE",
    "outputId": "1392311a-39b0-455b-8fa4-d93314f9150d"
   },
   "outputs": [
    {
     "name": "stdout",
     "output_type": "stream",
     "text": [
      "<class 'pandas.core.frame.DataFrame'>\n",
      "RangeIndex: 500 entries, 0 to 499\n",
      "Data columns (total 17 columns):\n",
      " #   Column                      Non-Null Count  Dtype  \n",
      "---  ------                      --------------  -----  \n",
      " 0   DiagnosisCode               500 non-null    object \n",
      " 1   ForcedVitalCapacity         500 non-null    float64\n",
      " 2   ForcedExpirationVolume      500 non-null    float64\n",
      " 3   ZubrodPerformanceStatus     500 non-null    object \n",
      " 4   PainBeforeSurgery           495 non-null    object \n",
      " 5   HaemoptysisBeforeSurgery    500 non-null    bool   \n",
      " 6   DyspnoeaBeforeSurgery       500 non-null    bool   \n",
      " 7   CoughBeforeSurgery          495 non-null    object \n",
      " 8   WeaknessBeforeSurgery       500 non-null    bool   \n",
      " 9   OriginalTumourSize          500 non-null    object \n",
      " 10  Type2Diabetes               500 non-null    bool   \n",
      " 11  MIUpto6                     500 non-null    bool   \n",
      " 12  PeripheralArterialDiseases  500 non-null    bool   \n",
      " 13  Smoking                     500 non-null    bool   \n",
      " 14  Asthma                      500 non-null    bool   \n",
      " 15  AgeAtSurgery                500 non-null    int64  \n",
      " 16  Risk(1yr)                   500 non-null    bool   \n",
      "dtypes: bool(9), float64(2), int64(1), object(5)\n",
      "memory usage: 35.8+ KB\n"
     ]
    }
   ],
   "source": [
    "data.info()"
   ]
  },
  {
   "cell_type": "markdown",
   "metadata": {
    "colab_type": "text",
    "id": "wMcrAUZzR8VZ"
   },
   "source": [
    "**Observation:**\n",
    "\n",
    "- We can **observe** that **PainBeforeSurgery** and **CoughBeforeSurgery** have some **missing data**."
   ]
  },
  {
   "cell_type": "markdown",
   "metadata": {
    "colab_type": "text",
    "id": "y6G7lETmk5Bd"
   },
   "source": [
    "<a id = Section43></a>\n",
    "### **4.3 Numerical Data Distribution:**\n",
    "\n",
    "- We shall plot all **numerical features to analyze the distribution** of their past.\n",
    "- But **before** that we must **extract** all the **numerical** **features** which has been **performed** **below**."
   ]
  },
  {
   "cell_type": "code",
   "execution_count": 0,
   "metadata": {
    "colab": {
     "base_uri": "https://localhost:8080/",
     "height": 51
    },
    "colab_type": "code",
    "executionInfo": {
     "elapsed": 6273,
     "status": "ok",
     "timestamp": 1591010431448,
     "user": {
      "displayName": "Mukesh Kumar",
      "photoUrl": "https://lh3.googleusercontent.com/a-/AOh14GjlcDlZf8Lr8SWM0ugfq17HC9TF79sbME_lLaRW=s64",
      "userId": "12802686450045644565"
     },
     "user_tz": -330
    },
    "id": "tBDquVGvk4aj",
    "outputId": "37cfe327-67ed-42f7-f446-52b946c76d6e"
   },
   "outputs": [
    {
     "name": "stdout",
     "output_type": "stream",
     "text": [
      "Total Numerical Features: 3\n",
      "Features: ['ForcedVitalCapacity', 'ForcedExpirationVolume', 'AgeAtSurgery']\n"
     ]
    }
   ],
   "source": [
    "num_feature = []\n",
    "\n",
    "for i in data.columns.values:\n",
    "  if ((data[i].dtype == int) | (data[i].dtype == float)):\n",
    "    num_feature.append(i) \n",
    "    \n",
    "print('Total Numerical Features:', len(num_feature))\n",
    "print('Features:', num_feature)"
   ]
  },
  {
   "cell_type": "code",
   "execution_count": 0,
   "metadata": {
    "colab": {
     "base_uri": "https://localhost:8080/",
     "height": 388
    },
    "colab_type": "code",
    "executionInfo": {
     "elapsed": 9232,
     "status": "ok",
     "timestamp": 1591010434448,
     "user": {
      "displayName": "Mukesh Kumar",
      "photoUrl": "https://lh3.googleusercontent.com/a-/AOh14GjlcDlZf8Lr8SWM0ugfq17HC9TF79sbME_lLaRW=s64",
      "userId": "12802686450045644565"
     },
     "user_tz": -330
    },
    "id": "Rpio5NA_lBws",
    "outputId": "460beb11-e8e7-4f25-869c-10d7df5eaf51"
   },
   "outputs": [
    {
     "data": {
      "image/png": "[encoded data removed]",
      "text/plain": [
       "<Figure size 1080x432 with 3 Axes>"
      ]
     },
     "metadata": {
      "needs_background": "light",
      "tags": []
     },
     "output_type": "display_data"
    }
   ],
   "source": [
    "# Creating subplots\n",
    "fig, axes = plt.subplots(nrows = 1, ncols = 3, sharex = False, figsize=(15, 6))\n",
    "\n",
    "# Generating random colors based on number of columns\n",
    "colors = []\n",
    "for i in range(len(num_feature)):\n",
    "  colors.append('#%06X' % randint(0, 0xFFFFFF))   \n",
    "                \n",
    "for ax, col, color in zip(axes.flat, num_feature, colors):\n",
    "  sns.distplot(a = data[col], bins = 50, ax = ax, color = color)\n",
    "  ax.set_title(col)\n",
    "  plt.setp(axes, xlabel = '')\n",
    "  ax.grid(False)\n",
    "plt.tight_layout()\n",
    "plt.show()"
   ]
  },
  {
   "cell_type": "markdown",
   "metadata": {
    "colab_type": "text",
    "id": "uEXJ2hh5Rv2G"
   },
   "source": [
    "**Observation:**\n",
    "\n",
    "- All the rendered features are showing **positive skewed distribution**."
   ]
  },
  {
   "cell_type": "markdown",
   "metadata": {
    "colab_type": "text",
    "id": "ljdhKJTdlvqX"
   },
   "source": [
    "<a id = Section44></a>\n",
    "### **4.4 Pre Profiling Report**\n",
    "\n",
    "- For quick analysis pandas profiling is very handy.\n",
    "- Generates profile reports from a pandas DataFrame.\n",
    "- For each column statistics are presented in an interactive HTML report."
   ]
  },
  {
   "cell_type": "code",
   "execution_count": 0,
   "metadata": {
    "colab": {},
    "colab_type": "code",
    "id": "mAMtZKKHlyH_"
   },
   "outputs": [],
   "source": [
    "#profile = ProfileReport(df = data)\n",
    "#profile.to_file(output_file = 'Pre Profiling Report.html')\n",
    "#print('Accomplished!')"
   ]
  },
  {
   "cell_type": "code",
   "execution_count": 0,
   "metadata": {
    "colab": {},
    "colab_type": "code",
    "id": "DhrcQhdrl3lt"
   },
   "outputs": [],
   "source": [
    "# from google.colab import files                   # Use only if you are using Google Colab, otherwise remove it\n",
    "# files.download('Pre Profiling Report.html')      # Use only if you are using Google Colab, otherwise remove it"
   ]
  },
  {
   "cell_type": "markdown",
   "metadata": {
    "colab_type": "text",
    "id": "8N_uK0N9SpiI"
   },
   "source": [
    "**Observation:**\n",
    "\n",
    "- Report shows that **there are 17 features** out of which, **11 are boolean, 3 are numerical and 3 are categorical**.\n",
    "- There are **0.1% missing cells** available.\n",
    "- Contains **6% of duplicacy** in records.\n",
    "- There are **5%** of values in **ForcedExpirationVolume** feature that contain **large values**.\n",
    "- For detailed information, checkout the full report."
   ]
  },
  {
   "cell_type": "markdown",
   "metadata": {
    "colab_type": "text",
    "id": "rtGmIhral_aM"
   },
   "source": [
    "<a id = Section5></a>\n",
    "\n",
    "---\n",
    "# **5. Data Pre-Processing**\n",
    "---"
   ]
  },
  {
   "cell_type": "markdown",
   "metadata": {
    "colab_type": "text",
    "id": "wcl3sKTMmCSU"
   },
   "source": [
    "<a id = Section51></a>\n",
    "### **5.1 Identification & Handling of Missing Data**"
   ]
  },
  {
   "cell_type": "markdown",
   "metadata": {
    "colab_type": "text",
    "id": "ilmezYaCmHLd"
   },
   "source": [
    "#### **5.1.1 Null Data Identification & Handling**"
   ]
  },
  {
   "cell_type": "markdown",
   "metadata": {
    "colab_type": "text",
    "id": "5P8BeCEdQako"
   },
   "source": [
    "**Before Handling Null Data**"
   ]
  },
  {
   "cell_type": "code",
   "execution_count": 0,
   "metadata": {
    "colab": {
     "base_uri": "https://localhost:8080/",
     "height": 165
    },
    "colab_type": "code",
    "executionInfo": {
     "elapsed": 9125,
     "status": "ok",
     "timestamp": 1591010434460,
     "user": {
      "displayName": "Mukesh Kumar",
      "photoUrl": "https://lh3.googleusercontent.com/a-/AOh14GjlcDlZf8Lr8SWM0ugfq17HC9TF79sbME_lLaRW=s64",
      "userId": "12802686450045644565"
     },
     "user_tz": -330
    },
    "id": "Ts2s922AmDAE",
    "outputId": "c8ee1a2b-da85-4316-e626-f047386cbaae"
   },
   "outputs": [
    {
     "data": {
      "text/html": [
       "<div>\n",
       "<style scoped>\n",
       "    .dataframe tbody tr th:only-of-type {\n",
       "        vertical-align: middle;\n",
       "    }\n",
       "\n",
       "    .dataframe tbody tr th {\n",
       "        vertical-align: top;\n",
       "    }\n",
       "\n",
       "    .dataframe thead th {\n",
       "        text-align: right;\n",
       "    }\n",
       "</style>\n",
       "<table border=\"1\" class=\"dataframe\">\n",
       "  <thead>\n",
       "    <tr style=\"text-align: right;\">\n",
       "      <th></th>\n",
       "      <th>DiagnosisCode</th>\n",
       "      <th>ForcedVitalCapacity</th>\n",
       "      <th>ForcedExpirationVolume</th>\n",
       "      <th>ZubrodPerformanceStatus</th>\n",
       "      <th>PainBeforeSurgery</th>\n",
       "      <th>HaemoptysisBeforeSurgery</th>\n",
       "      <th>DyspnoeaBeforeSurgery</th>\n",
       "      <th>CoughBeforeSurgery</th>\n",
       "      <th>WeaknessBeforeSurgery</th>\n",
       "      <th>OriginalTumourSize</th>\n",
       "      <th>Type2Diabetes</th>\n",
       "      <th>MIUpto6</th>\n",
       "      <th>PeripheralArterialDiseases</th>\n",
       "      <th>Smoking</th>\n",
       "      <th>Asthma</th>\n",
       "      <th>AgeAtSurgery</th>\n",
       "      <th>Risk(1yr)</th>\n",
       "    </tr>\n",
       "  </thead>\n",
       "  <tbody>\n",
       "    <tr>\n",
       "      <th>Null Frequency</th>\n",
       "      <td>0.0</td>\n",
       "      <td>0.0</td>\n",
       "      <td>0.0</td>\n",
       "      <td>0.0</td>\n",
       "      <td>5.0</td>\n",
       "      <td>0.0</td>\n",
       "      <td>0.0</td>\n",
       "      <td>5.0</td>\n",
       "      <td>0.0</td>\n",
       "      <td>0.0</td>\n",
       "      <td>0.0</td>\n",
       "      <td>0.0</td>\n",
       "      <td>0.0</td>\n",
       "      <td>0.0</td>\n",
       "      <td>0.0</td>\n",
       "      <td>0.0</td>\n",
       "      <td>0.0</td>\n",
       "    </tr>\n",
       "    <tr>\n",
       "      <th>Missing %age</th>\n",
       "      <td>0.0</td>\n",
       "      <td>0.0</td>\n",
       "      <td>0.0</td>\n",
       "      <td>0.0</td>\n",
       "      <td>1.0</td>\n",
       "      <td>0.0</td>\n",
       "      <td>0.0</td>\n",
       "      <td>1.0</td>\n",
       "      <td>0.0</td>\n",
       "      <td>0.0</td>\n",
       "      <td>0.0</td>\n",
       "      <td>0.0</td>\n",
       "      <td>0.0</td>\n",
       "      <td>0.0</td>\n",
       "      <td>0.0</td>\n",
       "      <td>0.0</td>\n",
       "      <td>0.0</td>\n",
       "    </tr>\n",
       "  </tbody>\n",
       "</table>\n",
       "</div>"
      ],
      "text/plain": [
       "                DiagnosisCode  ForcedVitalCapacity  ForcedExpirationVolume  \\\n",
       "Null Frequency            0.0                  0.0                     0.0   \n",
       "Missing %age              0.0                  0.0                     0.0   \n",
       "\n",
       "                ZubrodPerformanceStatus  PainBeforeSurgery  \\\n",
       "Null Frequency                      0.0                5.0   \n",
       "Missing %age                        0.0                1.0   \n",
       "\n",
       "                HaemoptysisBeforeSurgery  DyspnoeaBeforeSurgery  \\\n",
       "Null Frequency                       0.0                    0.0   \n",
       "Missing %age                         0.0                    0.0   \n",
       "\n",
       "                CoughBeforeSurgery  WeaknessBeforeSurgery  OriginalTumourSize  \\\n",
       "Null Frequency                 5.0                    0.0                 0.0   \n",
       "Missing %age                   1.0                    0.0                 0.0   \n",
       "\n",
       "                Type2Diabetes  MIUpto6  PeripheralArterialDiseases  Smoking  \\\n",
       "Null Frequency            0.0      0.0                         0.0      0.0   \n",
       "Missing %age              0.0      0.0                         0.0      0.0   \n",
       "\n",
       "                Asthma  AgeAtSurgery  Risk(1yr)  \n",
       "Null Frequency     0.0           0.0        0.0  \n",
       "Missing %age       0.0           0.0        0.0  "
      ]
     },
     "execution_count": 233,
     "metadata": {
      "tags": []
     },
     "output_type": "execute_result"
    }
   ],
   "source": [
    "null_frame = pd.DataFrame(index = data.columns.values)\n",
    "null_frame['Null Frequency'] = data.isnull().sum().values\n",
    "percent = data.isnull().sum().values/data.shape[0]\n",
    "null_frame['Missing %age'] = np.round(percent, decimals = 4) * 100\n",
    "null_frame.transpose()"
   ]
  },
  {
   "cell_type": "markdown",
   "metadata": {
    "colab_type": "text",
    "id": "oI7L67KFTrSk"
   },
   "source": [
    "**Observation:**\n",
    "\n",
    "- **Feature**:\n",
    "  - Problem &rarr; Action Required\n",
    "- **PainBeforeSurgery:**\n",
    "  - Missing Information &rarr; Replace with mode value.\n",
    "- **CoughBeforeSurgery:**\n",
    "  - Missing Information &rarr; Replace with mode value."
   ]
  },
  {
   "cell_type": "markdown",
   "metadata": {
    "colab_type": "text",
    "id": "qUXO6I_VQc2o"
   },
   "source": [
    "**Performing Operations**"
   ]
  },
  {
   "cell_type": "code",
   "execution_count": 0,
   "metadata": {
    "colab": {},
    "colab_type": "code",
    "id": "AZrPEM9BQfxb"
   },
   "outputs": [],
   "source": [
    "data['PainBeforeSurgery'] = data['PainBeforeSurgery'].replace(np.nan, data['PainBeforeSurgery'].mode()[0])\n",
    "data['CoughBeforeSurgery'] = data['CoughBeforeSurgery'].replace(np.nan, data['CoughBeforeSurgery'].mode()[0])"
   ]
  },
  {
   "cell_type": "markdown",
   "metadata": {
    "colab_type": "text",
    "id": "7uFLFButQuGr"
   },
   "source": [
    "**After Handling Null Data**"
   ]
  },
  {
   "cell_type": "code",
   "execution_count": 0,
   "metadata": {
    "colab": {
     "base_uri": "https://localhost:8080/",
     "height": 165
    },
    "colab_type": "code",
    "executionInfo": {
     "elapsed": 9078,
     "status": "ok",
     "timestamp": 1591010434462,
     "user": {
      "displayName": "Mukesh Kumar",
      "photoUrl": "https://lh3.googleusercontent.com/a-/AOh14GjlcDlZf8Lr8SWM0ugfq17HC9TF79sbME_lLaRW=s64",
      "userId": "12802686450045644565"
     },
     "user_tz": -330
    },
    "id": "6d3wGFw9QwfL",
    "outputId": "e75698c7-2cf7-4a14-bf83-d5d369305e72"
   },
   "outputs": [
    {
     "data": {
      "text/html": [
       "<div>\n",
       "<style scoped>\n",
       "    .dataframe tbody tr th:only-of-type {\n",
       "        vertical-align: middle;\n",
       "    }\n",
       "\n",
       "    .dataframe tbody tr th {\n",
       "        vertical-align: top;\n",
       "    }\n",
       "\n",
       "    .dataframe thead th {\n",
       "        text-align: right;\n",
       "    }\n",
       "</style>\n",
       "<table border=\"1\" class=\"dataframe\">\n",
       "  <thead>\n",
       "    <tr style=\"text-align: right;\">\n",
       "      <th></th>\n",
       "      <th>DiagnosisCode</th>\n",
       "      <th>ForcedVitalCapacity</th>\n",
       "      <th>ForcedExpirationVolume</th>\n",
       "      <th>ZubrodPerformanceStatus</th>\n",
       "      <th>PainBeforeSurgery</th>\n",
       "      <th>HaemoptysisBeforeSurgery</th>\n",
       "      <th>DyspnoeaBeforeSurgery</th>\n",
       "      <th>CoughBeforeSurgery</th>\n",
       "      <th>WeaknessBeforeSurgery</th>\n",
       "      <th>OriginalTumourSize</th>\n",
       "      <th>Type2Diabetes</th>\n",
       "      <th>MIUpto6</th>\n",
       "      <th>PeripheralArterialDiseases</th>\n",
       "      <th>Smoking</th>\n",
       "      <th>Asthma</th>\n",
       "      <th>AgeAtSurgery</th>\n",
       "      <th>Risk(1yr)</th>\n",
       "    </tr>\n",
       "  </thead>\n",
       "  <tbody>\n",
       "    <tr>\n",
       "      <th>Null Frequency</th>\n",
       "      <td>0.0</td>\n",
       "      <td>0.0</td>\n",
       "      <td>0.0</td>\n",
       "      <td>0.0</td>\n",
       "      <td>0.0</td>\n",
       "      <td>0.0</td>\n",
       "      <td>0.0</td>\n",
       "      <td>0.0</td>\n",
       "      <td>0.0</td>\n",
       "      <td>0.0</td>\n",
       "      <td>0.0</td>\n",
       "      <td>0.0</td>\n",
       "      <td>0.0</td>\n",
       "      <td>0.0</td>\n",
       "      <td>0.0</td>\n",
       "      <td>0.0</td>\n",
       "      <td>0.0</td>\n",
       "    </tr>\n",
       "    <tr>\n",
       "      <th>Missing %age</th>\n",
       "      <td>0.0</td>\n",
       "      <td>0.0</td>\n",
       "      <td>0.0</td>\n",
       "      <td>0.0</td>\n",
       "      <td>0.0</td>\n",
       "      <td>0.0</td>\n",
       "      <td>0.0</td>\n",
       "      <td>0.0</td>\n",
       "      <td>0.0</td>\n",
       "      <td>0.0</td>\n",
       "      <td>0.0</td>\n",
       "      <td>0.0</td>\n",
       "      <td>0.0</td>\n",
       "      <td>0.0</td>\n",
       "      <td>0.0</td>\n",
       "      <td>0.0</td>\n",
       "      <td>0.0</td>\n",
       "    </tr>\n",
       "  </tbody>\n",
       "</table>\n",
       "</div>"
      ],
      "text/plain": [
       "                DiagnosisCode  ForcedVitalCapacity  ForcedExpirationVolume  \\\n",
       "Null Frequency            0.0                  0.0                     0.0   \n",
       "Missing %age              0.0                  0.0                     0.0   \n",
       "\n",
       "                ZubrodPerformanceStatus  PainBeforeSurgery  \\\n",
       "Null Frequency                      0.0                0.0   \n",
       "Missing %age                        0.0                0.0   \n",
       "\n",
       "                HaemoptysisBeforeSurgery  DyspnoeaBeforeSurgery  \\\n",
       "Null Frequency                       0.0                    0.0   \n",
       "Missing %age                         0.0                    0.0   \n",
       "\n",
       "                CoughBeforeSurgery  WeaknessBeforeSurgery  OriginalTumourSize  \\\n",
       "Null Frequency                 0.0                    0.0                 0.0   \n",
       "Missing %age                   0.0                    0.0                 0.0   \n",
       "\n",
       "                Type2Diabetes  MIUpto6  PeripheralArterialDiseases  Smoking  \\\n",
       "Null Frequency            0.0      0.0                         0.0      0.0   \n",
       "Missing %age              0.0      0.0                         0.0      0.0   \n",
       "\n",
       "                Asthma  AgeAtSurgery  Risk(1yr)  \n",
       "Null Frequency     0.0           0.0        0.0  \n",
       "Missing %age       0.0           0.0        0.0  "
      ]
     },
     "execution_count": 235,
     "metadata": {
      "tags": []
     },
     "output_type": "execute_result"
    }
   ],
   "source": [
    "null_frame = pd.DataFrame(index = data.columns.values)\n",
    "null_frame['Null Frequency'] = data.isnull().sum().values\n",
    "percent = data.isnull().sum().values/data.shape[0]\n",
    "null_frame['Missing %age'] = np.round(percent, decimals = 4) * 100\n",
    "null_frame.transpose()"
   ]
  },
  {
   "cell_type": "markdown",
   "metadata": {
    "colab_type": "text",
    "id": "VWO4G3hoUK4g"
   },
   "source": [
    "**Observation:**\n",
    "\n",
    "- We have **successfully removed null information**."
   ]
  },
  {
   "cell_type": "markdown",
   "metadata": {
    "colab_type": "text",
    "id": "5JBBIVhgmN8_"
   },
   "source": [
    "#### **5.1.2 Zero Data Identification & Handling**"
   ]
  },
  {
   "cell_type": "code",
   "execution_count": 0,
   "metadata": {
    "colab": {
     "base_uri": "https://localhost:8080/",
     "height": 165
    },
    "colab_type": "code",
    "executionInfo": {
     "elapsed": 9044,
     "status": "ok",
     "timestamp": 1591010434463,
     "user": {
      "displayName": "Mukesh Kumar",
      "photoUrl": "https://lh3.googleusercontent.com/a-/AOh14GjlcDlZf8Lr8SWM0ugfq17HC9TF79sbME_lLaRW=s64",
      "userId": "12802686450045644565"
     },
     "user_tz": -330
    },
    "id": "V39pT-iXmOrD",
    "outputId": "441e72b6-ab6b-40db-eb47-5bd499db194d"
   },
   "outputs": [
    {
     "data": {
      "text/html": [
       "<div>\n",
       "<style scoped>\n",
       "    .dataframe tbody tr th:only-of-type {\n",
       "        vertical-align: middle;\n",
       "    }\n",
       "\n",
       "    .dataframe tbody tr th {\n",
       "        vertical-align: top;\n",
       "    }\n",
       "\n",
       "    .dataframe thead th {\n",
       "        text-align: right;\n",
       "    }\n",
       "</style>\n",
       "<table border=\"1\" class=\"dataframe\">\n",
       "  <thead>\n",
       "    <tr style=\"text-align: right;\">\n",
       "      <th></th>\n",
       "      <th>DiagnosisCode</th>\n",
       "      <th>ForcedVitalCapacity</th>\n",
       "      <th>ForcedExpirationVolume</th>\n",
       "      <th>ZubrodPerformanceStatus</th>\n",
       "      <th>PainBeforeSurgery</th>\n",
       "      <th>HaemoptysisBeforeSurgery</th>\n",
       "      <th>DyspnoeaBeforeSurgery</th>\n",
       "      <th>CoughBeforeSurgery</th>\n",
       "      <th>WeaknessBeforeSurgery</th>\n",
       "      <th>OriginalTumourSize</th>\n",
       "      <th>Type2Diabetes</th>\n",
       "      <th>MIUpto6</th>\n",
       "      <th>PeripheralArterialDiseases</th>\n",
       "      <th>Smoking</th>\n",
       "      <th>Asthma</th>\n",
       "      <th>AgeAtSurgery</th>\n",
       "      <th>Risk(1yr)</th>\n",
       "    </tr>\n",
       "  </thead>\n",
       "  <tbody>\n",
       "    <tr>\n",
       "      <th>Null Frequency</th>\n",
       "      <td>0.0</td>\n",
       "      <td>0.0</td>\n",
       "      <td>0.0</td>\n",
       "      <td>0.0</td>\n",
       "      <td>464.0</td>\n",
       "      <td>429.0</td>\n",
       "      <td>466.0</td>\n",
       "      <td>156.0</td>\n",
       "      <td>420.0</td>\n",
       "      <td>0.0</td>\n",
       "      <td>461.0</td>\n",
       "      <td>498.0</td>\n",
       "      <td>492.0</td>\n",
       "      <td>92.0</td>\n",
       "      <td>498.0</td>\n",
       "      <td>0.0</td>\n",
       "      <td>424.0</td>\n",
       "    </tr>\n",
       "    <tr>\n",
       "      <th>Missing %age</th>\n",
       "      <td>0.0</td>\n",
       "      <td>0.0</td>\n",
       "      <td>0.0</td>\n",
       "      <td>0.0</td>\n",
       "      <td>92.8</td>\n",
       "      <td>85.8</td>\n",
       "      <td>93.2</td>\n",
       "      <td>31.2</td>\n",
       "      <td>84.0</td>\n",
       "      <td>0.0</td>\n",
       "      <td>92.2</td>\n",
       "      <td>99.6</td>\n",
       "      <td>98.4</td>\n",
       "      <td>18.4</td>\n",
       "      <td>99.6</td>\n",
       "      <td>0.0</td>\n",
       "      <td>84.8</td>\n",
       "    </tr>\n",
       "  </tbody>\n",
       "</table>\n",
       "</div>"
      ],
      "text/plain": [
       "                DiagnosisCode  ForcedVitalCapacity  ForcedExpirationVolume  \\\n",
       "Null Frequency            0.0                  0.0                     0.0   \n",
       "Missing %age              0.0                  0.0                     0.0   \n",
       "\n",
       "                ZubrodPerformanceStatus  PainBeforeSurgery  \\\n",
       "Null Frequency                      0.0              464.0   \n",
       "Missing %age                        0.0               92.8   \n",
       "\n",
       "                HaemoptysisBeforeSurgery  DyspnoeaBeforeSurgery  \\\n",
       "Null Frequency                     429.0                  466.0   \n",
       "Missing %age                        85.8                   93.2   \n",
       "\n",
       "                CoughBeforeSurgery  WeaknessBeforeSurgery  OriginalTumourSize  \\\n",
       "Null Frequency               156.0                  420.0                 0.0   \n",
       "Missing %age                  31.2                   84.0                 0.0   \n",
       "\n",
       "                Type2Diabetes  MIUpto6  PeripheralArterialDiseases  Smoking  \\\n",
       "Null Frequency          461.0    498.0                       492.0     92.0   \n",
       "Missing %age             92.2     99.6                        98.4     18.4   \n",
       "\n",
       "                Asthma  AgeAtSurgery  Risk(1yr)  \n",
       "Null Frequency   498.0           0.0      424.0  \n",
       "Missing %age      99.6           0.0       84.8  "
      ]
     },
     "execution_count": 236,
     "metadata": {
      "tags": []
     },
     "output_type": "execute_result"
    }
   ],
   "source": [
    "zero_frame = pd.DataFrame(index = data.columns.values)\n",
    "zero_frame['Null Frequency'] = data[data == 0].count().values\n",
    "percent = data[data == 0].count().values / data.shape[0]\n",
    "zero_frame['Missing %age'] = np.round(percent, decimals = 4) * 100\n",
    "zero_frame.transpose()"
   ]
  },
  {
   "cell_type": "markdown",
   "metadata": {
    "colab_type": "text",
    "id": "UbyCCnAQUa1W"
   },
   "source": [
    "**Observation**\n",
    "\n",
    "- **Feature:** \n",
    "  - Problem &rarr; Action Required {Reason}\n",
    "- **PainBeforeSurgery**:\n",
    "  - Zero Data &rarr; None {Boolean data}\n",
    "- **HaemoptysisBeforeSurgery**:\n",
    "  - Zero Data &rarr; None {Boolean data}\n",
    "- **DyspnoeaBeforeSurgery**\n",
    "  - Zero Data &rarr; None {Boolean data}\n",
    "- **CoughBeforeSurgery**\n",
    "  - Zero Data &rarr; None {Boolean data}\n",
    "- **WeaknessBeforeSurgery**\n",
    "  - Zero Data &rarr; None {Boolean data}\n",
    "- **Type2Diabetes**\n",
    "  - Zero Data &rarr; None {Boolean data}\n",
    "- **MIUpto6**\n",
    "  - Zero Data &rarr; None {Ordinal data}\n",
    "- **PeripheralArterialDiseases**\n",
    "  - Zero Data &rarr; None {Boolean data}\n",
    "- **Smoking**\n",
    "  - Zero Data &rarr; None {Boolean data}\n",
    "- **Asthma**\n",
    "  - Zero Data &rarr; None {Boolean data}\n",
    "- **Risk(1yr)**\n",
    "  - Zero Data &rarr; None {Boolean data}"
   ]
  },
  {
   "cell_type": "markdown",
   "metadata": {
    "colab_type": "text",
    "id": "TDbeM3K7mZ4k"
   },
   "source": [
    "<a id = Section52></a>\n",
    "### **5.2 Identification & Handling of Redundant Data**\n",
    "\n",
    "- In this section **we will identify redundant rows and columns** in our data if present."
   ]
  },
  {
   "cell_type": "markdown",
   "metadata": {
    "colab_type": "text",
    "id": "JCSidIMgmzQf"
   },
   "source": [
    "#### **5.2.1 Identfication & Handling of Redundant Rows**"
   ]
  },
  {
   "cell_type": "markdown",
   "metadata": {
    "colab_type": "text",
    "id": "ttK2N4ybQ5yJ"
   },
   "source": [
    "**Before Handling Duplicate Rows**"
   ]
  },
  {
   "cell_type": "code",
   "execution_count": 0,
   "metadata": {
    "colab": {
     "base_uri": "https://localhost:8080/",
     "height": 51
    },
    "colab_type": "code",
    "executionInfo": {
     "elapsed": 9015,
     "status": "ok",
     "timestamp": 1591010434465,
     "user": {
      "displayName": "Mukesh Kumar",
      "photoUrl": "https://lh3.googleusercontent.com/a-/AOh14GjlcDlZf8Lr8SWM0ugfq17HC9TF79sbME_lLaRW=s64",
      "userId": "12802686450045644565"
     },
     "user_tz": -330
    },
    "id": "uzB5sBbomam0",
    "outputId": "50594a7a-9334-4a59-c8e8-026906e63aa0"
   },
   "outputs": [
    {
     "name": "stdout",
     "output_type": "stream",
     "text": [
      "Contains Redundant Records?: True\n",
      "Duplicate Count: 30\n"
     ]
    }
   ],
   "source": [
    "print('Contains Redundant Records?:', data.duplicated().any())\n",
    "print('Duplicate Count:', data.duplicated().sum())"
   ]
  },
  {
   "cell_type": "markdown",
   "metadata": {
    "colab_type": "text",
    "id": "GtxyUS0AHiNK"
   },
   "source": [
    "**Observation:**\n",
    "\n",
    "- There are **30 records** which contains **redundant** information."
   ]
  },
  {
   "cell_type": "markdown",
   "metadata": {
    "colab_type": "text",
    "id": "vnWirbc5Q7BS"
   },
   "source": [
    "**Performing Operations**"
   ]
  },
  {
   "cell_type": "code",
   "execution_count": 0,
   "metadata": {
    "colab": {},
    "colab_type": "code",
    "id": "B9r1E-TjQ9vQ"
   },
   "outputs": [],
   "source": [
    "data.drop_duplicates(inplace = True)"
   ]
  },
  {
   "cell_type": "markdown",
   "metadata": {
    "colab_type": "text",
    "id": "7Ac3hub8Q_7e"
   },
   "source": [
    "**After Handling Duplicate Rows**"
   ]
  },
  {
   "cell_type": "code",
   "execution_count": 0,
   "metadata": {
    "colab": {
     "base_uri": "https://localhost:8080/",
     "height": 51
    },
    "colab_type": "code",
    "executionInfo": {
     "elapsed": 8944,
     "status": "ok",
     "timestamp": 1591010434474,
     "user": {
      "displayName": "Mukesh Kumar",
      "photoUrl": "https://lh3.googleusercontent.com/a-/AOh14GjlcDlZf8Lr8SWM0ugfq17HC9TF79sbME_lLaRW=s64",
      "userId": "12802686450045644565"
     },
     "user_tz": -330
    },
    "id": "w66Uh-AyRCBf",
    "outputId": "8c8e8620-1d4d-4000-dcfa-f1df1bca26c4"
   },
   "outputs": [
    {
     "name": "stdout",
     "output_type": "stream",
     "text": [
      "Contains Redundant Records?: False\n",
      "Duplicate Count: 0\n"
     ]
    }
   ],
   "source": [
    "print('Contains Redundant Records?:', data.duplicated().any())\n",
    "print('Duplicate Count:', data.duplicated().sum())"
   ]
  },
  {
   "cell_type": "markdown",
   "metadata": {
    "colab_type": "text",
    "id": "nLFuRgd5Hs7Q"
   },
   "source": [
    "**Observation:**\n",
    "\n",
    "- We have **successfully dropped duplicate rows**."
   ]
  },
  {
   "cell_type": "markdown",
   "metadata": {
    "colab_type": "text",
    "id": "SHHWGikmmmR7"
   },
   "source": [
    "#### **5.2.2 Identification & Handling of Redundant Features**\n",
    "\n",
    "- For handling duplicate features we have created a custom function to identify duplicacy in features with different name but similar values:"
   ]
  },
  {
   "cell_type": "code",
   "execution_count": 0,
   "metadata": {
    "colab": {},
    "colab_type": "code",
    "id": "pH-H_f3mm1Gm"
   },
   "outputs": [],
   "source": [
    "def duplicate_cols(dataframe):\n",
    "  ls1 = []\n",
    "  ls2 = []\n",
    "\n",
    "  columns = dataframe.columns.values\n",
    "  for i in range(0, len(columns)):\n",
    "    for j in range(i+1, len(columns)):\n",
    "      if (np.where(dataframe[columns[i]] == dataframe[columns[j]], True, False).all() == True):\n",
    "        ls1.append(columns[i])\n",
    "        ls2.append(columns[j])\n",
    "\n",
    "  if ((len(ls1) == 0) & (len(ls2) == 0)):\n",
    "    return None\n",
    "  else:\n",
    "    duplicate_frame = pd.DataFrame()\n",
    "    duplicate_frame['Feature 1'] = ls1\n",
    "    duplicate_frame['Feature 2'] = ls2\n",
    "    return duplicate_frame"
   ]
  },
  {
   "cell_type": "code",
   "execution_count": 0,
   "metadata": {
    "colab": {
     "base_uri": "https://localhost:8080/",
     "height": 34
    },
    "colab_type": "code",
    "executionInfo": {
     "elapsed": 8873,
     "status": "ok",
     "timestamp": 1591010434478,
     "user": {
      "displayName": "Mukesh Kumar",
      "photoUrl": "https://lh3.googleusercontent.com/a-/AOh14GjlcDlZf8Lr8SWM0ugfq17HC9TF79sbME_lLaRW=s64",
      "userId": "12802686450045644565"
     },
     "user_tz": -330
    },
    "id": "00ey4MjEm4tj",
    "outputId": "50007d9a-b143-4187-b505-535eb2ad496a"
   },
   "outputs": [
    {
     "name": "stdout",
     "output_type": "stream",
     "text": [
      "None\n"
     ]
    }
   ],
   "source": [
    "print(duplicate_cols(data))"
   ]
  },
  {
   "cell_type": "markdown",
   "metadata": {
    "colab_type": "text",
    "id": "whMDB77yH5wg"
   },
   "source": [
    "**Observation:**\n",
    "\n",
    "- It turns out that there **aren't any duplicate features** present in our data."
   ]
  },
  {
   "cell_type": "markdown",
   "metadata": {
    "colab_type": "text",
    "id": "2uvrQclknPok"
   },
   "source": [
    "<a id = Section53></a>\n",
    "### **5.3 Identification & Handling of Inconsistent Data Types**"
   ]
  },
  {
   "cell_type": "code",
   "execution_count": 0,
   "metadata": {
    "colab": {
     "base_uri": "https://localhost:8080/",
     "height": 131
    },
    "colab_type": "code",
    "executionInfo": {
     "elapsed": 8814,
     "status": "ok",
     "timestamp": 1591010434481,
     "user": {
      "displayName": "Mukesh Kumar",
      "photoUrl": "https://lh3.googleusercontent.com/a-/AOh14GjlcDlZf8Lr8SWM0ugfq17HC9TF79sbME_lLaRW=s64",
      "userId": "12802686450045644565"
     },
     "user_tz": -330
    },
    "id": "KCsfMYkxnWrw",
    "outputId": "9a7d8ea3-c262-46c7-e81d-84cf785dee95"
   },
   "outputs": [
    {
     "data": {
      "text/html": [
       "<div>\n",
       "<style scoped>\n",
       "    .dataframe tbody tr th:only-of-type {\n",
       "        vertical-align: middle;\n",
       "    }\n",
       "\n",
       "    .dataframe tbody tr th {\n",
       "        vertical-align: top;\n",
       "    }\n",
       "\n",
       "    .dataframe thead th {\n",
       "        text-align: right;\n",
       "    }\n",
       "</style>\n",
       "<table border=\"1\" class=\"dataframe\">\n",
       "  <thead>\n",
       "    <tr style=\"text-align: right;\">\n",
       "      <th></th>\n",
       "      <th>DiagnosisCode</th>\n",
       "      <th>ForcedVitalCapacity</th>\n",
       "      <th>ForcedExpirationVolume</th>\n",
       "      <th>ZubrodPerformanceStatus</th>\n",
       "      <th>PainBeforeSurgery</th>\n",
       "      <th>HaemoptysisBeforeSurgery</th>\n",
       "      <th>DyspnoeaBeforeSurgery</th>\n",
       "      <th>CoughBeforeSurgery</th>\n",
       "      <th>WeaknessBeforeSurgery</th>\n",
       "      <th>OriginalTumourSize</th>\n",
       "      <th>Type2Diabetes</th>\n",
       "      <th>MIUpto6</th>\n",
       "      <th>PeripheralArterialDiseases</th>\n",
       "      <th>Smoking</th>\n",
       "      <th>Asthma</th>\n",
       "      <th>AgeAtSurgery</th>\n",
       "      <th>Risk(1yr)</th>\n",
       "    </tr>\n",
       "  </thead>\n",
       "  <tbody>\n",
       "    <tr>\n",
       "      <th>0</th>\n",
       "      <td>DGN2</td>\n",
       "      <td>2.88</td>\n",
       "      <td>2.16</td>\n",
       "      <td>PRZ1</td>\n",
       "      <td>False</td>\n",
       "      <td>False</td>\n",
       "      <td>False</td>\n",
       "      <td>True</td>\n",
       "      <td>True</td>\n",
       "      <td>OC14</td>\n",
       "      <td>False</td>\n",
       "      <td>False</td>\n",
       "      <td>False</td>\n",
       "      <td>True</td>\n",
       "      <td>False</td>\n",
       "      <td>60</td>\n",
       "      <td>False</td>\n",
       "    </tr>\n",
       "    <tr>\n",
       "      <th>1</th>\n",
       "      <td>DGN3</td>\n",
       "      <td>3.40</td>\n",
       "      <td>1.88</td>\n",
       "      <td>PRZ0</td>\n",
       "      <td>False</td>\n",
       "      <td>False</td>\n",
       "      <td>False</td>\n",
       "      <td>False</td>\n",
       "      <td>False</td>\n",
       "      <td>OC12</td>\n",
       "      <td>False</td>\n",
       "      <td>False</td>\n",
       "      <td>False</td>\n",
       "      <td>True</td>\n",
       "      <td>False</td>\n",
       "      <td>51</td>\n",
       "      <td>False</td>\n",
       "    </tr>\n",
       "  </tbody>\n",
       "</table>\n",
       "</div>"
      ],
      "text/plain": [
       "  DiagnosisCode  ForcedVitalCapacity  ForcedExpirationVolume  \\\n",
       "0          DGN2                 2.88                    2.16   \n",
       "1          DGN3                 3.40                    1.88   \n",
       "\n",
       "  ZubrodPerformanceStatus  PainBeforeSurgery  HaemoptysisBeforeSurgery  \\\n",
       "0                    PRZ1              False                     False   \n",
       "1                    PRZ0              False                     False   \n",
       "\n",
       "   DyspnoeaBeforeSurgery  CoughBeforeSurgery  WeaknessBeforeSurgery  \\\n",
       "0                  False                True                   True   \n",
       "1                  False               False                  False   \n",
       "\n",
       "  OriginalTumourSize  Type2Diabetes  MIUpto6  PeripheralArterialDiseases  \\\n",
       "0               OC14          False    False                       False   \n",
       "1               OC12          False    False                       False   \n",
       "\n",
       "   Smoking  Asthma  AgeAtSurgery  Risk(1yr)  \n",
       "0     True   False            60      False  \n",
       "1     True   False            51      False  "
      ]
     },
     "execution_count": 242,
     "metadata": {
      "tags": []
     },
     "output_type": "execute_result"
    }
   ],
   "source": [
    "data.head(2)"
   ]
  },
  {
   "cell_type": "code",
   "execution_count": 0,
   "metadata": {
    "colab": {
     "base_uri": "https://localhost:8080/",
     "height": 100
    },
    "colab_type": "code",
    "executionInfo": {
     "elapsed": 8775,
     "status": "ok",
     "timestamp": 1591010434483,
     "user": {
      "displayName": "Mukesh Kumar",
      "photoUrl": "https://lh3.googleusercontent.com/a-/AOh14GjlcDlZf8Lr8SWM0ugfq17HC9TF79sbME_lLaRW=s64",
      "userId": "12802686450045644565"
     },
     "user_tz": -330
    },
    "id": "6wIQ-bKenX11",
    "outputId": "afd266bb-fdfd-437b-b05e-3d19e65536a0"
   },
   "outputs": [
    {
     "data": {
      "text/html": [
       "<div>\n",
       "<style scoped>\n",
       "    .dataframe tbody tr th:only-of-type {\n",
       "        vertical-align: middle;\n",
       "    }\n",
       "\n",
       "    .dataframe tbody tr th {\n",
       "        vertical-align: top;\n",
       "    }\n",
       "\n",
       "    .dataframe thead th {\n",
       "        text-align: right;\n",
       "    }\n",
       "</style>\n",
       "<table border=\"1\" class=\"dataframe\">\n",
       "  <thead>\n",
       "    <tr style=\"text-align: right;\">\n",
       "      <th></th>\n",
       "      <th>DiagnosisCode</th>\n",
       "      <th>ForcedVitalCapacity</th>\n",
       "      <th>ForcedExpirationVolume</th>\n",
       "      <th>ZubrodPerformanceStatus</th>\n",
       "      <th>PainBeforeSurgery</th>\n",
       "      <th>HaemoptysisBeforeSurgery</th>\n",
       "      <th>DyspnoeaBeforeSurgery</th>\n",
       "      <th>CoughBeforeSurgery</th>\n",
       "      <th>WeaknessBeforeSurgery</th>\n",
       "      <th>OriginalTumourSize</th>\n",
       "      <th>Type2Diabetes</th>\n",
       "      <th>MIUpto6</th>\n",
       "      <th>PeripheralArterialDiseases</th>\n",
       "      <th>Smoking</th>\n",
       "      <th>Asthma</th>\n",
       "      <th>AgeAtSurgery</th>\n",
       "      <th>Risk(1yr)</th>\n",
       "    </tr>\n",
       "  </thead>\n",
       "  <tbody>\n",
       "    <tr>\n",
       "      <th>Type</th>\n",
       "      <td>object</td>\n",
       "      <td>float64</td>\n",
       "      <td>float64</td>\n",
       "      <td>object</td>\n",
       "      <td>bool</td>\n",
       "      <td>bool</td>\n",
       "      <td>bool</td>\n",
       "      <td>bool</td>\n",
       "      <td>bool</td>\n",
       "      <td>object</td>\n",
       "      <td>bool</td>\n",
       "      <td>bool</td>\n",
       "      <td>bool</td>\n",
       "      <td>bool</td>\n",
       "      <td>bool</td>\n",
       "      <td>int64</td>\n",
       "      <td>bool</td>\n",
       "    </tr>\n",
       "  </tbody>\n",
       "</table>\n",
       "</div>"
      ],
      "text/plain": [
       "     DiagnosisCode ForcedVitalCapacity ForcedExpirationVolume  \\\n",
       "Type        object             float64                float64   \n",
       "\n",
       "     ZubrodPerformanceStatus PainBeforeSurgery HaemoptysisBeforeSurgery  \\\n",
       "Type                  object              bool                     bool   \n",
       "\n",
       "     DyspnoeaBeforeSurgery CoughBeforeSurgery WeaknessBeforeSurgery  \\\n",
       "Type                  bool               bool                  bool   \n",
       "\n",
       "     OriginalTumourSize Type2Diabetes MIUpto6 PeripheralArterialDiseases  \\\n",
       "Type             object          bool    bool                       bool   \n",
       "\n",
       "     Smoking Asthma AgeAtSurgery Risk(1yr)  \n",
       "Type    bool   bool        int64      bool  "
      ]
     },
     "execution_count": 243,
     "metadata": {
      "tags": []
     },
     "output_type": "execute_result"
    }
   ],
   "source": [
    "type_frame = pd.DataFrame(data = data.dtypes, columns = ['Type'])\n",
    "type_frame.transpose()"
   ]
  },
  {
   "cell_type": "markdown",
   "metadata": {
    "colab_type": "text",
    "id": "rM0sREvxIGLO"
   },
   "source": [
    "**Observation:**\n",
    "\n",
    "- It turns out that **all** the **features have correct type** with respect to information stores in cells."
   ]
  },
  {
   "cell_type": "markdown",
   "metadata": {
    "colab_type": "text",
    "id": "l1R7AhnVnvVE"
   },
   "source": [
    "<a id = Section54></a>\n",
    "### **5.4 Post Profiling Report**\n",
    "\n",
    "- In post profiling, we identify the changes over cleansed data."
   ]
  },
  {
   "cell_type": "code",
   "execution_count": 0,
   "metadata": {
    "colab": {},
    "colab_type": "code",
    "id": "4mw9cRCtnwOD"
   },
   "outputs": [],
   "source": [
    "#profile = ProfileReport(df = data)\n",
    "#profile.to_file(output_file = 'Post Profiling Report.html')\n",
    "#print('Accomplished!')"
   ]
  },
  {
   "cell_type": "code",
   "execution_count": 0,
   "metadata": {
    "colab": {},
    "colab_type": "code",
    "id": "P__MdJa9nzC7"
   },
   "outputs": [],
   "source": [
    "#from google.colab import files                   # Use only if you are using Google Colab, otherwise remove it\n",
    "#files.download('Post Profiling Report.html')     # Use only if you are using Google Colab, otherwise remove it"
   ]
  },
  {
   "cell_type": "markdown",
   "metadata": {
    "colab_type": "text",
    "id": "9zO1dm_CIRfW"
   },
   "source": [
    "**Observation:**\n",
    "\n",
    "- Report shows that **there are 17 features** out of which **11 are boolean, 3 are numeric and 3 are categorical**.\n",
    "- Additionally, **there is no missing data** present in our dataset.\n",
    "- **Rest** of the **information is intact** and available in files provided."
   ]
  },
  {
   "cell_type": "markdown",
   "metadata": {
    "colab_type": "text",
    "id": "J0eFErcTp1Pf"
   },
   "source": [
    "<a id = Section6></a>\n",
    "\n",
    "---\n",
    "# **6. Exploratory Data Analysis**\n",
    "---"
   ]
  },
  {
   "cell_type": "markdown",
   "metadata": {
    "colab_type": "text",
    "id": "L3w4o2fCJDBO"
   },
   "source": [
    "**<h4>Question 1: What is the proportion of patients who survived and who did not after a year?</h4>**"
   ]
  },
  {
   "cell_type": "code",
   "execution_count": 0,
   "metadata": {
    "colab": {
     "base_uri": "https://localhost:8080/",
     "height": 448
    },
    "colab_type": "code",
    "executionInfo": {
     "elapsed": 8667,
     "status": "ok",
     "timestamp": 1591010434488,
     "user": {
      "displayName": "Mukesh Kumar",
      "photoUrl": "https://lh3.googleusercontent.com/a-/AOh14GjlcDlZf8Lr8SWM0ugfq17HC9TF79sbME_lLaRW=s64",
      "userId": "12802686450045644565"
     },
     "user_tz": -330
    },
    "id": "EFVn871MJFvk",
    "outputId": "ef646290-b36f-4db3-e1fa-e10bcaf8490a"
   },
   "outputs": [
    {
     "data": {
      "image/png": "[encoded data removed]",
      "text/plain": [
       "<Figure size 983.52x552.96 with 1 Axes>"
      ]
     },
     "metadata": {
      "tags": []
     },
     "output_type": "display_data"
    }
   ],
   "source": [
    "figure = plt.figure(figsize = [12, 10])\n",
    "space = np.ones(2)/10\n",
    "data['Risk(1yr)'].value_counts().plot(kind = 'pie', explode = space, fontsize = 14, autopct = '%3.1f%%', wedgeprops = dict(width = 0.15), \n",
    "                                    shadow = True, startangle = 160, figsize = [13.66, 7.68], legend = True, labels = ['', ''])\n",
    "plt.legend(['Survived', 'Died'])\n",
    "plt.ylabel('Risk(1yr)', size = 14)\n",
    "plt.show()"
   ]
  },
  {
   "cell_type": "markdown",
   "metadata": {
    "colab_type": "text",
    "id": "3VikmHPRJ05e"
   },
   "source": [
    "**Observation:**\n",
    "\n",
    "- Around **85% of patients survived** on post surgery after one year while around **15% of patients didn't survive**."
   ]
  },
  {
   "cell_type": "markdown",
   "metadata": {
    "colab_type": "text",
    "id": "SUv2k7N1KGlV"
   },
   "source": [
    "**<h4>Question 2: What is the performance of patients in zubrod scale with respect to survival?</h4>**\n",
    "\n",
    "**Note:**\n",
    "**Zubrod Scale**\n",
    "- A rating scale measuring the ability of a cancer patient to carry out the activities of daily living. \n",
    "- **PRZ0:** (fully active, unrestricted by disease),\n",
    "- **PRZ1:** (able to carry out light work), \n",
    "- **PRZ2:** (ambulatory but resting for as much as 50% of the day)"
   ]
  },
  {
   "cell_type": "code",
   "execution_count": 0,
   "metadata": {
    "colab": {
     "base_uri": "https://localhost:8080/",
     "height": 464
    },
    "colab_type": "code",
    "executionInfo": {
     "elapsed": 8636,
     "status": "ok",
     "timestamp": 1591010434489,
     "user": {
      "displayName": "Mukesh Kumar",
      "photoUrl": "https://lh3.googleusercontent.com/a-/AOh14GjlcDlZf8Lr8SWM0ugfq17HC9TF79sbME_lLaRW=s64",
      "userId": "12802686450045644565"
     },
     "user_tz": -330
    },
    "id": "jc4CknziKG64",
    "outputId": "30413423-d3a5-48fc-fb4d-c660399d84dc"
   },
   "outputs": [
    {
     "data": {
      "image/png": "[encoded data removed]",
      "text/plain": [
       "<Figure size 864x504 with 1 Axes>"
      ]
     },
     "metadata": {
      "needs_background": "light",
      "tags": []
     },
     "output_type": "display_data"
    }
   ],
   "source": [
    "figure = plt.figure(figsize = [12, 7])\n",
    "ax = sns.countplot(x = 'ZubrodPerformanceStatus', hue = 'Risk(1yr)', data = data, palette = ['#F67088', '#38A7D0'])\n",
    "total = data.shape[0]\n",
    "\n",
    "for p in ax.patches:\n",
    "  percentage = '{:.2f}%'.format(100 * p.get_height() / total)\n",
    "  x = p.get_x() + p.get_width() / 3\n",
    "  y = p.get_y() + p.get_height()\n",
    "  ax.annotate(percentage, (x, y))\n",
    "\n",
    "plt.xlabel('Performance Status (Zubrod)', size = 14)\n",
    "plt.ylabel('Percentage of Patients', size = 14)\n",
    "plt.legend(labels = ['Survived', 'Died'])\n",
    "plt.title('Performance of Patients vs Risk(1yr)', size = 16)\n",
    "plt.show()"
   ]
  },
  {
   "cell_type": "markdown",
   "metadata": {
    "colab_type": "text",
    "id": "7gIZHCY_M0bc"
   },
   "source": [
    "**Observation:**\n",
    "\n",
    "- **Patients** who had **performance of PRZ1** type and **survived** are **approx 5X** more **than** the **patents who didn't**.\n",
    "- **Patients** who had **performance of PRZ0** type and **survived** are **approx 12X** more **than** the **patients who didn't**.\n",
    "- **Patients** who had **performance of PRZ2** type and **survived** are **approx 3X** more **than** the **patients who didn't**."
   ]
  },
  {
   "cell_type": "markdown",
   "metadata": {
    "colab_type": "text",
    "id": "ZQRev65jNvTY"
   },
   "source": [
    "**<h4>Question 3: Is there any association between pain before surgery and survival risk?</h4>**"
   ]
  },
  {
   "cell_type": "code",
   "execution_count": 0,
   "metadata": {
    "colab": {
     "base_uri": "https://localhost:8080/",
     "height": 464
    },
    "colab_type": "code",
    "executionInfo": {
     "elapsed": 8600,
     "status": "ok",
     "timestamp": 1591010434490,
     "user": {
      "displayName": "Mukesh Kumar",
      "photoUrl": "https://lh3.googleusercontent.com/a-/AOh14GjlcDlZf8Lr8SWM0ugfq17HC9TF79sbME_lLaRW=s64",
      "userId": "12802686450045644565"
     },
     "user_tz": -330
    },
    "id": "MPziA9GwNvsV",
    "outputId": "17b4bade-c649-4961-9d96-b7a9abfa64ce"
   },
   "outputs": [
    {
     "data": {
      "image/png": "[encoded data removed]",
      "text/plain": [
       "<Figure size 864x504 with 1 Axes>"
      ]
     },
     "metadata": {
      "needs_background": "light",
      "tags": []
     },
     "output_type": "display_data"
    }
   ],
   "source": [
    "figure = plt.figure(figsize = [12, 7])\n",
    "\n",
    "ax = sns.countplot(x = 'PainBeforeSurgery', hue = 'Risk(1yr)', data = data, palette = ['#56DB7F', '#DB5E56'])\n",
    "total = data.shape[0]\n",
    "\n",
    "for p in ax.patches:\n",
    "  percentage = '{:.2f}%'.format(100 * p.get_height() / total)\n",
    "  x = p.get_x() + p.get_width() / 3\n",
    "  y = p.get_y() + p.get_height()\n",
    "  ax.annotate(percentage, (x, y))\n",
    "\n",
    "plt.xlabel('Pain Before Surgery', size = 14)\n",
    "plt.ylabel('Percentage of Patients', size = 14)\n",
    "plt.xticks(ticks = [0, 1], labels = ['No', 'Yes'], rotation = 0)\n",
    "plt.legend(labels = ['Survived', 'Died'])\n",
    "plt.title('Pain Before Surgery vs Risk(1yr)', size = 16)\n",
    "plt.show()"
   ]
  },
  {
   "cell_type": "markdown",
   "metadata": {
    "colab_type": "text",
    "id": "ECC9p6a4QoMK"
   },
   "source": [
    "**Observation:**\n",
    "\n",
    "- **Patients** who **didn't have any pain before surgery** and **survived** are **approx 6X** more than the patients who didn't survive.\n",
    "- **Patients** who **had pain before surgery** and **survived are approx 3X** more than the patients who didn't survive."
   ]
  },
  {
   "cell_type": "markdown",
   "metadata": {
    "colab_type": "text",
    "id": "B0y2k9PvUBlB"
   },
   "source": [
    "**<h4>Question 4: Is there any association between haemoptysis (cough with blood) before surgery and survival risk?</h4>**"
   ]
  },
  {
   "cell_type": "code",
   "execution_count": 0,
   "metadata": {
    "colab": {
     "base_uri": "https://localhost:8080/",
     "height": 464
    },
    "colab_type": "code",
    "executionInfo": {
     "elapsed": 8571,
     "status": "ok",
     "timestamp": 1591010434491,
     "user": {
      "displayName": "Mukesh Kumar",
      "photoUrl": "https://lh3.googleusercontent.com/a-/AOh14GjlcDlZf8Lr8SWM0ugfq17HC9TF79sbME_lLaRW=s64",
      "userId": "12802686450045644565"
     },
     "user_tz": -330
    },
    "id": "3jTr2fxXUB75",
    "outputId": "b052fe92-d906-404f-bd6a-681fb42277e7"
   },
   "outputs": [
    {
     "data": {
      "image/png": "[encoded data removed]",
      "text/plain": [
       "<Figure size 864x504 with 1 Axes>"
      ]
     },
     "metadata": {
      "needs_background": "light",
      "tags": []
     },
     "output_type": "display_data"
    }
   ],
   "source": [
    "figure = plt.figure(figsize = [12, 7])\n",
    "\n",
    "ax = sns.countplot(x = 'HaemoptysisBeforeSurgery', hue = 'Risk(1yr)', data = data, palette = ['#33A02C', '#E31A1C'])\n",
    "total = data.shape[0]\n",
    "\n",
    "for p in ax.patches:\n",
    "  percentage = '{:.2f}%'.format(100 * p.get_height() / total)\n",
    "  x = p.get_x() + p.get_width() / 3\n",
    "  y = p.get_y() + p.get_height()\n",
    "  ax.annotate(percentage, (x, y))\n",
    "\n",
    "plt.xlabel('Haemoptysis Before Surgery', size = 14)\n",
    "plt.ylabel('Percentage of Patients', size = 14)\n",
    "plt.xticks(ticks = [0, 1], labels = ['No', 'Yes'], rotation = 0)\n",
    "plt.legend(labels = ['Survived', 'Died'])\n",
    "plt.title('Haemoptysis Before Surgery vs Risk(1yr)', size = 16)\n",
    "plt.show()"
   ]
  },
  {
   "cell_type": "markdown",
   "metadata": {
    "colab_type": "text",
    "id": "GaXfdpgaWy6t"
   },
   "source": [
    "**Observation:**\n",
    "\n",
    "- **Patients** who **didn't have any haemoptysis before surgery** and **survived** are **approx 6X** more **than** the **patients who didn't**.\n",
    "- **Patients** who **had haemoptysis before surgery** and **survived** are **approx 4X** more **than** the **patients who didn't**."
   ]
  },
  {
   "cell_type": "markdown",
   "metadata": {
    "colab_type": "text",
    "id": "w63gc5_0XJs6"
   },
   "source": [
    "**<h4>Question 5: Is there any association between cough before surgery and survival risk?</h4>**"
   ]
  },
  {
   "cell_type": "code",
   "execution_count": 0,
   "metadata": {
    "colab": {
     "base_uri": "https://localhost:8080/",
     "height": 464
    },
    "colab_type": "code",
    "executionInfo": {
     "elapsed": 11753,
     "status": "ok",
     "timestamp": 1591010437704,
     "user": {
      "displayName": "Mukesh Kumar",
      "photoUrl": "https://lh3.googleusercontent.com/a-/AOh14GjlcDlZf8Lr8SWM0ugfq17HC9TF79sbME_lLaRW=s64",
      "userId": "12802686450045644565"
     },
     "user_tz": -330
    },
    "id": "FIZZOgU8XJb2",
    "outputId": "0d2edfef-7f63-476c-fc2b-886d257e7995"
   },
   "outputs": [
    {
     "data": {
      "image/png": "[encoded data removed]",
      "text/plain": [
       "<Figure size 864x504 with 1 Axes>"
      ]
     },
     "metadata": {
      "needs_background": "light",
      "tags": []
     },
     "output_type": "display_data"
    }
   ],
   "source": [
    "figure = plt.figure(figsize = [12, 7])\n",
    "\n",
    "ax = sns.countplot(x = 'CoughBeforeSurgery', hue = 'Risk(1yr)', data = data, palette = ['#91DB56', '#DB5E56'])\n",
    "total = data.shape[0]\n",
    "\n",
    "for p in ax.patches:\n",
    "  percentage = '{:.2f}%'.format(100 * p.get_height() / total)\n",
    "  x = p.get_x() + p.get_width() / 3\n",
    "  y = p.get_y() + p.get_height()\n",
    "  ax.annotate(percentage, (x, y))\n",
    "\n",
    "plt.xlabel('Cough Before Surgery', size = 14)\n",
    "plt.ylabel('Percentage of Patients', size = 14)\n",
    "plt.xticks(ticks = [0, 1], labels = ['No', 'Yes'], rotation = 0)\n",
    "plt.legend(labels = ['Survived', 'Died'])\n",
    "plt.title('Cough Before Surgery vs Risk(1yr)', size = 16)\n",
    "plt.show()"
   ]
  },
  {
   "cell_type": "markdown",
   "metadata": {
    "colab_type": "text",
    "id": "54eZFT6QXznY"
   },
   "source": [
    "**Observation:**\n",
    "\n",
    "- **Patients** who **didn't have any cough before surgery** and **survived** are **approx 9X** more **than** the **patients who didn't**.\n",
    "- **Patients** who **had cough before surgery** and **survived** are **approx 5X** more **than** the **patients who didn't**."
   ]
  },
  {
   "cell_type": "markdown",
   "metadata": {
    "colab_type": "text",
    "id": "eXau_ViBYSZf"
   },
   "source": [
    "**<h4>Question 6: Is there any association between dyspnoea (difficult in breathing) before surgery and survival risk?</h4>**"
   ]
  },
  {
   "cell_type": "code",
   "execution_count": 0,
   "metadata": {
    "colab": {
     "base_uri": "https://localhost:8080/",
     "height": 464
    },
    "colab_type": "code",
    "executionInfo": {
     "elapsed": 11727,
     "status": "ok",
     "timestamp": 1591010437705,
     "user": {
      "displayName": "Mukesh Kumar",
      "photoUrl": "https://lh3.googleusercontent.com/a-/AOh14GjlcDlZf8Lr8SWM0ugfq17HC9TF79sbME_lLaRW=s64",
      "userId": "12802686450045644565"
     },
     "user_tz": -330
    },
    "id": "y1CKm7WUYTN-",
    "outputId": "d7313b19-6530-4aaf-d1f7-52a2366915be"
   },
   "outputs": [
    {
     "data": {
      "image/png": "[encoded data removed]",
      "text/plain": [
       "<Figure size 864x504 with 1 Axes>"
      ]
     },
     "metadata": {
      "needs_background": "light",
      "tags": []
     },
     "output_type": "display_data"
    }
   ],
   "source": [
    "figure = plt.figure(figsize = [12, 7])\n",
    "\n",
    "ax = sns.countplot(x = 'DyspnoeaBeforeSurgery', hue = 'Risk(1yr)', data = data, palette = ['#35ACA4', '#F67088'])\n",
    "total = data.shape[0]\n",
    "\n",
    "for p in ax.patches:\n",
    "  percentage = '{:.2f}%'.format(100 * p.get_height() / total)\n",
    "  x = p.get_x() + p.get_width() / 3\n",
    "  y = p.get_y() + p.get_height()\n",
    "  ax.annotate(percentage, (x, y))\n",
    "\n",
    "plt.xlabel('Dyspnoea Before Surgery', size = 14)\n",
    "plt.ylabel('Percentage of Patients', size = 14)\n",
    "plt.xticks(ticks = [0, 1], labels = ['No', 'Yes'], rotation = 0)\n",
    "plt.legend(labels = ['Survived', 'Died'])\n",
    "plt.title('Dyspnoea Before Surgery vs Risk(1yr)', size = 16)\n",
    "plt.show()"
   ]
  },
  {
   "cell_type": "markdown",
   "metadata": {
    "colab_type": "text",
    "id": "Cxzk56D-Yvyz"
   },
   "source": [
    "**Observation:**\n",
    "\n",
    "- **Patients** who **didn't have any dyspnoea before surgery** and **survived** are **approx 6X more than** the **patients** who **didn't**.\n",
    "- **Patients** who **had dyspnoea before surgery** and **survived** are **approx 2.5X more than** the **patients** who **didn't**."
   ]
  },
  {
   "cell_type": "markdown",
   "metadata": {
    "colab_type": "text",
    "id": "wGc-puFqZO_b"
   },
   "source": [
    "**<h4>Question 7: Is there any association between weakness before surgery and survival risk?</h4>**"
   ]
  },
  {
   "cell_type": "code",
   "execution_count": 0,
   "metadata": {
    "colab": {
     "base_uri": "https://localhost:8080/",
     "height": 464
    },
    "colab_type": "code",
    "executionInfo": {
     "elapsed": 11700,
     "status": "ok",
     "timestamp": 1591010437706,
     "user": {
      "displayName": "Mukesh Kumar",
      "photoUrl": "https://lh3.googleusercontent.com/a-/AOh14GjlcDlZf8Lr8SWM0ugfq17HC9TF79sbME_lLaRW=s64",
      "userId": "12802686450045644565"
     },
     "user_tz": -330
    },
    "id": "WWZG6cjfZP2E",
    "outputId": "80039b21-07a2-44af-a06c-4ae84c1cc6e8"
   },
   "outputs": [
    {
     "data": {
      "image/png": "[encoded data removed]",
      "text/plain": [
       "<Figure size 864x504 with 1 Axes>"
      ]
     },
     "metadata": {
      "needs_background": "light",
      "tags": []
     },
     "output_type": "display_data"
    }
   ],
   "source": [
    "figure = plt.figure(figsize = [12, 7])\n",
    "\n",
    "ax = sns.countplot(x = 'WeaknessBeforeSurgery', hue = 'Risk(1yr)', data = data, palette = ['#A6D854', '#FC8D62'])\n",
    "total = data.shape[0]\n",
    "\n",
    "for p in ax.patches:\n",
    "  percentage = '{:.2f}%'.format(100 * p.get_height() / total)\n",
    "  x = p.get_x() + p.get_width() / 3\n",
    "  y = p.get_y() + p.get_height()\n",
    "  ax.annotate(percentage, (x, y))\n",
    "\n",
    "plt.xlabel('Weakness Before Surgery', size = 14)\n",
    "plt.ylabel('Percentage of Patients', size = 14)\n",
    "plt.xticks(ticks = [0, 1], labels = ['No', 'Yes'], rotation = 0)\n",
    "plt.legend(labels = ['Survived', 'Died'])\n",
    "plt.title('Weakness Before Surgery vs Risk(1yr)', size = 16)\n",
    "plt.show()"
   ]
  },
  {
   "cell_type": "markdown",
   "metadata": {
    "colab_type": "text",
    "id": "VRBadnKOaEaB"
   },
   "source": [
    "**Observation:**\n",
    "\n",
    "- **Patients** who **didn't had any weakness before surgery** and **survived** are **approx 6.5X more than** the **patients** who **didn't**.\n",
    "- **Patients** who **had weakness before surgery** and **survived** are **approx 3.5X more than** the **patients** who **didn't**."
   ]
  },
  {
   "cell_type": "markdown",
   "metadata": {
    "colab_type": "text",
    "id": "RL6RPs8gadtw"
   },
   "source": [
    "**<h4>Question 8: What is the proportion of survival with respect to each tumour size?</h4>**\n",
    "\n",
    "**Note:** Size of the original tumour, from OC11 (smallest) to OC14 (largest) [OC11,OC14,OC12,OC13]"
   ]
  },
  {
   "cell_type": "code",
   "execution_count": 0,
   "metadata": {
    "colab": {},
    "colab_type": "code",
    "id": "AqKOoDfKbqNQ"
   },
   "outputs": [],
   "source": [
    "oc11_data = data[data['OriginalTumourSize'] == 'OC11']\n",
    "oc12_data = data[data['OriginalTumourSize'] == 'OC12']\n",
    "oc13_data = data[data['OriginalTumourSize'] == 'OC13']\n",
    "oc14_data = data[data['OriginalTumourSize'] == 'OC14']"
   ]
  },
  {
   "cell_type": "code",
   "execution_count": 0,
   "metadata": {
    "colab": {
     "base_uri": "https://localhost:8080/",
     "height": 564
    },
    "colab_type": "code",
    "executionInfo": {
     "elapsed": 11648,
     "status": "ok",
     "timestamp": 1591010437708,
     "user": {
      "displayName": "Mukesh Kumar",
      "photoUrl": "https://lh3.googleusercontent.com/a-/AOh14GjlcDlZf8Lr8SWM0ugfq17HC9TF79sbME_lLaRW=s64",
      "userId": "12802686450045644565"
     },
     "user_tz": -330
    },
    "id": "dCc8F6PAadZa",
    "outputId": "974f22dd-2627-43dd-9618-550f62bab65c"
   },
   "outputs": [
    {
     "data": {
      "image/png": "[encoded data removed]",
      "text/plain": [
       "<Figure size 983.52x552.96 with 4 Axes>"
      ]
     },
     "metadata": {
      "tags": []
     },
     "output_type": "display_data"
    }
   ],
   "source": [
    "figure = plt.figure(figsize = [40, 15])\n",
    "plt.subplot(2, 2, 1)\n",
    "oc11_data['Risk(1yr)'].value_counts().plot(kind = 'pie', fontsize = 14, autopct = '%3.1f%%', wedgeprops = dict(width = 0.15), \n",
    "                                    shadow = True, startangle = 160, figsize = [13.66, 7.68], legend = True, labels = ['', ''], colors = ['#2ECC71', '#E74C3C'])\n",
    "plt.legend(['Survived', 'Died'])\n",
    "plt.ylabel('Tumour OC11', size = 14)\n",
    "\n",
    "plt.subplot(2, 2, 2)\n",
    "oc12_data['Risk(1yr)'].value_counts().plot(kind = 'pie', fontsize = 14, autopct = '%3.1f%%', wedgeprops = dict(width = 0.15), \n",
    "                                    shadow = True, startangle = 160, figsize = [13.66, 7.68], legend = True, labels = ['', ''], colors = ['#2ECC71', '#E74C3C'])\n",
    "plt.legend(['Survived', 'Died'])\n",
    "plt.ylabel('Tumour OC12', size = 14)\n",
    "\n",
    "plt.subplot(2, 2, 3)\n",
    "oc13_data['Risk(1yr)'].value_counts().plot(kind = 'pie', fontsize = 14, autopct = '%3.1f%%', wedgeprops = dict(width = 0.15), \n",
    "                                    shadow = True, startangle = 160, figsize = [13.66, 7.68], legend = True, labels = ['', ''], colors = ['#2ECC71', '#E74C3C'])\n",
    "plt.legend(['Survived', 'Died'])\n",
    "plt.ylabel('Tumour OC13', size = 14)\n",
    "\n",
    "plt.subplot(2, 2, 4)\n",
    "oc14_data['Risk(1yr)'].value_counts().plot(kind = 'pie', fontsize = 14, autopct = '%3.1f%%', wedgeprops = dict(width = 0.15), \n",
    "                                    shadow = True, startangle = 160, figsize = [13.66, 7.68], legend = True, labels = ['', ''], colors = ['#2ECC71', '#E74C3C'])\n",
    "plt.legend(['Survived', 'Died'])\n",
    "plt.ylabel('Tumour OC14', size = 14)\n",
    "\n",
    "plt.tight_layout(pad = 1.0)\n",
    "plt.show()"
   ]
  },
  {
   "cell_type": "markdown",
   "metadata": {
    "colab_type": "text",
    "id": "xrxqzCXbe8fz"
   },
   "source": [
    "**Observation:**\n",
    "\n",
    "- **Patients** who had **tumour type OC11 & OC12 had higher chances of survival** than any other type of tumour type."
   ]
  },
  {
   "cell_type": "markdown",
   "metadata": {
    "colab_type": "text",
    "id": "Wp180Sz6f0Hm"
   },
   "source": [
    "**<h4>Question 9: Is there any association between type 2 diabetes and survival risk?</h4>**"
   ]
  },
  {
   "cell_type": "code",
   "execution_count": 0,
   "metadata": {
    "colab": {
     "base_uri": "https://localhost:8080/",
     "height": 464
    },
    "colab_type": "code",
    "executionInfo": {
     "elapsed": 11617,
     "status": "ok",
     "timestamp": 1591010437710,
     "user": {
      "displayName": "Mukesh Kumar",
      "photoUrl": "https://lh3.googleusercontent.com/a-/AOh14GjlcDlZf8Lr8SWM0ugfq17HC9TF79sbME_lLaRW=s64",
      "userId": "12802686450045644565"
     },
     "user_tz": -330
    },
    "id": "Lry2BUSsfzrY",
    "outputId": "aa721d7e-9ea3-49ca-8984-ae29e9fd6ed7"
   },
   "outputs": [
    {
     "data": {
      "image/png": "[encoded data removed]",
      "text/plain": [
       "<Figure size 864x504 with 1 Axes>"
      ]
     },
     "metadata": {
      "needs_background": "light",
      "tags": []
     },
     "output_type": "display_data"
    }
   ],
   "source": [
    "figure = plt.figure(figsize = [12, 7])\n",
    "\n",
    "ax = sns.countplot(x = 'Type2Diabetes', hue = 'Risk(1yr)', data = data, palette = ['#7BB274', '#825F87'])\n",
    "total = data.shape[0]\n",
    "\n",
    "for p in ax.patches:\n",
    "  percentage = '{:.2f}%'.format(100 * p.get_height() / total)\n",
    "  x = p.get_x() + p.get_width() / 3\n",
    "  y = p.get_y() + p.get_height()\n",
    "  ax.annotate(percentage, (x, y))\n",
    "\n",
    "plt.xlabel('Type 2 Diabetes', size = 14)\n",
    "plt.ylabel('Percentage of Patients', size = 14)\n",
    "plt.xticks(ticks = [0, 1], labels = ['No', 'Yes'], rotation = 0)\n",
    "plt.legend(labels = ['Survived', 'Died'])\n",
    "plt.title('Type 2 Diabetes vs Risk(1yr)', size = 16)\n",
    "plt.show()"
   ]
  },
  {
   "cell_type": "markdown",
   "metadata": {
    "colab_type": "text",
    "id": "L5XQU5kyiPsB"
   },
   "source": [
    "**Observation:**\n",
    "\n",
    "- **Patients** who **didn't have any type 2 diabetes** and **survived** are **approx 6X more than** the **patients** who **didn't**.\n",
    "- **Patients** who **had type 2 diabetes** and **survived** are **approx 2.5X more than** the **patients** who **didn't**."
   ]
  },
  {
   "cell_type": "markdown",
   "metadata": {
    "colab_type": "text",
    "id": "dsqEPlzOi6bS"
   },
   "source": [
    "**<h4>Question 10: What is the association of forced vital capacity at different age of the patients?</h4>**\n",
    "\n",
    "- **Forced Vital Capacity:** Maximum amount of air a person can expel from the lungs after a maximum inhalation."
   ]
  },
  {
   "cell_type": "code",
   "execution_count": 0,
   "metadata": {
    "colab": {
     "base_uri": "https://localhost:8080/",
     "height": 433
    },
    "colab_type": "code",
    "executionInfo": {
     "elapsed": 11585,
     "status": "ok",
     "timestamp": 1591010437711,
     "user": {
      "displayName": "Mukesh Kumar",
      "photoUrl": "https://lh3.googleusercontent.com/a-/AOh14GjlcDlZf8Lr8SWM0ugfq17HC9TF79sbME_lLaRW=s64",
      "userId": "12802686450045644565"
     },
     "user_tz": -330
    },
    "id": "s4guX2CvmgtJ",
    "outputId": "a0b04f2a-d47e-49c9-ce36-914ecb91ef78"
   },
   "outputs": [
    {
     "data": {
      "image/png": "[encoded data removed]",
      "text/plain": [
       "<Figure size 1080x504 with 1 Axes>"
      ]
     },
     "metadata": {
      "needs_background": "light",
      "tags": []
     },
     "output_type": "display_data"
    }
   ],
   "source": [
    "figure = plt.figure(figsize = [15, 7])\n",
    "sns.scatterplot(x = 'AgeAtSurgery', y = 'ForcedVitalCapacity', data = data, palette = ['#F67088', '#38A7D0'])\n",
    "plt.xlabel('Age', size = 14)\n",
    "plt.ylabel('Forced Vital Capacity', size = 14)\n",
    "plt.title('Correlation of Forced Vital Capacity at Different Age', size = 16)\n",
    "plt.tight_layout(pad = 3.0)\n",
    "plt.show()"
   ]
  },
  {
   "cell_type": "markdown",
   "metadata": {
    "colab_type": "text",
    "id": "qN4MqYbbn5yy"
   },
   "source": [
    "**Observation:**\n",
    "\n",
    "- There is **no trend betwen age and forced vital capacity**.\n",
    "- **Some patients** who have **age less than 70 have high forced vital capacity** than the patients above age 70."
   ]
  },
  {
   "cell_type": "markdown",
   "metadata": {
    "colab_type": "text",
    "id": "9r8mQnepp8hO"
   },
   "source": [
    "<a id = Section7></a>\n",
    "\n",
    "---\n",
    "# **7. Post Data Processing & Feature Selection**\n",
    "---\n",
    "\n",
    "- In this part we will **perform encoding over categorical features** and **feed it** to the **Random Forest** because machines can't understand human language.\n",
    "- **Random Forest** will then **identify important features** for our model **using threshold** over the information gain over reduction in impurity.\n",
    "- And **finally** we will **split** our **data** for the **model development**."
   ]
  },
  {
   "cell_type": "markdown",
   "metadata": {
    "colab_type": "text",
    "id": "wpKYKjluqC8L"
   },
   "source": [
    "<a id = Section71></a>\n",
    "### **7.1 Encoding Categorical Features**\n",
    "\n",
    "- In this part we will perform transformation of categorical features to numeric using get_dummies()."
   ]
  },
  {
   "cell_type": "markdown",
   "metadata": {
    "colab_type": "text",
    "id": "SHAownE8qaoc"
   },
   "source": [
    "**Before Transformation**"
   ]
  },
  {
   "cell_type": "code",
   "execution_count": 0,
   "metadata": {
    "colab": {
     "base_uri": "https://localhost:8080/",
     "height": 100
    },
    "colab_type": "code",
    "executionInfo": {
     "elapsed": 11528,
     "status": "ok",
     "timestamp": 1591010437712,
     "user": {
      "displayName": "Mukesh Kumar",
      "photoUrl": "https://lh3.googleusercontent.com/a-/AOh14GjlcDlZf8Lr8SWM0ugfq17HC9TF79sbME_lLaRW=s64",
      "userId": "12802686450045644565"
     },
     "user_tz": -330
    },
    "id": "v9mUOVDQp0_Z",
    "outputId": "947c7f4f-c6fc-4e4d-cd0c-421988c96503"
   },
   "outputs": [
    {
     "data": {
      "text/html": [
       "<div>\n",
       "<style scoped>\n",
       "    .dataframe tbody tr th:only-of-type {\n",
       "        vertical-align: middle;\n",
       "    }\n",
       "\n",
       "    .dataframe tbody tr th {\n",
       "        vertical-align: top;\n",
       "    }\n",
       "\n",
       "    .dataframe thead th {\n",
       "        text-align: right;\n",
       "    }\n",
       "</style>\n",
       "<table border=\"1\" class=\"dataframe\">\n",
       "  <thead>\n",
       "    <tr style=\"text-align: right;\">\n",
       "      <th></th>\n",
       "      <th>DiagnosisCode</th>\n",
       "      <th>ForcedVitalCapacity</th>\n",
       "      <th>ForcedExpirationVolume</th>\n",
       "      <th>ZubrodPerformanceStatus</th>\n",
       "      <th>PainBeforeSurgery</th>\n",
       "      <th>HaemoptysisBeforeSurgery</th>\n",
       "      <th>DyspnoeaBeforeSurgery</th>\n",
       "      <th>CoughBeforeSurgery</th>\n",
       "      <th>WeaknessBeforeSurgery</th>\n",
       "      <th>OriginalTumourSize</th>\n",
       "      <th>Type2Diabetes</th>\n",
       "      <th>MIUpto6</th>\n",
       "      <th>PeripheralArterialDiseases</th>\n",
       "      <th>Smoking</th>\n",
       "      <th>Asthma</th>\n",
       "      <th>AgeAtSurgery</th>\n",
       "      <th>Risk(1yr)</th>\n",
       "    </tr>\n",
       "  </thead>\n",
       "  <tbody>\n",
       "    <tr>\n",
       "      <th>0</th>\n",
       "      <td>DGN2</td>\n",
       "      <td>2.88</td>\n",
       "      <td>2.16</td>\n",
       "      <td>PRZ1</td>\n",
       "      <td>False</td>\n",
       "      <td>False</td>\n",
       "      <td>False</td>\n",
       "      <td>True</td>\n",
       "      <td>True</td>\n",
       "      <td>OC14</td>\n",
       "      <td>False</td>\n",
       "      <td>False</td>\n",
       "      <td>False</td>\n",
       "      <td>True</td>\n",
       "      <td>False</td>\n",
       "      <td>60</td>\n",
       "      <td>False</td>\n",
       "    </tr>\n",
       "  </tbody>\n",
       "</table>\n",
       "</div>"
      ],
      "text/plain": [
       "  DiagnosisCode  ForcedVitalCapacity  ForcedExpirationVolume  \\\n",
       "0          DGN2                 2.88                    2.16   \n",
       "\n",
       "  ZubrodPerformanceStatus  PainBeforeSurgery  HaemoptysisBeforeSurgery  \\\n",
       "0                    PRZ1              False                     False   \n",
       "\n",
       "   DyspnoeaBeforeSurgery  CoughBeforeSurgery  WeaknessBeforeSurgery  \\\n",
       "0                  False                True                   True   \n",
       "\n",
       "  OriginalTumourSize  Type2Diabetes  MIUpto6  PeripheralArterialDiseases  \\\n",
       "0               OC14          False    False                       False   \n",
       "\n",
       "   Smoking  Asthma  AgeAtSurgery  Risk(1yr)  \n",
       "0     True   False            60      False  "
      ]
     },
     "execution_count": 257,
     "metadata": {
      "tags": []
     },
     "output_type": "execute_result"
    }
   ],
   "source": [
    "data.head(1)"
   ]
  },
  {
   "cell_type": "code",
   "execution_count": 0,
   "metadata": {
    "colab": {
     "base_uri": "https://localhost:8080/",
     "height": 100
    },
    "colab_type": "code",
    "executionInfo": {
     "elapsed": 11480,
     "status": "ok",
     "timestamp": 1591010437714,
     "user": {
      "displayName": "Mukesh Kumar",
      "photoUrl": "https://lh3.googleusercontent.com/a-/AOh14GjlcDlZf8Lr8SWM0ugfq17HC9TF79sbME_lLaRW=s64",
      "userId": "12802686450045644565"
     },
     "user_tz": -330
    },
    "id": "MVqlZoVN8uR8",
    "outputId": "7ddc2f1b-50e5-4ee6-9cfb-97c535956711"
   },
   "outputs": [
    {
     "data": {
      "text/html": [
       "<div>\n",
       "<style scoped>\n",
       "    .dataframe tbody tr th:only-of-type {\n",
       "        vertical-align: middle;\n",
       "    }\n",
       "\n",
       "    .dataframe tbody tr th {\n",
       "        vertical-align: top;\n",
       "    }\n",
       "\n",
       "    .dataframe thead th {\n",
       "        text-align: right;\n",
       "    }\n",
       "</style>\n",
       "<table border=\"1\" class=\"dataframe\">\n",
       "  <thead>\n",
       "    <tr style=\"text-align: right;\">\n",
       "      <th></th>\n",
       "      <th>DiagnosisCode</th>\n",
       "      <th>ForcedVitalCapacity</th>\n",
       "      <th>ForcedExpirationVolume</th>\n",
       "      <th>ZubrodPerformanceStatus</th>\n",
       "      <th>PainBeforeSurgery</th>\n",
       "      <th>HaemoptysisBeforeSurgery</th>\n",
       "      <th>DyspnoeaBeforeSurgery</th>\n",
       "      <th>CoughBeforeSurgery</th>\n",
       "      <th>WeaknessBeforeSurgery</th>\n",
       "      <th>OriginalTumourSize</th>\n",
       "      <th>Type2Diabetes</th>\n",
       "      <th>MIUpto6</th>\n",
       "      <th>PeripheralArterialDiseases</th>\n",
       "      <th>Smoking</th>\n",
       "      <th>Asthma</th>\n",
       "      <th>AgeAtSurgery</th>\n",
       "      <th>Risk(1yr)</th>\n",
       "    </tr>\n",
       "  </thead>\n",
       "  <tbody>\n",
       "    <tr>\n",
       "      <th>Type</th>\n",
       "      <td>object</td>\n",
       "      <td>float64</td>\n",
       "      <td>float64</td>\n",
       "      <td>object</td>\n",
       "      <td>bool</td>\n",
       "      <td>bool</td>\n",
       "      <td>bool</td>\n",
       "      <td>bool</td>\n",
       "      <td>bool</td>\n",
       "      <td>object</td>\n",
       "      <td>bool</td>\n",
       "      <td>bool</td>\n",
       "      <td>bool</td>\n",
       "      <td>bool</td>\n",
       "      <td>bool</td>\n",
       "      <td>int64</td>\n",
       "      <td>bool</td>\n",
       "    </tr>\n",
       "  </tbody>\n",
       "</table>\n",
       "</div>"
      ],
      "text/plain": [
       "     DiagnosisCode ForcedVitalCapacity ForcedExpirationVolume  \\\n",
       "Type        object             float64                float64   \n",
       "\n",
       "     ZubrodPerformanceStatus PainBeforeSurgery HaemoptysisBeforeSurgery  \\\n",
       "Type                  object              bool                     bool   \n",
       "\n",
       "     DyspnoeaBeforeSurgery CoughBeforeSurgery WeaknessBeforeSurgery  \\\n",
       "Type                  bool               bool                  bool   \n",
       "\n",
       "     OriginalTumourSize Type2Diabetes MIUpto6 PeripheralArterialDiseases  \\\n",
       "Type             object          bool    bool                       bool   \n",
       "\n",
       "     Smoking Asthma AgeAtSurgery Risk(1yr)  \n",
       "Type    bool   bool        int64      bool  "
      ]
     },
     "execution_count": 258,
     "metadata": {
      "tags": []
     },
     "output_type": "execute_result"
    }
   ],
   "source": [
    "type_frame = pd.DataFrame(data = data.dtypes, columns = ['Type'])\n",
    "type_frame.transpose()"
   ]
  },
  {
   "cell_type": "markdown",
   "metadata": {
    "colab_type": "text",
    "id": "6TNC2-IjKUQ4"
   },
   "source": [
    "**Observation**\n",
    "\n",
    "- **Feature:**\n",
    "  - Problem &rarr; Action Required {Reason}\n",
    "- **DiagnosisCode**:\n",
    "  - Object Data &rarr; Encoding {Machines cannot understand human language.}\n",
    "- **ZubrodPerformanceStatus**\n",
    "  - Object Data &rarr; Encoding {Machines cannot understand human language.}\n",
    "- **OriginalTumourSize**\n",
    "  - Object Data &rarr; Encoding {Machines cannot understand human language.}"
   ]
  },
  {
   "cell_type": "markdown",
   "metadata": {
    "colab_type": "text",
    "id": "Fs7GxB5wqWp8"
   },
   "source": [
    "**Performing Operations:**"
   ]
  },
  {
   "cell_type": "code",
   "execution_count": 0,
   "metadata": {
    "colab": {},
    "colab_type": "code",
    "id": "1OrisrH7qWTU"
   },
   "outputs": [],
   "source": [
    "encoder = LabelEncoder()\n",
    "data['DiagnosisCode'] = encoder.fit_transform(data['DiagnosisCode'])\n",
    "data['ZubrodPerformanceStatus'] = encoder.fit_transform(data['ZubrodPerformanceStatus'])\n",
    "data['OriginalTumourSize'] = encoder.fit_transform(data['OriginalTumourSize'])"
   ]
  },
  {
   "cell_type": "markdown",
   "metadata": {
    "colab_type": "text",
    "id": "bqhbTS0XqdXs"
   },
   "source": [
    "**After Transformation**"
   ]
  },
  {
   "cell_type": "code",
   "execution_count": 0,
   "metadata": {
    "colab": {
     "base_uri": "https://localhost:8080/",
     "height": 117
    },
    "colab_type": "code",
    "executionInfo": {
     "elapsed": 11412,
     "status": "ok",
     "timestamp": 1591010437722,
     "user": {
      "displayName": "Mukesh Kumar",
      "photoUrl": "https://lh3.googleusercontent.com/a-/AOh14GjlcDlZf8Lr8SWM0ugfq17HC9TF79sbME_lLaRW=s64",
      "userId": "12802686450045644565"
     },
     "user_tz": -330
    },
    "id": "bcmenZRqqmpr",
    "outputId": "d8e04583-7792-4767-d9c2-0330520bbda2"
   },
   "outputs": [
    {
     "name": "stdout",
     "output_type": "stream",
     "text": [
      "Data Shape: (470, 17)\n"
     ]
    },
    {
     "data": {
      "text/html": [
       "<div>\n",
       "<style scoped>\n",
       "    .dataframe tbody tr th:only-of-type {\n",
       "        vertical-align: middle;\n",
       "    }\n",
       "\n",
       "    .dataframe tbody tr th {\n",
       "        vertical-align: top;\n",
       "    }\n",
       "\n",
       "    .dataframe thead th {\n",
       "        text-align: right;\n",
       "    }\n",
       "</style>\n",
       "<table border=\"1\" class=\"dataframe\">\n",
       "  <thead>\n",
       "    <tr style=\"text-align: right;\">\n",
       "      <th></th>\n",
       "      <th>DiagnosisCode</th>\n",
       "      <th>ForcedVitalCapacity</th>\n",
       "      <th>ForcedExpirationVolume</th>\n",
       "      <th>ZubrodPerformanceStatus</th>\n",
       "      <th>PainBeforeSurgery</th>\n",
       "      <th>HaemoptysisBeforeSurgery</th>\n",
       "      <th>DyspnoeaBeforeSurgery</th>\n",
       "      <th>CoughBeforeSurgery</th>\n",
       "      <th>WeaknessBeforeSurgery</th>\n",
       "      <th>OriginalTumourSize</th>\n",
       "      <th>Type2Diabetes</th>\n",
       "      <th>MIUpto6</th>\n",
       "      <th>PeripheralArterialDiseases</th>\n",
       "      <th>Smoking</th>\n",
       "      <th>Asthma</th>\n",
       "      <th>AgeAtSurgery</th>\n",
       "      <th>Risk(1yr)</th>\n",
       "    </tr>\n",
       "  </thead>\n",
       "  <tbody>\n",
       "    <tr>\n",
       "      <th>0</th>\n",
       "      <td>1</td>\n",
       "      <td>2.88</td>\n",
       "      <td>2.16</td>\n",
       "      <td>1</td>\n",
       "      <td>False</td>\n",
       "      <td>False</td>\n",
       "      <td>False</td>\n",
       "      <td>True</td>\n",
       "      <td>True</td>\n",
       "      <td>3</td>\n",
       "      <td>False</td>\n",
       "      <td>False</td>\n",
       "      <td>False</td>\n",
       "      <td>True</td>\n",
       "      <td>False</td>\n",
       "      <td>60</td>\n",
       "      <td>False</td>\n",
       "    </tr>\n",
       "  </tbody>\n",
       "</table>\n",
       "</div>"
      ],
      "text/plain": [
       "   DiagnosisCode  ForcedVitalCapacity  ForcedExpirationVolume  \\\n",
       "0              1                 2.88                    2.16   \n",
       "\n",
       "   ZubrodPerformanceStatus  PainBeforeSurgery  HaemoptysisBeforeSurgery  \\\n",
       "0                        1              False                     False   \n",
       "\n",
       "   DyspnoeaBeforeSurgery  CoughBeforeSurgery  WeaknessBeforeSurgery  \\\n",
       "0                  False                True                   True   \n",
       "\n",
       "   OriginalTumourSize  Type2Diabetes  MIUpto6  PeripheralArterialDiseases  \\\n",
       "0                   3          False    False                       False   \n",
       "\n",
       "   Smoking  Asthma  AgeAtSurgery  Risk(1yr)  \n",
       "0     True   False            60      False  "
      ]
     },
     "execution_count": 260,
     "metadata": {
      "tags": []
     },
     "output_type": "execute_result"
    }
   ],
   "source": [
    "print('Data Shape:', data.shape)\n",
    "data.head(1)"
   ]
  },
  {
   "cell_type": "code",
   "execution_count": 0,
   "metadata": {
    "colab": {
     "base_uri": "https://localhost:8080/",
     "height": 100
    },
    "colab_type": "code",
    "executionInfo": {
     "elapsed": 11381,
     "status": "ok",
     "timestamp": 1591010437724,
     "user": {
      "displayName": "Mukesh Kumar",
      "photoUrl": "https://lh3.googleusercontent.com/a-/AOh14GjlcDlZf8Lr8SWM0ugfq17HC9TF79sbME_lLaRW=s64",
      "userId": "12802686450045644565"
     },
     "user_tz": -330
    },
    "id": "bMFisFvE83Zq",
    "outputId": "7baaa122-816f-47d3-c38a-c119981f85c9"
   },
   "outputs": [
    {
     "data": {
      "text/html": [
       "<div>\n",
       "<style scoped>\n",
       "    .dataframe tbody tr th:only-of-type {\n",
       "        vertical-align: middle;\n",
       "    }\n",
       "\n",
       "    .dataframe tbody tr th {\n",
       "        vertical-align: top;\n",
       "    }\n",
       "\n",
       "    .dataframe thead th {\n",
       "        text-align: right;\n",
       "    }\n",
       "</style>\n",
       "<table border=\"1\" class=\"dataframe\">\n",
       "  <thead>\n",
       "    <tr style=\"text-align: right;\">\n",
       "      <th></th>\n",
       "      <th>DiagnosisCode</th>\n",
       "      <th>ForcedVitalCapacity</th>\n",
       "      <th>ForcedExpirationVolume</th>\n",
       "      <th>ZubrodPerformanceStatus</th>\n",
       "      <th>PainBeforeSurgery</th>\n",
       "      <th>HaemoptysisBeforeSurgery</th>\n",
       "      <th>DyspnoeaBeforeSurgery</th>\n",
       "      <th>CoughBeforeSurgery</th>\n",
       "      <th>WeaknessBeforeSurgery</th>\n",
       "      <th>OriginalTumourSize</th>\n",
       "      <th>Type2Diabetes</th>\n",
       "      <th>MIUpto6</th>\n",
       "      <th>PeripheralArterialDiseases</th>\n",
       "      <th>Smoking</th>\n",
       "      <th>Asthma</th>\n",
       "      <th>AgeAtSurgery</th>\n",
       "      <th>Risk(1yr)</th>\n",
       "    </tr>\n",
       "  </thead>\n",
       "  <tbody>\n",
       "    <tr>\n",
       "      <th>Type</th>\n",
       "      <td>int64</td>\n",
       "      <td>float64</td>\n",
       "      <td>float64</td>\n",
       "      <td>int64</td>\n",
       "      <td>bool</td>\n",
       "      <td>bool</td>\n",
       "      <td>bool</td>\n",
       "      <td>bool</td>\n",
       "      <td>bool</td>\n",
       "      <td>int64</td>\n",
       "      <td>bool</td>\n",
       "      <td>bool</td>\n",
       "      <td>bool</td>\n",
       "      <td>bool</td>\n",
       "      <td>bool</td>\n",
       "      <td>int64</td>\n",
       "      <td>bool</td>\n",
       "    </tr>\n",
       "  </tbody>\n",
       "</table>\n",
       "</div>"
      ],
      "text/plain": [
       "     DiagnosisCode ForcedVitalCapacity ForcedExpirationVolume  \\\n",
       "Type         int64             float64                float64   \n",
       "\n",
       "     ZubrodPerformanceStatus PainBeforeSurgery HaemoptysisBeforeSurgery  \\\n",
       "Type                   int64              bool                     bool   \n",
       "\n",
       "     DyspnoeaBeforeSurgery CoughBeforeSurgery WeaknessBeforeSurgery  \\\n",
       "Type                  bool               bool                  bool   \n",
       "\n",
       "     OriginalTumourSize Type2Diabetes MIUpto6 PeripheralArterialDiseases  \\\n",
       "Type              int64          bool    bool                       bool   \n",
       "\n",
       "     Smoking Asthma AgeAtSurgery Risk(1yr)  \n",
       "Type    bool   bool        int64      bool  "
      ]
     },
     "execution_count": 261,
     "metadata": {
      "tags": []
     },
     "output_type": "execute_result"
    }
   ],
   "source": [
    "type_frame = pd.DataFrame(data = data.dtypes, columns = ['Type'])\n",
    "type_frame.transpose()"
   ]
  },
  {
   "cell_type": "markdown",
   "metadata": {
    "colab_type": "text",
    "id": "DEZaLvqNPbTo"
   },
   "source": [
    "**Observation:**\n",
    "\n",
    "- We have **successfully encoded our data** for furthere processing."
   ]
  },
  {
   "cell_type": "markdown",
   "metadata": {
    "colab_type": "text",
    "id": "1FX4LUUcAHEP"
   },
   "source": [
    "<a id = Section72></a>\n",
    "### **7.2 Feature Scaling**\n",
    "\n",
    "- Remember we have a feature whose distribution is right skewed (ForcedExpirationVolume).\n",
    "- In this section we will study about that feature and perform operations."
   ]
  },
  {
   "cell_type": "code",
   "execution_count": 0,
   "metadata": {
    "colab": {
     "base_uri": "https://localhost:8080/",
     "height": 279
    },
    "colab_type": "code",
    "executionInfo": {
     "elapsed": 11321,
     "status": "ok",
     "timestamp": 1591010437725,
     "user": {
      "displayName": "Mukesh Kumar",
      "photoUrl": "https://lh3.googleusercontent.com/a-/AOh14GjlcDlZf8Lr8SWM0ugfq17HC9TF79sbME_lLaRW=s64",
      "userId": "12802686450045644565"
     },
     "user_tz": -330
    },
    "id": "bVsb6zXlAWJM",
    "outputId": "d93c21c1-6044-45c9-a58f-03f0869bdc2c"
   },
   "outputs": [
    {
     "data": {
      "image/png": "[encoded data removed]",
      "text/plain": [
       "<Figure size 432x288 with 1 Axes>"
      ]
     },
     "metadata": {
      "needs_background": "light",
      "tags": []
     },
     "output_type": "display_data"
    }
   ],
   "source": [
    "sns.distplot(a = data['ForcedExpirationVolume'])\n",
    "plt.show()"
   ]
  },
  {
   "cell_type": "markdown",
   "metadata": {
    "colab_type": "text",
    "id": "eeinGVCyFbxZ"
   },
   "source": [
    "**Observation:**\n",
    "\n",
    "- As you can see there are **some values** that are **affecting** the **distribution** of the **ForcedExpirationVolume** **feature**.\n",
    "- We will **analyze** how many **values** are present there in **ForcedExpirationVolume** feature that is **affecting** the **distribution**."
   ]
  },
  {
   "cell_type": "code",
   "execution_count": 0,
   "metadata": {
    "colab": {
     "base_uri": "https://localhost:8080/",
     "height": 51
    },
    "colab_type": "code",
    "executionInfo": {
     "elapsed": 11249,
     "status": "ok",
     "timestamp": 1591010437726,
     "user": {
      "displayName": "Mukesh Kumar",
      "photoUrl": "https://lh3.googleusercontent.com/a-/AOh14GjlcDlZf8Lr8SWM0ugfq17HC9TF79sbME_lLaRW=s64",
      "userId": "12802686450045644565"
     },
     "user_tz": -330
    },
    "id": "G-D7_BQJCCPz",
    "outputId": "9bfc3353-3056-4bf6-97ec-2e592e6e4f47"
   },
   "outputs": [
    {
     "name": "stdout",
     "output_type": "stream",
     "text": [
      "Total Outliers: 16\n",
      "Proportion of outlied values: 3.0 %\n"
     ]
    }
   ],
   "source": [
    "threshold = 5\n",
    "print('Total Outliers:', data[data['ForcedExpirationVolume'] > threshold].shape[0])\n",
    "prop = data[data['ForcedExpirationVolume'] > 5].shape[0] / data.shape[0]\n",
    "print('Proportion of outlied values:', np.round(prop, decimals = 2)*100, '%')"
   ]
  },
  {
   "cell_type": "markdown",
   "metadata": {
    "colab_type": "text",
    "id": "kkkRLyzAGJ31"
   },
   "source": [
    "**Observation:**\n",
    "\n",
    "- We can see that there are **16** such **values** that are **affecting** the **distribution** of the feature.\n",
    "- We will **drop these points** as the **proportion** is **very less** i.e. 3%.\n",
    "- Then we will **normalize ForcedExpirationVolume, AgeAtSurgery** using **log transformation**.\n",
    "- After performing these operations will will analyze again."
   ]
  },
  {
   "cell_type": "code",
   "execution_count": 0,
   "metadata": {
    "colab": {
     "base_uri": "https://localhost:8080/",
     "height": 279
    },
    "colab_type": "code",
    "executionInfo": {
     "elapsed": 11209,
     "status": "ok",
     "timestamp": 1591010437728,
     "user": {
      "displayName": "Mukesh Kumar",
      "photoUrl": "https://lh3.googleusercontent.com/a-/AOh14GjlcDlZf8Lr8SWM0ugfq17HC9TF79sbME_lLaRW=s64",
      "userId": "12802686450045644565"
     },
     "user_tz": -330
    },
    "id": "TYT_UP6tI7fP",
    "outputId": "afa9ccd6-70df-4cbb-bbad-5353847eef8c"
   },
   "outputs": [
    {
     "data": {
      "image/png": "[encoded data removed]",
      "text/plain": [
       "<Figure size 432x288 with 1 Axes>"
      ]
     },
     "metadata": {
      "needs_background": "light",
      "tags": []
     },
     "output_type": "display_data"
    }
   ],
   "source": [
    "# Dropping 16 outlied values\n",
    "data = data[data['ForcedExpirationVolume'] <= 5]\n",
    "\n",
    "# Normalizing ForcedExpirationVolume\n",
    "data['ForcedExpirationVolume'] = np.log10(data['ForcedExpirationVolume'])\n",
    "\n",
    "# Analyzing feature again\n",
    "sns.distplot(a = data['ForcedExpirationVolume'])\n",
    "plt.show()"
   ]
  },
  {
   "cell_type": "markdown",
   "metadata": {
    "colab_type": "text",
    "id": "jP-EZ3Voqx11"
   },
   "source": [
    "<a id = Section73></a>\n",
    "### **7.3 Feature Selection using Random Forest**\n",
    "\n",
    "- Now in **real world**, it is very **rare** that **all** the **features** are **important** while developing the model. \n",
    "- So **instead** we **analyze** the **impact** of **input over the target**, either done by performing **statistical** **tests**(Pearson, ANOVA, Chi-Square) or by using **Random Forest**.\n",
    "- **Random forests** are one the most **popular machine learning algorithms** because they **provide**:\n",
    " - **a good predictive performance**,\n",
    " - **low overfitting and**\n",
    " - **easy interpretability.** \n",
    "- This **interpretability** is **derived** from the **importance of each feature** on the tree decision **evaluated** on the **reduction** in **impurity**. \n",
    "- In other words, it is **easy to compute** how much **each feature is contributing** to the **decision**.\n",
    "- **Below** we have **implemented** a function namely, **SelectFromModel** **available** in **Sklearn** which **uses** the **base estimator** to **identify** **important features**.\n",
    "- The **importance** of feature is **determined** on the **basis** of **threshold**(a measure to calculate feature importance)."
   ]
  },
  {
   "cell_type": "code",
   "execution_count": 0,
   "metadata": {
    "colab": {},
    "colab_type": "code",
    "id": "lJ0SLZqGqr9l"
   },
   "outputs": [],
   "source": [
    "X = data.drop('Risk(1yr)', axis = 1)\n",
    "y = data['Risk(1yr)']"
   ]
  },
  {
   "cell_type": "markdown",
   "metadata": {
    "colab_type": "text",
    "id": "HpC2o-8Gq7Uc"
   },
   "source": [
    "**Extracting Important Feature**"
   ]
  },
  {
   "cell_type": "code",
   "execution_count": 0,
   "metadata": {
    "colab": {
     "base_uri": "https://localhost:8080/",
     "height": 68
    },
    "colab_type": "code",
    "executionInfo": {
     "elapsed": 13341,
     "status": "ok",
     "timestamp": 1591010439928,
     "user": {
      "displayName": "Mukesh Kumar",
      "photoUrl": "https://lh3.googleusercontent.com/a-/AOh14GjlcDlZf8Lr8SWM0ugfq17HC9TF79sbME_lLaRW=s64",
      "userId": "12802686450045644565"
     },
     "user_tz": -330
    },
    "id": "o6PBXh5lq4ar",
    "outputId": "18f8361a-ad3c-4245-c684-eebe0211980a"
   },
   "outputs": [
    {
     "name": "stdout",
     "output_type": "stream",
     "text": [
      "Total Features Selected are 5\n",
      "Threshold set by Model: 0.06\n",
      "Features: ['DiagnosisCode', 'ForcedVitalCapacity', 'ForcedExpirationVolume', 'OriginalTumourSize', 'AgeAtSurgery']\n"
     ]
    }
   ],
   "source": [
    "# Have some patience, may take some time :)\n",
    "selector = SelectFromModel(RandomForestClassifier(n_estimators = 100, random_state = 42, n_jobs = -1))\n",
    "selector.fit(X, y)\n",
    "\n",
    "# Extracting list of important features\n",
    "selected_feat = X.columns[(selector.get_support())].tolist()\n",
    "\n",
    "print('Total Features Selected are', len(selected_feat))\n",
    "\n",
    "# Estimated by taking mean(default) of feature importance\n",
    "print('Threshold set by Model:', np.round(selector.threshold_, decimals = 2))\n",
    "print('Features:', selected_feat)"
   ]
  },
  {
   "cell_type": "markdown",
   "metadata": {
    "colab_type": "text",
    "id": "1Zj16aDb86mK"
   },
   "source": [
    "**Visualization of Important Features:**\n",
    "\n",
    "- Below features are plotted against their relative importance (in %age),  of each feature."
   ]
  },
  {
   "cell_type": "code",
   "execution_count": 0,
   "metadata": {
    "colab": {
     "base_uri": "https://localhost:8080/",
     "height": 489
    },
    "colab_type": "code",
    "executionInfo": {
     "elapsed": 13270,
     "status": "ok",
     "timestamp": 1591010439932,
     "user": {
      "displayName": "Mukesh Kumar",
      "photoUrl": "https://lh3.googleusercontent.com/a-/AOh14GjlcDlZf8Lr8SWM0ugfq17HC9TF79sbME_lLaRW=s64",
      "userId": "12802686450045644565"
     },
     "user_tz": -330
    },
    "id": "36VLJTsy9Bwk",
    "outputId": "6e34c5da-4e69-4159-9b84-5528596765cf"
   },
   "outputs": [
    {
     "data": {
      "image/png": "[encoded data removed]",
      "text/plain": [
       "<Figure size 1080x576 with 1 Axes>"
      ]
     },
     "metadata": {
      "needs_background": "light",
      "tags": []
     },
     "output_type": "display_data"
    }
   ],
   "source": [
    "# Have some patience, may take some time :)\n",
    "figure = plt.figure(figsize = [15, 8])\n",
    "\n",
    "# If you don't want relative importance, use relative = False in below method\n",
    "viz = FeatureImportances(selector.estimator, relative = False)\n",
    "viz.fit(X, y)\n",
    "\n",
    "plt.xlabel('Relative Importance', size = 14)\n",
    "plt.ylabel('Features', size = 14)\n",
    "plt.title(label = 'Feature Importances', size = 16)\n",
    "plt.show()"
   ]
  },
  {
   "cell_type": "markdown",
   "metadata": {
    "colab_type": "text",
    "id": "0VMCXCd6PrKf"
   },
   "source": [
    "**Observation:**\n",
    "\n",
    "- We can see that **most of the features** are **showing importance except MIUpto6 and Asthma**.\n",
    "- We will **use all features except these two** in our model building."
   ]
  },
  {
   "cell_type": "markdown",
   "metadata": {
    "colab_type": "text",
    "id": "DXzF7DAlyNf8"
   },
   "source": [
    "<a id = Section74></a>\n",
    "### **7.4 Data Preparation**\n",
    "\n"
   ]
  },
  {
   "cell_type": "code",
   "execution_count": 0,
   "metadata": {
    "colab": {},
    "colab_type": "code",
    "id": "Kv04HLZsRm2G"
   },
   "outputs": [],
   "source": [
    "X = X.drop(['MIUpto6', 'Asthma'], axis = 1)"
   ]
  },
  {
   "cell_type": "markdown",
   "metadata": {
    "colab_type": "text",
    "id": "eiXdi_agS9wH"
   },
   "source": [
    "- Now we will **split** our **data** in **training** and **testing** part for further development."
   ]
  },
  {
   "cell_type": "code",
   "execution_count": 0,
   "metadata": {
    "colab": {
     "base_uri": "https://localhost:8080/",
     "height": 51
    },
    "colab_type": "code",
    "executionInfo": {
     "elapsed": 13197,
     "status": "ok",
     "timestamp": 1591010439935,
     "user": {
      "displayName": "Mukesh Kumar",
      "photoUrl": "https://lh3.googleusercontent.com/a-/AOh14GjlcDlZf8Lr8SWM0ugfq17HC9TF79sbME_lLaRW=s64",
      "userId": "12802686450045644565"
     },
     "user_tz": -330
    },
    "id": "InldtZ4ByPPY",
    "outputId": "af65a5af-7671-42ff-fba8-5bc8b779f52e"
   },
   "outputs": [
    {
     "name": "stdout",
     "output_type": "stream",
     "text": [
      "Training Data Shape: (408, 14) (408,)\n",
      "Testing Data Shape: (46, 14) (46,)\n"
     ]
    }
   ],
   "source": [
    "X_train, X_test, y_train, y_test = train_test_split(X, y, test_size = 0.1, random_state = 42, stratify = y)\n",
    "\n",
    "print('Training Data Shape:', X_train.shape, y_train.shape)\n",
    "print('Testing Data Shape:', X_test.shape, y_test.shape)"
   ]
  },
  {
   "cell_type": "markdown",
   "metadata": {
    "colab_type": "text",
    "id": "WmahPxIIyULb"
   },
   "source": [
    "<a id = Section8></a>\n",
    "\n",
    "---\n",
    "# **8. Model Development & Evaluation**\n",
    "---\n",
    "\n",
    "- In this section we will **develop different models using only important features** as marked important by Random Forest.\n",
    "- Then we will **compare the results** obtained from them and make our observation.\n",
    "- For **evaluation purpose** we will plot **precision and recall** for **each** **estimator** for which have **made** a **custom function below**.\n",
    "- **At the end** we will **tune** our **models if required**.\n",
    "\n",
    "**Note:**\n",
    "\n",
    "- As our **data is highly imbalanced**, a **common approach** of **discarding** the **minority class** data would be good **but** along with that our potential **information will** also get **lost**. \n",
    "\n",
    "- An **alternative** would be **oversampling the minority class** using SMOTE (**Synthetic Minority Oversampling Technique**) present in python library known as **imbalanced-learn**. "
   ]
  },
  {
   "cell_type": "code",
   "execution_count": 0,
   "metadata": {
    "colab": {},
    "colab_type": "code",
    "id": "2RLBXowIyU_d"
   },
   "outputs": [],
   "source": [
    "def plot_precision_recall(y_true, y_pred, train_or_test):\n",
    "  '''\n",
    "  y_true: Acutal values of the target\n",
    "  y_pred: Predicted values of the target. Either predict_proba or decision_function\n",
    "  line_show: Plot avergae values \"precision\" or \"recall\"\n",
    "  train_or_test: Train Data or Test Data\n",
    "  '''\n",
    "  precisions, recalls, thresholds = precision_recall_curve(y_true = y_true, probas_pred = y_pred)\n",
    "\n",
    "  average_precision = np.mean(precisions)\n",
    "  average_recall = np.mean(recalls)\n",
    "\n",
    "  sns.lineplot(x = recalls, y = precisions, linewidth = 2, ci = None)\n",
    "  plt.plot([0, 1], [average_precision, average_precision], 'r-')\n",
    "  plt.plot([average_recall, average_recall], [0, 1], 'g-')\n",
    "  plt.xlabel('Recall', fontsize = 14)\n",
    "  plt.xticks(ticks = [0, 0.1, 0.2, 0.3, 0.4, 0.5, 0.6, 0.7, 0.8, 0.9, 1.0])\n",
    "  plt.yticks(ticks = [0, 0.1, 0.2, 0.3, 0.4, 0.5, 0.6, 0.7, 0.8, 0.9, 1.0])\n",
    "  plt.ylabel('Precision', fontsize = 14)\n",
    "  plt.title(train_or_test, fontsize = 16)\n",
    "  plt.legend(labels = ['Binary PR Curve', 'AP {:.2f}'.format(average_precision), 'AR {:.2f}'.format(average_recall)])\n",
    "  plt.grid(True)"
   ]
  },
  {
   "cell_type": "markdown",
   "metadata": {
    "colab_type": "text",
    "id": "uTlEb5D2RidK"
   },
   "source": [
    "<a id = Section81></a>\n",
    "## **8.1 Baseline Models**"
   ]
  },
  {
   "cell_type": "markdown",
   "metadata": {
    "colab_type": "text",
    "id": "qYc2pWcD9rPZ"
   },
   "source": [
    "<a id = Section811></a>\n",
    "### **8.1.1 Logistic Regression**"
   ]
  },
  {
   "cell_type": "code",
   "execution_count": 0,
   "metadata": {
    "colab": {
     "base_uri": "https://localhost:8080/",
     "height": 468
    },
    "colab_type": "code",
    "executionInfo": {
     "elapsed": 13126,
     "status": "ok",
     "timestamp": 1591010439937,
     "user": {
      "displayName": "Mukesh Kumar",
      "photoUrl": "https://lh3.googleusercontent.com/a-/AOh14GjlcDlZf8Lr8SWM0ugfq17HC9TF79sbME_lLaRW=s64",
      "userId": "12802686450045644565"
     },
     "user_tz": -330
    },
    "id": "Btxvfn4qyZRT",
    "outputId": "19105ca0-5b0c-4972-b26c-5b9982d7670f"
   },
   "outputs": [
    {
     "data": {
      "image/png": "[encoded data removed]",
      "text/plain": [
       "<Figure size 1080x504 with 4 Axes>"
      ]
     },
     "metadata": {
      "needs_background": "light",
      "tags": []
     },
     "output_type": "display_data"
    }
   ],
   "source": [
    "log  = LogisticRegression(random_state = 42)\n",
    "log.fit(X_train, y_train)\n",
    "\n",
    "y_train_pred_count = log.predict(X_train)\n",
    "y_test_pred_count = log.predict(X_test)\n",
    "\n",
    "y_train_pred_proba = log.predict_proba(X_train)\n",
    "y_test_pred_proba = log.predict_proba(X_test)\n",
    "\n",
    "fig, (ax1, ax2) = plt.subplots(nrows = 1, ncols = 2, sharex = False, figsize=(15, 7))\n",
    "plot_confusion_matrix(estimator = log, X = X_train, y_true = y_train, values_format = '.5g', cmap = 'YlGnBu', ax = ax1)\n",
    "plot_confusion_matrix(estimator = log, X = X_test, y_true = y_test, values_format = '.5g', cmap = 'YlGnBu', ax = ax2)\n",
    "ax1.set_title(label = 'Train Data', size = 14)\n",
    "ax2.set_title(label = 'Test Data', size = 14)\n",
    "ax1.grid(b = False)\n",
    "ax2.grid(b = False)\n",
    "plt.suptitle(t = 'Confusion Matrix', size = 16)\n",
    "plt.show()"
   ]
  },
  {
   "cell_type": "markdown",
   "metadata": {
    "colab_type": "text",
    "id": "YZMbr1op4JWR"
   },
   "source": [
    "**Observation:**\n",
    "\n",
    "- **Train Data:**\n",
    "  - Model predicted **345 instances correctly** for **negative class** while **2 instances** were predicted **correctly** for **positive class**.\n",
    "  - Model **identified 60 instances negative but in actual** they **were positive**.\n",
    "  - Model **identified 1 instances positive but in actual** they **were negative**.\n",
    "\n",
    "- **Test Data:**\n",
    "  - Model predicted **39 instances correctly** for **negative class** while **0 instances** were predicted **correctly** for **positive class**.\n",
    "  - Model **identified 7 instances negative but in actual** it **was positive**.\n",
    "  - Model **identified 0 instances positive but in actual** they **were negative**."
   ]
  },
  {
   "cell_type": "code",
   "execution_count": 0,
   "metadata": {
    "colab": {
     "base_uri": "https://localhost:8080/",
     "height": 357
    },
    "colab_type": "code",
    "executionInfo": {
     "elapsed": 13097,
     "status": "ok",
     "timestamp": 1591010439938,
     "user": {
      "displayName": "Mukesh Kumar",
      "photoUrl": "https://lh3.googleusercontent.com/a-/AOh14GjlcDlZf8Lr8SWM0ugfq17HC9TF79sbME_lLaRW=s64",
      "userId": "12802686450045644565"
     },
     "user_tz": -330
    },
    "id": "c_tmw9MK9uqY",
    "outputId": "b9c2e10f-df03-4ddf-dc19-b79e53eb47e0"
   },
   "outputs": [
    {
     "name": "stdout",
     "output_type": "stream",
     "text": [
      "                    Training Report          \n",
      "              precision    recall  f1-score   support\n",
      "\n",
      "       False       0.85      1.00      0.92       346\n",
      "        True       0.67      0.03      0.06        62\n",
      "\n",
      "    accuracy                           0.85       408\n",
      "   macro avg       0.76      0.51      0.49       408\n",
      "weighted avg       0.82      0.85      0.79       408\n",
      "\n",
      "                    Testing Report           \n",
      "              precision    recall  f1-score   support\n",
      "\n",
      "       False       0.85      1.00      0.92        39\n",
      "        True       0.00      0.00      0.00         7\n",
      "\n",
      "    accuracy                           0.85        46\n",
      "   macro avg       0.42      0.50      0.46        46\n",
      "weighted avg       0.72      0.85      0.78        46\n",
      "\n"
     ]
    }
   ],
   "source": [
    "logistic_report_train = classification_report(y_train, y_train_pred_count)\n",
    "logistic_report_test = classification_report(y_test, y_test_pred_count)\n",
    "print('                    Training Report          ')\n",
    "print(logistic_report_train)\n",
    "print('                    Testing Report           ')\n",
    "print(logistic_report_test)"
   ]
  },
  {
   "cell_type": "markdown",
   "metadata": {
    "colab_type": "text",
    "id": "L5GkpOrm65vn"
   },
   "source": [
    "**Observation:**\n",
    "\n",
    "- **Accuracy** for **training data** is **equal compared** to **testing data**.\n",
    "- **Precision, Recall and f1-score** is **same** for **negative class** in both **training data and testing data**. But it is **not same for positive class**."
   ]
  },
  {
   "cell_type": "code",
   "execution_count": 0,
   "metadata": {
    "colab": {
     "base_uri": "https://localhost:8080/",
     "height": 497
    },
    "colab_type": "code",
    "executionInfo": {
     "elapsed": 13064,
     "status": "ok",
     "timestamp": 1591010439940,
     "user": {
      "displayName": "Mukesh Kumar",
      "photoUrl": "https://lh3.googleusercontent.com/a-/AOh14GjlcDlZf8Lr8SWM0ugfq17HC9TF79sbME_lLaRW=s64",
      "userId": "12802686450045644565"
     },
     "user_tz": -330
    },
    "id": "2z1d-C8w9xEh",
    "outputId": "5ea9905f-7b50-4be3-bfb4-50dc39f3a870"
   },
   "outputs": [
    {
     "data": {
      "image/png": "[encoded data removed]",
      "text/plain": [
       "<Figure size 1080x504 with 2 Axes>"
      ]
     },
     "metadata": {
      "needs_background": "light",
      "tags": []
     },
     "output_type": "display_data"
    }
   ],
   "source": [
    "figure = plt.figure(figsize = [15, 7])\n",
    "plt.subplot(1, 2, 1)\n",
    "plot_precision_recall(y_true = y_train, y_pred = y_train_pred_proba[:,1], train_or_test ='Train Data')\n",
    "\n",
    "plt.subplot(1, 2, 2)\n",
    "plot_precision_recall(y_true = y_test, y_pred = y_test_pred_proba[:, 1], train_or_test = 'Test Data')\n",
    "\n",
    "plt.suptitle('Precision & Recall Curve', size = 16)\n",
    "plt.show()"
   ]
  },
  {
   "cell_type": "markdown",
   "metadata": {
    "colab_type": "text",
    "id": "TttTwp3K7KVD"
   },
   "source": [
    "**Observation:**\n",
    "\n",
    "- We can see that **average precision** for **training data is 26%** while **for testing data it is 29%**.\n",
    "- The **average recall** for **training data is 67%** while **for testing data it is 58%**."
   ]
  },
  {
   "cell_type": "markdown",
   "metadata": {
    "colab_type": "text",
    "id": "2v-Vtls0WEeB"
   },
   "source": [
    "<a id = Section812></a>\n",
    "### **8.1.2 Random Forest Classifier**"
   ]
  },
  {
   "cell_type": "code",
   "execution_count": 0,
   "metadata": {
    "colab": {
     "base_uri": "https://localhost:8080/",
     "height": 468
    },
    "colab_type": "code",
    "executionInfo": {
     "elapsed": 13034,
     "status": "ok",
     "timestamp": 1591010439941,
     "user": {
      "displayName": "Mukesh Kumar",
      "photoUrl": "https://lh3.googleusercontent.com/a-/AOh14GjlcDlZf8Lr8SWM0ugfq17HC9TF79sbME_lLaRW=s64",
      "userId": "12802686450045644565"
     },
     "user_tz": -330
    },
    "id": "HC_dOXZ0WGsc",
    "outputId": "7a51afa2-775f-467f-890e-39d9ffe82db4"
   },
   "outputs": [
    {
     "data": {
      "image/png": "[encoded data removed]",
      "text/plain": [
       "<Figure size 1080x504 with 4 Axes>"
      ]
     },
     "metadata": {
      "needs_background": "light",
      "tags": []
     },
     "output_type": "display_data"
    }
   ],
   "source": [
    "rfc = RandomForestClassifier(random_state = 42)\n",
    "rfc.fit(X_train, y_train)\n",
    "\n",
    "y_train_pred_count = rfc.predict(X_train)\n",
    "y_test_pred_count = rfc.predict(X_test)\n",
    "\n",
    "y_train_pred_proba = rfc.predict_proba(X_train)\n",
    "y_test_pred_proba = rfc.predict_proba(X_test)\n",
    "\n",
    "fig, (ax1, ax2) = plt.subplots(nrows = 1, ncols = 2, sharex = False, figsize=(15, 7))\n",
    "plot_confusion_matrix(estimator = rfc, X = X_train, y_true = y_train, values_format = '.5g', cmap = 'YlGnBu', ax = ax1)\n",
    "plot_confusion_matrix(estimator = rfc, X = X_test, y_true = y_test, values_format = '.5g', cmap = 'YlGnBu', ax = ax2)\n",
    "ax1.set_title(label = 'Train Data', size = 14)\n",
    "ax2.set_title(label = 'Test Data', size = 14)\n",
    "ax1.grid(b = False)\n",
    "ax2.grid(b = False)\n",
    "plt.suptitle(t = 'Confusion Matrix', size = 16)\n",
    "plt.show()"
   ]
  },
  {
   "cell_type": "markdown",
   "metadata": {
    "colab_type": "text",
    "id": "OXLzLF0b5kyC"
   },
   "source": [
    "**Observation:**\n",
    "\n",
    "- **Train Data:**\n",
    "  - Model predicted **346 instances correctly** for **negative class** while **62 instances** were predicted **correctly** for **positive class**.\n",
    "  - Model **identified 0 instances negative but in actual** they **were positive**.\n",
    "  - Model **identified 0 instances positive but in actual** they **were negative**.\n",
    "\n",
    "- **Test Data:**\n",
    "  - Model predicted **39 instances correctly** for **negative class** while **0 instances** were predicted **correctly** for **positive class**.\n",
    "  - Model **identified 7 instances negative but in actual** it **was positive**.\n",
    "  - Model **identified 0 instances positive but in actual** they **were negative**."
   ]
  },
  {
   "cell_type": "code",
   "execution_count": 0,
   "metadata": {
    "colab": {
     "base_uri": "https://localhost:8080/",
     "height": 357
    },
    "colab_type": "code",
    "executionInfo": {
     "elapsed": 13008,
     "status": "ok",
     "timestamp": 1591010439942,
     "user": {
      "displayName": "Mukesh Kumar",
      "photoUrl": "https://lh3.googleusercontent.com/a-/AOh14GjlcDlZf8Lr8SWM0ugfq17HC9TF79sbME_lLaRW=s64",
      "userId": "12802686450045644565"
     },
     "user_tz": -330
    },
    "id": "P-t6HIYdWQbs",
    "outputId": "5c8a78ff-c517-4223-8ce1-e9844b5e6b8a"
   },
   "outputs": [
    {
     "name": "stdout",
     "output_type": "stream",
     "text": [
      "                    Training Report          \n",
      "              precision    recall  f1-score   support\n",
      "\n",
      "       False       1.00      1.00      1.00       346\n",
      "        True       1.00      1.00      1.00        62\n",
      "\n",
      "    accuracy                           1.00       408\n",
      "   macro avg       1.00      1.00      1.00       408\n",
      "weighted avg       1.00      1.00      1.00       408\n",
      "\n",
      "                    Testing Report           \n",
      "              precision    recall  f1-score   support\n",
      "\n",
      "       False       0.85      1.00      0.92        39\n",
      "        True       0.00      0.00      0.00         7\n",
      "\n",
      "    accuracy                           0.85        46\n",
      "   macro avg       0.42      0.50      0.46        46\n",
      "weighted avg       0.72      0.85      0.78        46\n",
      "\n"
     ]
    }
   ],
   "source": [
    "rfc_report_train = classification_report(y_train, y_train_pred_count)\n",
    "rfc_report_test = classification_report(y_test, y_test_pred_count)\n",
    "print('                    Training Report          ')\n",
    "print(rfc_report_train)\n",
    "print('                    Testing Report           ')\n",
    "print(rfc_report_test)"
   ]
  },
  {
   "cell_type": "markdown",
   "metadata": {
    "colab_type": "text",
    "id": "_WtpaZdhS9uP"
   },
   "source": [
    "**Observation:**\n",
    "\n",
    "- **Accuracy, Precision, Recall & f1-score** for **training data is high** as **compared to testing data** which is a **sign of overfitting**.\n",
    "- The **Precision, Recall & f1-score for postive class is zero** for **positive class**. It is **due to** the **class imbalance problem**.\n",
    "- To **overcome** this, **we will implement SMOTE in next section**."
   ]
  },
  {
   "cell_type": "code",
   "execution_count": 0,
   "metadata": {
    "colab": {
     "base_uri": "https://localhost:8080/",
     "height": 497
    },
    "colab_type": "code",
    "executionInfo": {
     "elapsed": 15174,
     "status": "ok",
     "timestamp": 1591010442146,
     "user": {
      "displayName": "Mukesh Kumar",
      "photoUrl": "https://lh3.googleusercontent.com/a-/AOh14GjlcDlZf8Lr8SWM0ugfq17HC9TF79sbME_lLaRW=s64",
      "userId": "12802686450045644565"
     },
     "user_tz": -330
    },
    "id": "2l84BdEhWXyP",
    "outputId": "00de6bc8-1fad-4923-e39d-160d0076fc5b"
   },
   "outputs": [
    {
     "data": {
      "image/png": "[encoded data removed]",
      "text/plain": [
       "<Figure size 1080x504 with 2 Axes>"
      ]
     },
     "metadata": {
      "needs_background": "light",
      "tags": []
     },
     "output_type": "display_data"
    }
   ],
   "source": [
    "figure = plt.figure(figsize = [15, 7])\n",
    "plt.subplot(1, 2, 1)\n",
    "plot_precision_recall(y_true = y_train, y_pred = y_train_pred_proba[:,1], train_or_test ='Train Data')\n",
    "\n",
    "plt.subplot(1, 2, 2)\n",
    "plot_precision_recall(y_true = y_test, y_pred = y_test_pred_proba[:, 1], train_or_test = 'Test Data')\n",
    "\n",
    "plt.suptitle('Precision & Recall Curve', size = 16)\n",
    "plt.show()"
   ]
  },
  {
   "cell_type": "markdown",
   "metadata": {
    "colab_type": "text",
    "id": "zNwqcyTO7u8x"
   },
   "source": [
    "**Note:** The **blue curve** for training data is **overridden by red curve** as model has learned 100%.\n",
    "\n",
    "**Observation:**\n",
    "\n",
    "- We can see that **average precision** for **training data is 100%** while **for testing data it is 42%**.\n",
    "- The **average recall** for both **training data** and **testing data** it is **52%**."
   ]
  },
  {
   "cell_type": "markdown",
   "metadata": {
    "colab_type": "text",
    "id": "6qZ-wSZnS_Jw"
   },
   "source": [
    "<a id = Section82></a>\n",
    "## **8.2 Oversampling Models**"
   ]
  },
  {
   "cell_type": "markdown",
   "metadata": {
    "colab_type": "text",
    "id": "C7_psj54TH0I"
   },
   "source": [
    "#### **SMOTE Technique & its Implementation**\n",
    "\n",
    "- SMOTE refers to **Synthetic Minority Oversampling Technique**.\n",
    "- It **aims** to **balance class distribution** by **randomly** **increasing minority class** examples **by replicating** them. \n",
    "- It **synthesises** **new minority instances** **between** **existing** minority **instances**. \n",
    "- **It generates the virtual training records by linear interpolation for the minority class.** \n",
    "- These **synthetic training records are generated by randomly selecting** one or more of the k-nearest neighbors for each **example in the minority class**. \n",
    "- **After** the **oversampling process**, the **data is reconstructed** and several classification models can be applied for the processed data."
   ]
  },
  {
   "cell_type": "markdown",
   "metadata": {
    "colab_type": "text",
    "id": "yf0TfGcITL_O"
   },
   "source": [
    "**Before Implimenting SMOTE**"
   ]
  },
  {
   "cell_type": "code",
   "execution_count": 0,
   "metadata": {
    "colab": {
     "base_uri": "https://localhost:8080/"
    },
    "colab_type": "code",
    "executionInfo": {
     "elapsed": 15132,
     "status": "ok",
     "timestamp": 1591010442148,
     "user": {
      "displayName": "Mukesh Kumar",
      "photoUrl": "https://lh3.googleusercontent.com/a-/AOh14GjlcDlZf8Lr8SWM0ugfq17HC9TF79sbME_lLaRW=s64",
      "userId": "12802686450045644565"
     },
     "user_tz": -330
    },
    "id": "220IFknmTLvW",
    "outputId": "c37a0208-e592-4218-cb38-668658ad7bf9"
   },
   "outputs": [
    {
     "name": "stdout",
     "output_type": "stream",
     "text": [
      "Training Data Shape: (408, 14) (408,)\n",
      "Testing Data Shape: (46, 14) (46,)\n"
     ]
    }
   ],
   "source": [
    "print('Training Data Shape:', X_train.shape, y_train.shape)\n",
    "print('Testing Data Shape:', X_test.shape, y_test.shape)"
   ]
  },
  {
   "cell_type": "markdown",
   "metadata": {
    "colab_type": "text",
    "id": "egaQz0YoTOiJ"
   },
   "source": [
    "**Performing SMOTE Operation**"
   ]
  },
  {
   "cell_type": "code",
   "execution_count": 0,
   "metadata": {
    "colab": {},
    "colab_type": "code",
    "id": "0GR_tmU5TRCp"
   },
   "outputs": [],
   "source": [
    "# Have some patience, may take some time\n",
    "\n",
    "sm = SMOTE(random_state = 42, ratio = 1)\n",
    "X1, y1 = sm.fit_sample(X, y)\n",
    "\n",
    "X_new = pd.DataFrame(data = X1, columns = X.columns)\n",
    "\n",
    "X_train, X_test, y_train, y_test = train_test_split(X_new, y1, test_size = 0.2, random_state = 42, stratify = y1)"
   ]
  },
  {
   "cell_type": "markdown",
   "metadata": {
    "colab_type": "text",
    "id": "NFvhFP0uThpq"
   },
   "source": [
    "**After Implimenting SMOTE**"
   ]
  },
  {
   "cell_type": "code",
   "execution_count": 0,
   "metadata": {
    "colab": {
     "base_uri": "https://localhost:8080/"
    },
    "colab_type": "code",
    "executionInfo": {
     "elapsed": 15069,
     "status": "ok",
     "timestamp": 1591010442150,
     "user": {
      "displayName": "Mukesh Kumar",
      "photoUrl": "https://lh3.googleusercontent.com/a-/AOh14GjlcDlZf8Lr8SWM0ugfq17HC9TF79sbME_lLaRW=s64",
      "userId": "12802686450045644565"
     },
     "user_tz": -330
    },
    "id": "hrfdpGDxTZbi",
    "outputId": "19545d4b-d39d-4175-a054-672891e33177"
   },
   "outputs": [
    {
     "name": "stdout",
     "output_type": "stream",
     "text": [
      "Training Data Shape: (616, 14) (616,)\n",
      "Testing Data Shape: (154, 14) (154,)\n"
     ]
    }
   ],
   "source": [
    "print('Training Data Shape:', X_train.shape, y_train.shape)\n",
    "print('Testing Data Shape:', X_test.shape, y_test.shape)"
   ]
  },
  {
   "cell_type": "markdown",
   "metadata": {
    "colab_type": "text",
    "id": "gz8srj7GUiHs"
   },
   "source": [
    "<a id = Section821></a>\n",
    "### **8.2.1 Logistic Regression**"
   ]
  },
  {
   "cell_type": "code",
   "execution_count": 0,
   "metadata": {
    "colab": {
     "base_uri": "https://localhost:8080/",
     "height": 468
    },
    "colab_type": "code",
    "executionInfo": {
     "elapsed": 15023,
     "status": "ok",
     "timestamp": 1591010442152,
     "user": {
      "displayName": "Mukesh Kumar",
      "photoUrl": "https://lh3.googleusercontent.com/a-/AOh14GjlcDlZf8Lr8SWM0ugfq17HC9TF79sbME_lLaRW=s64",
      "userId": "12802686450045644565"
     },
     "user_tz": -330
    },
    "id": "GJ72AKw-Ukui",
    "outputId": "09fd8275-8f3d-4160-880a-df3c0b2980d3"
   },
   "outputs": [
    {
     "data": {
      "image/png": "[encoded data removed]",
      "text/plain": [
       "<Figure size 1080x504 with 4 Axes>"
      ]
     },
     "metadata": {
      "needs_background": "light",
      "tags": []
     },
     "output_type": "display_data"
    }
   ],
   "source": [
    "log  = LogisticRegression(random_state = 42)\n",
    "log.fit(X_train, y_train)\n",
    "\n",
    "y_train_pred_count = log.predict(X_train)\n",
    "y_test_pred_count = log.predict(X_test)\n",
    "\n",
    "y_train_pred_proba = log.predict_proba(X_train)\n",
    "y_test_pred_proba = log.predict_proba(X_test)\n",
    "\n",
    "fig, (ax1, ax2) = plt.subplots(nrows = 1, ncols = 2, sharex = False, figsize=(15, 7))\n",
    "plot_confusion_matrix(estimator = log, X = X_train, y_true = y_train, values_format = '.5g', cmap = 'YlGnBu', ax = ax1)\n",
    "plot_confusion_matrix(estimator = log, X = X_test, y_true = y_test, values_format = '.5g', cmap = 'YlGnBu', ax = ax2)\n",
    "ax1.set_title(label = 'Train Data', size = 14)\n",
    "ax2.set_title(label = 'Test Data', size = 14)\n",
    "ax1.grid(b = False)\n",
    "ax2.grid(b = False)\n",
    "plt.suptitle(t = 'Confusion Matrix', size = 16)\n",
    "plt.show()"
   ]
  },
  {
   "cell_type": "markdown",
   "metadata": {
    "colab_type": "text",
    "id": "E0yY0kZ65yFz"
   },
   "source": [
    "**Observation:**\n",
    "\n",
    "- **Train Data:**\n",
    "  - Model predicted **202 instances correctly** for **negative class** while **218 instances** were predicted **correctly** for **positive class**.\n",
    "  - Model **identified 90 instances negative but in actual** they **were positive**.\n",
    "  - Model **identified 106 instances positive but in actual** they **were negative**.\n",
    "\n",
    "- **Test Data:**\n",
    "  - Model predicted **46 instances correctly** for **negative class** while **52 instances** were predicted **correctly** for **positive class**.\n",
    "  - Model **identified 25 instances negative but in actual** it **was positive**.\n",
    "  - Model **identified 31 instances positive but in actual** they **were negative**."
   ]
  },
  {
   "cell_type": "code",
   "execution_count": 0,
   "metadata": {
    "colab": {
     "base_uri": "https://localhost:8080/",
     "height": 357
    },
    "colab_type": "code",
    "executionInfo": {
     "elapsed": 14976,
     "status": "ok",
     "timestamp": 1591010442153,
     "user": {
      "displayName": "Mukesh Kumar",
      "photoUrl": "https://lh3.googleusercontent.com/a-/AOh14GjlcDlZf8Lr8SWM0ugfq17HC9TF79sbME_lLaRW=s64",
      "userId": "12802686450045644565"
     },
     "user_tz": -330
    },
    "id": "Vc_TyaTIUrxL",
    "outputId": "18f48881-434d-48f2-9742-7b2e3920142c"
   },
   "outputs": [
    {
     "name": "stdout",
     "output_type": "stream",
     "text": [
      "                    Training Report          \n",
      "              precision    recall  f1-score   support\n",
      "\n",
      "       False       0.69      0.66      0.67       308\n",
      "        True       0.67      0.71      0.69       308\n",
      "\n",
      "    accuracy                           0.68       616\n",
      "   macro avg       0.68      0.68      0.68       616\n",
      "weighted avg       0.68      0.68      0.68       616\n",
      "\n",
      "                    Testing Report           \n",
      "              precision    recall  f1-score   support\n",
      "\n",
      "       False       0.65      0.60      0.62        77\n",
      "        True       0.63      0.68      0.65        77\n",
      "\n",
      "    accuracy                           0.64       154\n",
      "   macro avg       0.64      0.64      0.64       154\n",
      "weighted avg       0.64      0.64      0.64       154\n",
      "\n"
     ]
    }
   ],
   "source": [
    "logistic_report_train = classification_report(y_train, y_train_pred_count)\n",
    "logistic_report_test = classification_report(y_test, y_test_pred_count)\n",
    "print('                    Training Report          ')\n",
    "print(logistic_report_train)\n",
    "print('                    Testing Report           ')\n",
    "print(logistic_report_test)"
   ]
  },
  {
   "cell_type": "markdown",
   "metadata": {
    "colab_type": "text",
    "id": "orvrMHk6_5ZG"
   },
   "source": [
    "**Observation:**\n",
    "\n",
    "- You can see that **accuracy, precision, recall & f1-score** for **training data** is **higher** than the accuracy of **testing data**.\n",
    "- But results are  **better than baseline models** i.e models on class imbalanced data.\n",
    "- On **comparing** **True class** with **previous results**, we can see that **precision, recall and f1-score** are better than the previous results."
   ]
  },
  {
   "cell_type": "code",
   "execution_count": 0,
   "metadata": {
    "colab": {
     "base_uri": "https://localhost:8080/",
     "height": 497
    },
    "colab_type": "code",
    "executionInfo": {
     "elapsed": 14942,
     "status": "ok",
     "timestamp": 1591010442155,
     "user": {
      "displayName": "Mukesh Kumar",
      "photoUrl": "https://lh3.googleusercontent.com/a-/AOh14GjlcDlZf8Lr8SWM0ugfq17HC9TF79sbME_lLaRW=s64",
      "userId": "12802686450045644565"
     },
     "user_tz": -330
    },
    "id": "CURZ-uqEVOTA",
    "outputId": "de2a758b-448d-4c5c-82ce-cf9dfcae547a"
   },
   "outputs": [
    {
     "data": {
      "image/png": "[encoded data removed]",
      "text/plain": [
       "<Figure size 1080x504 with 2 Axes>"
      ]
     },
     "metadata": {
      "needs_background": "light",
      "tags": []
     },
     "output_type": "display_data"
    }
   ],
   "source": [
    "figure = plt.figure(figsize = [15, 7])\n",
    "plt.subplot(1, 2, 1)\n",
    "plot_precision_recall(y_true = y_train, y_pred = y_train_pred_proba[:,1], train_or_test ='Train Data')\n",
    "\n",
    "plt.subplot(1, 2, 2)\n",
    "plot_precision_recall(y_true = y_test, y_pred = y_test_pred_proba[:, 1], train_or_test = 'Test Data')\n",
    "\n",
    "plt.suptitle('Precision & Recall Curve', size = 16)\n",
    "plt.show()"
   ]
  },
  {
   "cell_type": "markdown",
   "metadata": {
    "colab_type": "text",
    "id": "IEjepYak722a"
   },
   "source": [
    "**Observation:**\n",
    "\n",
    "- We can see that **average precision** for **training data is 66%** while **for testing data it is 64%**.\n",
    "- The **average recall** for **training data is 61%** while **for testing data it is 57%**."
   ]
  },
  {
   "cell_type": "markdown",
   "metadata": {
    "colab_type": "text",
    "id": "6ti_84f2VvsC"
   },
   "source": [
    "<a id = Section822></a>\n",
    "### **8.2.2 Random Forest Classifier**"
   ]
  },
  {
   "cell_type": "code",
   "execution_count": 0,
   "metadata": {
    "colab": {
     "base_uri": "https://localhost:8080/",
     "height": 468
    },
    "colab_type": "code",
    "executionInfo": {
     "elapsed": 17213,
     "status": "ok",
     "timestamp": 1591010444468,
     "user": {
      "displayName": "Mukesh Kumar",
      "photoUrl": "https://lh3.googleusercontent.com/a-/AOh14GjlcDlZf8Lr8SWM0ugfq17HC9TF79sbME_lLaRW=s64",
      "userId": "12802686450045644565"
     },
     "user_tz": -330
    },
    "id": "sn9T-hVXWm71",
    "outputId": "bdffa861-bfaa-4572-cbe1-f094c53b97dc"
   },
   "outputs": [
    {
     "data": {
      "image/png": "[encoded data removed]",
      "text/plain": [
       "<Figure size 1080x504 with 4 Axes>"
      ]
     },
     "metadata": {
      "needs_background": "light",
      "tags": []
     },
     "output_type": "display_data"
    }
   ],
   "source": [
    "rfc = RandomForestClassifier(random_state = 42)\n",
    "rfc.fit(X_train, y_train)\n",
    "\n",
    "y_train_pred_count = rfc.predict(X_train)\n",
    "y_test_pred_count = rfc.predict(X_test)\n",
    "\n",
    "y_train_pred_proba = rfc.predict_proba(X_train)\n",
    "y_test_pred_proba = rfc.predict_proba(X_test)\n",
    "\n",
    "fig, (ax1, ax2) = plt.subplots(nrows = 1, ncols = 2, sharex = False, figsize=(15, 7))\n",
    "plot_confusion_matrix(estimator = rfc, X = X_train, y_true = y_train, values_format = '.5g', cmap = 'YlGnBu', ax = ax1)\n",
    "plot_confusion_matrix(estimator = rfc, X = X_test, y_true = y_test, values_format = '.5g', cmap = 'YlGnBu', ax = ax2)\n",
    "ax1.set_title(label = 'Train Data', size = 14)\n",
    "ax2.set_title(label = 'Test Data', size = 14)\n",
    "ax1.grid(b = False)\n",
    "ax2.grid(b = False)\n",
    "plt.suptitle(t = 'Confusion Matrix', size = 16)\n",
    "plt.show()"
   ]
  },
  {
   "cell_type": "markdown",
   "metadata": {
    "colab_type": "text",
    "id": "gcnbhFoq6Jbw"
   },
   "source": [
    "**Observation:**\n",
    "\n",
    "- **Train Data:**\n",
    "  - Model predicted **308 instances correctly** for **negative class** while **308 instances** were predicted **correctly** for **positive class**.\n",
    "  - Model **identified 0 instances negative but in actual** they **were positive**.\n",
    "  - Model **identified 0 instances positive but in actual** they **were negative**.\n",
    "\n",
    "- **Test Data:**\n",
    "  - Model predicted **73 instances correctly** for **negative class** while **69 instances** were predicted **correctly** for **positive class**.\n",
    "  - Model **identified 8 instances negative but in actual** it **was positive**.\n",
    "  - Model **identified 4 instances positive but in actual** they **were negative**."
   ]
  },
  {
   "cell_type": "code",
   "execution_count": 0,
   "metadata": {
    "colab": {
     "base_uri": "https://localhost:8080/",
     "height": 357
    },
    "colab_type": "code",
    "executionInfo": {
     "elapsed": 17157,
     "status": "ok",
     "timestamp": 1591010444470,
     "user": {
      "displayName": "Mukesh Kumar",
      "photoUrl": "https://lh3.googleusercontent.com/a-/AOh14GjlcDlZf8Lr8SWM0ugfq17HC9TF79sbME_lLaRW=s64",
      "userId": "12802686450045644565"
     },
     "user_tz": -330
    },
    "id": "KB2OXClvWm75",
    "outputId": "62fce508-6edb-4de5-e341-ff65c4d731f3"
   },
   "outputs": [
    {
     "name": "stdout",
     "output_type": "stream",
     "text": [
      "                    Training Report          \n",
      "              precision    recall  f1-score   support\n",
      "\n",
      "       False       1.00      1.00      1.00       308\n",
      "        True       1.00      1.00      1.00       308\n",
      "\n",
      "    accuracy                           1.00       616\n",
      "   macro avg       1.00      1.00      1.00       616\n",
      "weighted avg       1.00      1.00      1.00       616\n",
      "\n",
      "                    Testing Report           \n",
      "              precision    recall  f1-score   support\n",
      "\n",
      "       False       0.90      0.95      0.92        77\n",
      "        True       0.95      0.90      0.92        77\n",
      "\n",
      "    accuracy                           0.92       154\n",
      "   macro avg       0.92      0.92      0.92       154\n",
      "weighted avg       0.92      0.92      0.92       154\n",
      "\n"
     ]
    }
   ],
   "source": [
    "rfc_report_train = classification_report(y_train, y_train_pred_count)\n",
    "rfc_report_test = classification_report(y_test, y_test_pred_count)\n",
    "print('                    Training Report          ')\n",
    "print(rfc_report_train)\n",
    "print('                    Testing Report           ')\n",
    "print(rfc_report_test)"
   ]
  },
  {
   "cell_type": "markdown",
   "metadata": {
    "colab_type": "text",
    "id": "qohUBNgLAxrI"
   },
   "source": [
    "**Observation:**\n",
    "\n",
    "- **Accuracy** for **training data is high** as **compared to testing data** and **much better than previous models**.\n",
    "- **Similar is the case with Precision and recall** for training data and testing data.\n",
    "- But we can see **overfitting**. We want **generalize results** i.e. same results on test data as that of training data.\n",
    "- In the **next section** we will **tune this model** because it outperformed Logisitic Regression."
   ]
  },
  {
   "cell_type": "code",
   "execution_count": 0,
   "metadata": {
    "colab": {
     "base_uri": "https://localhost:8080/",
     "height": 497
    },
    "colab_type": "code",
    "executionInfo": {
     "elapsed": 17120,
     "status": "ok",
     "timestamp": 1591010444472,
     "user": {
      "displayName": "Mukesh Kumar",
      "photoUrl": "https://lh3.googleusercontent.com/a-/AOh14GjlcDlZf8Lr8SWM0ugfq17HC9TF79sbME_lLaRW=s64",
      "userId": "12802686450045644565"
     },
     "user_tz": -330
    },
    "id": "T7qYAPoxWm77",
    "outputId": "b33b4a55-c4c6-445f-a3a6-1e2de446b815"
   },
   "outputs": [
    {
     "data": {
      "image/png": "[encoded data removed]",
      "text/plain": [
       "<Figure size 1080x504 with 2 Axes>"
      ]
     },
     "metadata": {
      "needs_background": "light",
      "tags": []
     },
     "output_type": "display_data"
    }
   ],
   "source": [
    "figure = plt.figure(figsize = [15, 7])\n",
    "plt.subplot(1, 2, 1)\n",
    "plot_precision_recall(y_true = y_train, y_pred = y_train_pred_proba[:,1], train_or_test ='Train Data')\n",
    "\n",
    "plt.subplot(1, 2, 2)\n",
    "plot_precision_recall(y_true = y_test, y_pred = y_test_pred_proba[:, 1], train_or_test = 'Test Data')\n",
    "\n",
    "plt.suptitle('Precision & Recall Curve', size = 16)\n",
    "plt.show()"
   ]
  },
  {
   "cell_type": "markdown",
   "metadata": {
    "colab_type": "text",
    "id": "2iYgn7Yo8DcM"
   },
   "source": [
    "**Note:** The **blue curve** for training data is **overridden by red curve** as model has learned 100%.\n",
    "\n",
    "**Observation:**\n",
    "\n",
    "- We can see that **average precision** for **training data is 100%** while **for testing data it is 88%**.\n",
    "- The **average recall** for **training data** and **testing data is 77%**."
   ]
  },
  {
   "cell_type": "markdown",
   "metadata": {
    "colab_type": "text",
    "id": "q-LTnh9Z-8Cg"
   },
   "source": [
    "<a id = Section83></a>\n",
    "## **8.3 Fine Tuning of Model**\n",
    "\n",
    "- In previous section we saw **Random Forest working better than rest of the models**. So we **will** **focus** on **fine tuning of Random Forest** in this section.\n",
    "- **Tuning** the model **takes** **extensive work**, so we will be **working** out **with few parameters instead** of **large combinations**.\n",
    "- Now that we know that **Random Forest performed better** **than any other model**, we **will fine tune** it.\n",
    "- For that we will **implement Grid Search CV** to **find optimal setting** for the model.\n",
    "- **Note:** **We want generalize results** i.e. approx. same precision and recall on test data as that of train data."
   ]
  },
  {
   "cell_type": "code",
   "execution_count": 0,
   "metadata": {
    "colab": {},
    "colab_type": "code",
    "id": "OTYCWlM7-7pS"
   },
   "outputs": [],
   "source": [
    "parameter_grid = [{'n_estimators':[100, 200, 300, 400, 500], 'criterion':['gini', 'entropy'], 'max_depth' : [x for x in range(2, 12)], 'bootstrap':[True, False]}]"
   ]
  },
  {
   "cell_type": "code",
   "execution_count": 0,
   "metadata": {
    "colab": {
     "base_uri": "https://localhost:8080/",
     "height": 153
    },
    "colab_type": "code",
    "executionInfo": {
     "elapsed": 859805,
     "status": "ok",
     "timestamp": 1591011287214,
     "user": {
      "displayName": "Mukesh Kumar",
      "photoUrl": "https://lh3.googleusercontent.com/a-/AOh14GjlcDlZf8Lr8SWM0ugfq17HC9TF79sbME_lLaRW=s64",
      "userId": "12802686450045644565"
     },
     "user_tz": -330
    },
    "id": "oTQ96bZa-_hJ",
    "outputId": "42241b55-127e-4ee3-935f-ea390db5d12c"
   },
   "outputs": [
    {
     "data": {
      "text/plain": [
       "RandomForestClassifier(bootstrap=True, ccp_alpha=0.0, class_weight=None,\n",
       "                       criterion='gini', max_depth=11, max_features='auto',\n",
       "                       max_leaf_nodes=None, max_samples=None,\n",
       "                       min_impurity_decrease=0.0, min_impurity_split=None,\n",
       "                       min_samples_leaf=1, min_samples_split=2,\n",
       "                       min_weight_fraction_leaf=0.0, n_estimators=300,\n",
       "                       n_jobs=None, oob_score=False, random_state=42, verbose=0,\n",
       "                       warm_start=False)"
      ]
     },
     "execution_count": 287,
     "metadata": {
      "tags": []
     },
     "output_type": "execute_result"
    }
   ],
   "source": [
    "# Have some patience, may take some time :)\n",
    "rfc = RandomForestClassifier(random_state = 42)\n",
    "grid_search = GridSearchCV(estimator = rfc, param_grid = parameter_grid, scoring = 'f1', n_jobs = -1, cv = 10, return_train_score = True)\n",
    "grid_search.fit(X_train, y_train)\n",
    "grid_search.best_estimator_"
   ]
  },
  {
   "cell_type": "code",
   "execution_count": 0,
   "metadata": {
    "colab": {
     "base_uri": "https://localhost:8080/",
     "height": 34
    },
    "colab_type": "code",
    "executionInfo": {
     "elapsed": 859778,
     "status": "ok",
     "timestamp": 1591011287219,
     "user": {
      "displayName": "Mukesh Kumar",
      "photoUrl": "https://lh3.googleusercontent.com/a-/AOh14GjlcDlZf8Lr8SWM0ugfq17HC9TF79sbME_lLaRW=s64",
      "userId": "12802686450045644565"
     },
     "user_tz": -330
    },
    "id": "IZA0UHt4_D2d",
    "outputId": "0dd14606-6432-400a-c4ab-bf86a4d37e7e"
   },
   "outputs": [
    {
     "data": {
      "text/plain": [
       "{'bootstrap': True, 'criterion': 'gini', 'max_depth': 11, 'n_estimators': 300}"
      ]
     },
     "execution_count": 288,
     "metadata": {
      "tags": []
     },
     "output_type": "execute_result"
    }
   ],
   "source": [
    "grid_search.best_params_"
   ]
  },
  {
   "cell_type": "markdown",
   "metadata": {
    "colab_type": "text",
    "id": "vmXXzDYD_HAe"
   },
   "source": [
    "<a id = Section84></a>\n",
    "## **8.4 Final Model**"
   ]
  },
  {
   "cell_type": "code",
   "execution_count": 0,
   "metadata": {
    "colab": {
     "base_uri": "https://localhost:8080/",
     "height": 462
    },
    "colab_type": "code",
    "executionInfo": {
     "elapsed": 860781,
     "status": "ok",
     "timestamp": 1591011288264,
     "user": {
      "displayName": "Mukesh Kumar",
      "photoUrl": "https://lh3.googleusercontent.com/a-/AOh14GjlcDlZf8Lr8SWM0ugfq17HC9TF79sbME_lLaRW=s64",
      "userId": "12802686450045644565"
     },
     "user_tz": -330
    },
    "id": "E-6FDRyI_E6x",
    "outputId": "29048c9a-fb4e-49ea-a208-19773cec25fa"
   },
   "outputs": [
    {
     "data": {
      "image/png": "[encoded data removed]",
      "text/plain": [
       "<Figure size 1080x504 with 4 Axes>"
      ]
     },
     "metadata": {
      "needs_background": "light",
      "tags": []
     },
     "output_type": "display_data"
    }
   ],
   "source": [
    "rfc = grid_search.best_estimator_\n",
    "rfc.fit(X_train, y_train)\n",
    "\n",
    "y_train_pred_count = rfc.predict(X_train)\n",
    "y_test_pred_count = rfc.predict(X_test)\n",
    "\n",
    "y_train_pred_proba = rfc.predict_proba(X_train)\n",
    "y_test_pred_proba = rfc.predict_proba(X_test)\n",
    "\n",
    "fig, (ax1, ax2) = plt.subplots(nrows = 1, ncols = 2, sharex = False, figsize=(15, 7))\n",
    "plot_confusion_matrix(estimator = rfc, X = X_train, y_true = y_train, values_format = '.5g', cmap = 'YlGnBu', ax = ax1)\n",
    "plot_confusion_matrix(estimator = rfc, X = X_test, y_true = y_test, values_format = '.5g', cmap = 'YlGnBu', ax = ax2)\n",
    "ax1.set_title(label = 'Train Data', size = 14)\n",
    "ax2.set_title(label = 'Test Data', size = 14)\n",
    "ax1.grid(b = False)\n",
    "ax2.grid(b = False)\n",
    "plt.suptitle(t = 'Confusion Matrix', size = 16)\n",
    "plt.show()"
   ]
  },
  {
   "cell_type": "markdown",
   "metadata": {
    "colab_type": "text",
    "id": "aLmI5aJV6Tpr"
   },
   "source": [
    "**Observation:**\n",
    "\n",
    "- **Train Data:**\n",
    "  - Model predicted **304 instances correctly** for **negative class** while **305 instances** were predicted **correctly** for **positive class**.\n",
    "  - Model **identified 3 instances negative but in actual** they **were positive**.\n",
    "  - Model **identified 4 instances positive but in actual** they **were negative**.\n",
    "\n",
    "- **Test Data:**\n",
    "  - Model predicted **72 instances correctly** for **negative class** while **72 instances** were predicted **correctly** for **positive class**.\n",
    "  - Model **identified 5 instances negative but in actual** it **was positive**.\n",
    "  - Model **identified 5 instances positive but in actual** they **were negative**."
   ]
  },
  {
   "cell_type": "code",
   "execution_count": 0,
   "metadata": {
    "colab": {
     "base_uri": "https://localhost:8080/",
     "height": 357
    },
    "colab_type": "code",
    "executionInfo": {
     "elapsed": 860742,
     "status": "ok",
     "timestamp": 1591011288267,
     "user": {
      "displayName": "Mukesh Kumar",
      "photoUrl": "https://lh3.googleusercontent.com/a-/AOh14GjlcDlZf8Lr8SWM0ugfq17HC9TF79sbME_lLaRW=s64",
      "userId": "12802686450045644565"
     },
     "user_tz": -330
    },
    "id": "SUqX8hoC_KTS",
    "outputId": "9825d605-7fc8-4720-de6a-6ef1e8136814"
   },
   "outputs": [
    {
     "name": "stdout",
     "output_type": "stream",
     "text": [
      "                    Training Report          \n",
      "              precision    recall  f1-score   support\n",
      "\n",
      "       False       0.99      0.99      0.99       308\n",
      "        True       0.99      0.99      0.99       308\n",
      "\n",
      "    accuracy                           0.99       616\n",
      "   macro avg       0.99      0.99      0.99       616\n",
      "weighted avg       0.99      0.99      0.99       616\n",
      "\n",
      "                    Testing Report           \n",
      "              precision    recall  f1-score   support\n",
      "\n",
      "       False       0.94      0.94      0.94        77\n",
      "        True       0.94      0.94      0.94        77\n",
      "\n",
      "    accuracy                           0.94       154\n",
      "   macro avg       0.94      0.94      0.94       154\n",
      "weighted avg       0.94      0.94      0.94       154\n",
      "\n"
     ]
    }
   ],
   "source": [
    "rfc_report_train = classification_report(y_train, y_train_pred_count)\n",
    "rfc_report_test = classification_report(y_test, y_test_pred_count)\n",
    "print('                    Training Report          ')\n",
    "print(rfc_report_train)\n",
    "print('                    Testing Report           ')\n",
    "print(rfc_report_test)"
   ]
  },
  {
   "cell_type": "markdown",
   "metadata": {
    "colab_type": "text",
    "id": "X2a2jYQYBQAP"
   },
   "source": [
    "**Observation:**\n",
    "\n",
    "- The **accuracy** of **training data** has **reduced** while for **testing data** it has **improved**.\n",
    "- The **precision, recall and f1-score** for **training data and testing data** has **reached balanced** state."
   ]
  },
  {
   "cell_type": "code",
   "execution_count": 0,
   "metadata": {
    "colab": {
     "base_uri": "https://localhost:8080/",
     "height": 497
    },
    "colab_type": "code",
    "executionInfo": {
     "elapsed": 862076,
     "status": "ok",
     "timestamp": 1591011289663,
     "user": {
      "displayName": "Mukesh Kumar",
      "photoUrl": "https://lh3.googleusercontent.com/a-/AOh14GjlcDlZf8Lr8SWM0ugfq17HC9TF79sbME_lLaRW=s64",
      "userId": "12802686450045644565"
     },
     "user_tz": -330
    },
    "id": "HjC8oZjn_M8S",
    "outputId": "079e70aa-008c-4da2-e5bc-cf14820f572f"
   },
   "outputs": [
    {
     "data": {
      "image/png": "[encoded data removed]",
      "text/plain": [
       "<Figure size 1080x504 with 2 Axes>"
      ]
     },
     "metadata": {
      "needs_background": "light",
      "tags": []
     },
     "output_type": "display_data"
    }
   ],
   "source": [
    "figure = plt.figure(figsize = [15, 7])\n",
    "plt.subplot(1, 2, 1)\n",
    "plot_precision_recall(y_true = y_train, y_pred = y_train_pred_proba[:,1], train_or_test ='Train Data')\n",
    "\n",
    "plt.subplot(1, 2, 2)\n",
    "plot_precision_recall(y_true = y_test, y_pred = y_test_pred_proba[:, 1], train_or_test = 'Test Data')\n",
    "\n",
    "plt.suptitle('Precision & Recall Curve', size = 16)\n",
    "plt.show()"
   ]
  },
  {
   "cell_type": "markdown",
   "metadata": {
    "colab_type": "text",
    "id": "OdTaDBHE8LdM"
   },
   "source": [
    "**Observation:**\n",
    "\n",
    "- We can see that **average precision** for **training data is 100%** while **for testing data it is 87%**.\n",
    "- The **average recall** for **training data is 53%** while **for testing data it is 72%**."
   ]
  },
  {
   "cell_type": "markdown",
   "metadata": {
    "colab_type": "text",
    "id": "SDFjHI8f_f6y"
   },
   "source": [
    "<a id = Section9></a>\n",
    "\n",
    "---\n",
    "# **9. Conclusion**\n",
    "---"
   ]
  },
  {
   "cell_type": "markdown",
   "metadata": {
    "colab_type": "text",
    "id": "fe4iBv8R_g0M"
   },
   "source": [
    "- We **studied in depth about the data**, its **characteristics** and its **distribution**.\n",
    "\n",
    "- We **explored various questions** **related** to the **health** of the patients and their **survival**.\n",
    "\n",
    "- We **investigated in depth about the features** which to **retain** and which to **discard** (MIUpto6 and Asthma).\n",
    "\n",
    "- Indeed we **peformed feature selection using Random Forest** because it is fast, accurate and reliable.\n",
    "  \n",
    "- We **performed model development** using **Logistic Regression and Random Forest**.\n",
    "\n",
    "- Then at **final stage Random Forest outperformed the logisitc model** because of **low error**.\n",
    "\n",
    "- Later **after tuning with some parameter combinations we finalized Random Forest** as our final model.\n",
    "\n",
    "- Now this **model** will **help** us in **saving** not only a lot of **resources** (money, human resources etc.) but also help us in **abstaining** the **delay** in **identification** of **survival** of the patients."
   ]
  }
 ],
 "metadata": {
  "colab": {
   "collapsed_sections": [],
   "name": "Post-Surgery Lung Cancer Survival.ipynb",
   "provenance": []
  },
  "kernelspec": {
   "display_name": "Python 3",
   "language": "python",
   "name": "python3"
  },
  "language_info": {
   "codemirror_mode": {
    "name": "ipython",
    "version": 3
   },
   "file_extension": ".py",
   "mimetype": "text/x-python",
   "name": "python",
   "nbconvert_exporter": "python",
   "pygments_lexer": "ipython3",
   "version": "3.8.3"
  }
 },
 "nbformat": 4,
 "nbformat_minor": 1
}
