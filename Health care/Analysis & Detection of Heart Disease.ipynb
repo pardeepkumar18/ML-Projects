{
 "cells": [
  {
   "cell_type": "markdown",
   "metadata": {
    "colab_type": "text",
    "id": "khxqSORB9Rjl"
   },
   "source": [
    "---\n",
    "# **Table of Contents**\n",
    "---\n",
    "**1.** [**Introduction**](#Section1)<br>\n",
    "**2.** [**Problem Statement**](#Section2)<br>\n",
    "**3.** [**Installing & Importing Libraries**](#Section3)<br>\n",
    "  - **3.1** [**Installing Libraries**](#Section31)\n",
    "  - **3.2** [**Upgrading Libraries**](#Section32)\n",
    "  - **3.3** [**Importing Libraries**](#Section33)\n",
    "\n",
    "**4.** [**Data Acquisition & Description**](#Section4)<br>\n",
    "  - **4.1** [**Data Description**](#Section41)\n",
    "  - **4.2** [**Data Information**](#Section42)\n",
    "  - **4.3** [**Numerical Data Distribution**](#Section43)\n",
    "  - **4.4** [**Pre Profiling Report**](#Section44)\n",
    "\n",
    "**5.** [**Data Pre-processing**](#Section5)<br>\n",
    "  - **5.1** [**Identification & Handling of Missing Data**](#Section51)\n",
    "  - **5.2** [**Identification & Handling of Redundant Data**](#Section52)\n",
    "  - **5.3** [**Identification & Handling of Inconsistent Data Types**](#Section53)\n",
    "  - **5.4** [**Post Profiling Report**](#Section54)\n",
    "  - **5.5** [**Handling Typo**](#Section55)\n",
    "\n",
    "**6.** [**Exploratory Data Analysis**](#Section6)<br>\n",
    "**7.** [**Post Data Processing & Feature Selection**](#Section7)<br>\n",
    "  - **7.1** [**Encoding Categorical Features**](#Section71)\n",
    "  - **7.2** [**Feature Selection using Random Forest**](#Section72)\n",
    "  - **7.3** [**Data Preparation**](#Section73)\n",
    "\n",
    "**8.** [**Model Development & Evaluation**](#Section8)<br>\n",
    "  - **8.1** [**Essential Features Models**](#Section81)\n",
    "  - **8.2** [**Fine Tuning of Model**](#Section82)\n",
    "  - **8.3** [**Final Model**](#Section83)\n",
    "\n",
    "**9.** [**Conclusion**](#Section9)<br>\n",
    "\n",
    "---"
   ]
  },
  {
   "cell_type": "markdown",
   "metadata": {
    "colab_type": "text",
    "id": "RekIFxae9Zqs"
   },
   "source": [
    "<a id = Section1></a>\n",
    "\n",
    "---\n",
    "# **1. Introduction**\n",
    "---\n",
    "\n",
    "**<h3>Coronary Artery Disease:</h3>** \n",
    "\n",
    "- It refers to the **narrowing or blockage** of the **coronary arteries**, usually caused by the **build-up** of **cholesterol** and **fatty deposits** (called plaques) on the **inner walls** of the **arteries**.\n",
    "\n",
    "- These plaques can restrict blood flow to the heart muscle by **physically** **clogging** the **artery** or by causing **abnormal** artery **tone** and **function**.\n",
    "\n",
    "- This can **cause chest pain** called **Angina**. When **one or more** of the **coronary arteries** are completely **blocked**, a **heart attack** may occur.\n",
    "\n",
    "<center><img src=\"https://raw.githubusercontent.com/insaid2018/Domain_Case_Studies/master/Healthcare/Heart%20Disease%20Diagnosis/Images/12.PNG\" width=\"550\" height=\"450\" /></center>\n",
    "\n",
    "**<h3>Statistics Report:</h3>**\n",
    "\n",
    "- According to <a href=\"http://circ.ahajournals.org/content/early/2017/01/25/CIR.0000000000000485\">**American Heart Association**</a> (AHA) **heart disease** is the **leading cause of death** among **males** and **females** in the **United States**. \n",
    "\n",
    "- They have **estimated** that **someone** **in** the **US** has a **heart attack** about **every 40 seconds** and it has **affected 16.5 million Americans**. \n",
    "\n",
    "- In addition with that, **patients with no risk factors** for heart disease, the **lifetime risk** of having cardiovascular **disease** is **3.6%** **in males** while **2.6% in females**. \n",
    "\n",
    "- **Having 2 or more risk factors** **increases** the **lifetime risk** of cardiovascular disease **to 37.5%** in **males** and **18.3% in females**.\n",
    "\n",
    "<center><img src = \"https://www.nhlbi.nih.gov/sites/default/files/styles/16x9_crop/public/2017-12/internal_structures_1_0.jpg?h=6c8b8c3d&itok=BNFPxPUV\"></center>\n",
    "\n",
    "There are **various factors** that **affects** coronary **heart disease**. These are as follows:\n",
    "\n",
    "- Risk factors like gender, family history, race, ethnicity etc. are **non-modifiable (unable to cure)**.\n",
    "\n",
    "- Risk factors like cigarette smoking, high blood cholesterol levels, high blood pressure, physical inactivity, etc. are **modifiable**."
   ]
  },
  {
   "cell_type": "markdown",
   "metadata": {
    "colab_type": "text",
    "id": "bm13ULJS-bRw"
   },
   "source": [
    "<a id = Section2></a>\n",
    "\n",
    "---\n",
    "# **2. Problem Statement**\n",
    "---\n",
    "\n",
    "- **Most of the time** it is **impossible** to **identify** whether a person has **heart disease** or not **because** **diagnosis** of a heart disease is **performed** on a **combination of clinical symptoms and tests results** which is **calculated through traditional processes**. \n",
    "\n",
    "- **Due to** the availability of **huge number of risk factors** it is **impossible** to **achieve** **accurate** **results** all the time.\n",
    "\n",
    "<center><img src = \"https://healthtechmagazine.net/sites/healthtechmagazine.net/files/styles/cdw_hero/public/articles/%5Bcdw_tech_site%3Afield_site_shortname%5D/201902/HTQ1_NHDAMWebby_ipopba.jpg?itok=QeM6JYKR\"></center>\n",
    "\n",
    "**<h4>Scenario:</h4>**\n",
    "\n",
    "- **Heart Trek**, an **american hospital** is **specialized** in **identification** and **treatment** of **heart related diseases**. \n",
    "\n",
    "- They **do variety of tests** to **identify** the **level of risk** a patient might be in. **After detecting** the level of risk, they **perform treatment** which **could get late if** a **patient** is at **high risk**. \n",
    "\n",
    "- These **tests consumes** a lot of **time**, and **meanwhile** if a **patient** is in high risk, it **could** **lead to** the **death** of the patient. \n",
    "\n",
    "- **Over** the **past years** they have **accumulated data** regarding **history of patients** in addition to **detailed information**. They **require** an **automated solution** which could **prevent** these **time consuming tests**. \n",
    "\n",
    "- So they **hired a team of data scientists** to **find pattern out of the data** which could **prevent high latency of events**.\n",
    "\n",
    "\n",
    "- The **target feature** in this dataset is named as **target** which we need to predict.\n",
    "\n",
    "| Target Feature | Potential Values |\n",
    "| :-- | :-- |\n",
    "| target | 0: No potential heart disease |\n",
    "| | 1: Potential heart disease |\n"
   ]
  },
  {
   "cell_type": "markdown",
   "metadata": {
    "colab_type": "text",
    "id": "Hps8oEvE-klE"
   },
   "source": [
    "<a id = Section3></a>\n",
    "\n",
    "---\n",
    "# **3. Installing & Importing Libraries**\n",
    "---"
   ]
  },
  {
   "cell_type": "markdown",
   "metadata": {
    "colab_type": "text",
    "id": "QXAmIZk1-myV"
   },
   "source": [
    "<a id = Section31></a>\n",
    "### **3.1 Installing Libraries**"
   ]
  },
  {
   "cell_type": "code",
   "execution_count": 1,
   "metadata": {
    "colab": {
     "base_uri": "https://localhost:8080/",
     "height": 50
    },
    "colab_type": "code",
    "executionInfo": {
     "elapsed": 24029,
     "status": "ok",
     "timestamp": 1592196217587,
     "user": {
      "displayName": "Varun Rao",
      "photoUrl": "",
      "userId": "01668619371257134222"
     },
     "user_tz": -330
    },
    "id": "jTBDnmP28v4R",
    "outputId": "b9e5de7f-5652-4d30-f39e-c5c1166efc41"
   },
   "outputs": [
    {
     "name": "stderr",
     "output_type": "stream",
     "text": [
      "ERROR: Invalid requirement: '#'\n",
      "ERROR: Invalid requirement: '#'\n",
      "ERROR: Invalid requirement: '#'\n"
     ]
    }
   ],
   "source": [
    "!pip install -q datascience                   # Package that is required by pandas profiling\n",
    "!pip install -q pandas-profiling              # Toolbox for Generating Statistics Report\n",
    "!pip install -q yellowbrick                   # Toolbox for Measuring Machine Performance"
   ]
  },
  {
   "cell_type": "markdown",
   "metadata": {
    "colab_type": "text",
    "id": "pbRtrY3t-ru0"
   },
   "source": [
    "<a id = Section32></a>\n",
    "### **3.2 Upgrading Libraries**\n",
    "\n",
    "**Note:** After upgrading, you need to restart the runtime. Make sure not to execute the cell above (3.1) and below (3.2) again after restarting the runtime."
   ]
  },
  {
   "cell_type": "code",
   "execution_count": 2,
   "metadata": {
    "colab": {
     "base_uri": "https://localhost:8080/",
     "height": 185
    },
    "colab_type": "code",
    "executionInfo": {
     "elapsed": 45039,
     "status": "ok",
     "timestamp": 1592196238613,
     "user": {
      "displayName": "Varun Rao",
      "photoUrl": "",
      "userId": "01668619371257134222"
     },
     "user_tz": -330
    },
    "id": "Mh0KVDoC-pms",
    "outputId": "4abe4fcc-bec3-4f27-fcc2-b8f707dbf74e"
   },
   "outputs": [],
   "source": [
    "!pip install -q --upgrade pandas-profiling\n",
    "!pip install -q --upgrade yellowbrick"
   ]
  },
  {
   "cell_type": "markdown",
   "metadata": {
    "colab_type": "text",
    "id": "iAvNm8sO-unu"
   },
   "source": [
    "<a id = Section33></a>\n",
    "### **3.3 Importing Libraries**"
   ]
  },
  {
   "cell_type": "code",
   "execution_count": 3,
   "metadata": {
    "colab": {
     "base_uri": "https://localhost:8080/",
     "height": 104
    },
    "colab_type": "code",
    "executionInfo": {
     "elapsed": 46866,
     "status": "ok",
     "timestamp": 1592196240453,
     "user": {
      "displayName": "Varun Rao",
      "photoUrl": "",
      "userId": "01668619371257134222"
     },
     "user_tz": -330
    },
    "id": "csssTsMK-uFn",
    "outputId": "4f8337d9-650e-4efc-88ef-817d506dbec8"
   },
   "outputs": [
    {
     "name": "stderr",
     "output_type": "stream",
     "text": [
      "<ipython-input-3-16ae39188d79>:4: FutureWarning: pandas.util.testing is deprecated. Use the functions in the public API at pandas.testing instead.\n",
      "  import pandas.util.testing as tm\n"
     ]
    }
   ],
   "source": [
    "# For Panel Data Analysis\n",
    "import pandas as pd\n",
    "from pandas_profiling import ProfileReport\n",
    "import pandas.util.testing as tm\n",
    "pd.set_option('display.max_columns', None)\n",
    "pd.set_option('display.max_colwidth', None)\n",
    "pd.set_option('display.max_rows', None)\n",
    "pd.set_option('mode.chained_assignment', None)\n",
    "\n",
    "# For Numerical Python\n",
    "import numpy as np\n",
    "\n",
    "# For Random seed values\n",
    "from random import randint\n",
    "\n",
    "# For Scientifc Python\n",
    "from scipy import stats\n",
    "\n",
    "# For datetime\n",
    "from datetime import datetime as dt\n",
    "\n",
    "# For Data Visualization\n",
    "import matplotlib.pyplot as plt\n",
    "%matplotlib inline\n",
    "import seaborn as sns\n",
    "\n",
    "# For Preprocessing\n",
    "from sklearn.preprocessing import StandardScaler\n",
    "\n",
    "# For Feature Selection\n",
    "from sklearn.feature_selection import SelectFromModel\n",
    "\n",
    "# For Feature Importances\n",
    "from yellowbrick.model_selection import FeatureImportances\n",
    "\n",
    "# For metrics evaluation\n",
    "from sklearn.metrics import precision_recall_curve, classification_report, plot_confusion_matrix\n",
    "\n",
    "# For Data Modeling\n",
    "from sklearn.model_selection import train_test_split, cross_val_score, GridSearchCV\n",
    "from sklearn.linear_model import LogisticRegression\n",
    "from sklearn.svm import SVC\n",
    "from sklearn.tree import DecisionTreeClassifier\n",
    "from sklearn.ensemble import RandomForestClassifier\n",
    "\n",
    "# To Disable Warnings\n",
    "import warnings\n",
    "warnings.filterwarnings(action = \"ignore\")"
   ]
  },
  {
   "cell_type": "markdown",
   "metadata": {
    "colab_type": "text",
    "id": "1WNmY7p3_DDN"
   },
   "source": [
    "<a id=Section4></a>\n",
    "\n",
    "---\n",
    "# **4. Data Acquisition & Description**\n",
    "---\n",
    "\n",
    "This data set is based on heart diseases detection provided by Heart Trek and is accessible <a href=\"https://raw.githubusercontent.com/insaid2018/Domain_Case_Studies/master/Healthcare/Heart%20Disease%20Diagnosis/Data/heart_disease.csv\">**here**</a>.\n",
    "\n",
    "\n",
    "| Records | Features | Dataset Size |\n",
    "| :-- | :-- | :-- |\n",
    "| 366 | 14 | 12 KB\n",
    "\n",
    "| # | Features | Description |\n",
    "| :-- | :--| :--| \n",
    "|01|**age**| Age of the patient.|\n",
    "|02|**sex**| Gender of the patient [male = 1, female = 0].|\n",
    "|03|**chest_pain_type**|Type of chest-pain experienced by the patient [typical angina, atypical angina, non-anginal pain, asymptomatic].|\n",
    "|04|**resting_blood_pressure**|Resting blood pressure value of an individual in mmHg.|\n",
    "|05|**cholesterol**|Serum cholesterol in mg/dl.|\n",
    "|06|**fasting_blood_sugar**|Compares the fasting blood sugar value of an individual with 120mg/dl [ value > 120 : 1, value < 120 : 0].|\n",
    "|07|**rest_ecg**|Resting electrocardiographic results [normal : 0, ST-T wave abnormality : 1, left ventricular hyperthrophy : 2].|\n",
    "|08|**max_heart_rate_achieved**|Max heart rate achieved by an individual (bpm).|\n",
    "|09|**exercise_induced_angina**|Exercise induced angina [yes : 1, no : 0].|\n",
    "|10|**st_depression**|ST depression induced by exercise relative to rest.|\n",
    "|11|**st_slope**|Peak exercise ST segment [upsloping : 1, flat : 2, downsloping : 3].|\n",
    "|12|**num_major_vessels**|Number of major vessels (0–3) colored by flouroscopy. The labels are applied on different colors while examining major vessels.|\n",
    "|13|**thalassemia**|Thalassemia is a blood disorder passed down through families (inherited) in which the body makes an abnormal form or|\n",
    "||| inadequate amount of hemoglobin. [normal : 3, fixed defect : 6, reversible defect : 7]|\n",
    "|14|**target**|If have heart disease [No : 0, Yes : 1].|\n",
    "\n",
    "<br></br>\n",
    "**<center><h3>Important Terminologies</center></h3>**\n",
    "\n",
    "- **ECG (Electrocardiogram):** It  is a medical test that detects heart problems by measuring the electrical activity generated by the heart as it contracts. If the ECG shows a different shape it could suggest a heart problem.\n",
    "\n",
    "- **Fluoroscopy:** Flouroscopy is the study of body parts, similar to X-rays. A continuous X-ray beam is passed through the body part being examined. The beam is transmitted to a TV-like monitor so that the body part and its motion can be seen in detail.\n",
    "\n",
    "- **Thalassemia:** It is a blood disorder passed down through families (inherited) in which the body makes an abnormal form or inadequate amount of hemoglobin.\n",
    "\n",
    "  - **Normal Thalassemia:** The body makes normal amount of hemoglobin.\n",
    "  - **Fixed Defect Thalassemia:** The body has inherited defect of producing abnormal amount of haemoglobin.\n",
    "  - **Reversable Defect Thalassemia:** The body has inherited defect of producing abnormal amount of haemoglobin but the defect is reversable to normal.\n",
    "\n",
    "- **Angina:** Angina is chest pain or discomfort caused when your heart muscle doesn't get enough oxygen-rich blood.\n",
    "\n",
    "  - **Typical Angina**: It is the presence of substernal chest pain or discomfort that was provoked by exertion or emotional stress and was relieved by rest and/or nitroglycerin.\n",
    "  - **Non-Anginal Pain**: It is defended with the possibility of avoiding diagnoses such as \"atypical chest pain\" or \"atypical angina.\"\n",
    "  - **Atypical Angina**: It implies that the complaint is actually angina pecto- ris, though not conforming in every way to the expected or classic description.\n",
    "  - **Asymptomatic**: It means neither causing nor exhibiting symptoms of disease.\n",
    "\n",
    "- **ST Segment:** In electrocardiography (process of producting Electrocardiodiagram), the ST segment connects the QRS complex and the T wave and has a duration of 0.005 to 0.150 sec (5 to 150 ms). \n",
    "\n",
    "  - **ST Normal Segment:** It has a slight upward concavity.\n",
    "\n",
    "  - **ST Elevation Segment:** It indicates transmural heart attack.\n",
    "\n",
    "  - **ST Depression Segment:** It is the indication of subendocardial heart attack.\n",
    "\n",
    " \n",
    "\n",
    "<center><img src = \"https://upload.wikimedia.org/wikipedia/commons/thumb/9/9e/SinusRhythmLabels.svg/800px-SinusRhythmLabels.svg.png\" width = 40%></center>"
   ]
  },
  {
   "cell_type": "code",
   "execution_count": 4,
   "metadata": {
    "colab": {
     "base_uri": "https://localhost:8080/",
     "height": 232
    },
    "colab_type": "code",
    "executionInfo": {
     "elapsed": 47671,
     "status": "ok",
     "timestamp": 1592196241272,
     "user": {
      "displayName": "Varun Rao",
      "photoUrl": "",
      "userId": "01668619371257134222"
     },
     "user_tz": -330
    },
    "id": "Fpg_dPl8_Qdc",
    "outputId": "819e7a9b-d350-43c4-bea9-5b2e7bcf70c3"
   },
   "outputs": [
    {
     "name": "stdout",
     "output_type": "stream",
     "text": [
      "Data Shape:  (366, 14)\n"
     ]
    },
    {
     "data": {
      "text/html": [
       "<div>\n",
       "<style scoped>\n",
       "    .dataframe tbody tr th:only-of-type {\n",
       "        vertical-align: middle;\n",
       "    }\n",
       "\n",
       "    .dataframe tbody tr th {\n",
       "        vertical-align: top;\n",
       "    }\n",
       "\n",
       "    .dataframe thead th {\n",
       "        text-align: right;\n",
       "    }\n",
       "</style>\n",
       "<table border=\"1\" class=\"dataframe\">\n",
       "  <thead>\n",
       "    <tr style=\"text-align: right;\">\n",
       "      <th></th>\n",
       "      <th>age</th>\n",
       "      <th>sex</th>\n",
       "      <th>chest_pain_type</th>\n",
       "      <th>resting_blood_pressure</th>\n",
       "      <th>cholesterol</th>\n",
       "      <th>fasting_blood_sugar</th>\n",
       "      <th>rest_ecg</th>\n",
       "      <th>max_heart_rate_achieved</th>\n",
       "      <th>exercise_induced_angina</th>\n",
       "      <th>st_depression</th>\n",
       "      <th>st_slope</th>\n",
       "      <th>num_major_vessels</th>\n",
       "      <th>thalassemia</th>\n",
       "      <th>target</th>\n",
       "    </tr>\n",
       "  </thead>\n",
       "  <tbody>\n",
       "    <tr>\n",
       "      <th>0</th>\n",
       "      <td>63</td>\n",
       "      <td>1</td>\n",
       "      <td>asymptomatic</td>\n",
       "      <td>145</td>\n",
       "      <td>233.0</td>\n",
       "      <td>1</td>\n",
       "      <td>0</td>\n",
       "      <td>150.0</td>\n",
       "      <td>0</td>\n",
       "      <td>2.3</td>\n",
       "      <td>0</td>\n",
       "      <td>0</td>\n",
       "      <td>1</td>\n",
       "      <td>1</td>\n",
       "    </tr>\n",
       "    <tr>\n",
       "      <th>1</th>\n",
       "      <td>37</td>\n",
       "      <td>1</td>\n",
       "      <td>non-anginal pain</td>\n",
       "      <td>130</td>\n",
       "      <td>250.0</td>\n",
       "      <td>0</td>\n",
       "      <td>1</td>\n",
       "      <td>187.0</td>\n",
       "      <td>0</td>\n",
       "      <td>3.5</td>\n",
       "      <td>0</td>\n",
       "      <td>0</td>\n",
       "      <td>2</td>\n",
       "      <td>1</td>\n",
       "    </tr>\n",
       "    <tr>\n",
       "      <th>2</th>\n",
       "      <td>41</td>\n",
       "      <td>0</td>\n",
       "      <td>atypical angina</td>\n",
       "      <td>130</td>\n",
       "      <td>204.0</td>\n",
       "      <td>0</td>\n",
       "      <td>0</td>\n",
       "      <td>172.0</td>\n",
       "      <td>0</td>\n",
       "      <td>1.4</td>\n",
       "      <td>2</td>\n",
       "      <td>0</td>\n",
       "      <td>2</td>\n",
       "      <td>1</td>\n",
       "    </tr>\n",
       "    <tr>\n",
       "      <th>3</th>\n",
       "      <td>56</td>\n",
       "      <td>1</td>\n",
       "      <td>atypical angina</td>\n",
       "      <td>120</td>\n",
       "      <td>236.0</td>\n",
       "      <td>0</td>\n",
       "      <td>1</td>\n",
       "      <td>178.0</td>\n",
       "      <td>0</td>\n",
       "      <td>0.8</td>\n",
       "      <td>2</td>\n",
       "      <td>0</td>\n",
       "      <td>2</td>\n",
       "      <td>1</td>\n",
       "    </tr>\n",
       "    <tr>\n",
       "      <th>4</th>\n",
       "      <td>57</td>\n",
       "      <td>0</td>\n",
       "      <td>typical anginia</td>\n",
       "      <td>120</td>\n",
       "      <td>354.0</td>\n",
       "      <td>0</td>\n",
       "      <td>1</td>\n",
       "      <td>163.0</td>\n",
       "      <td>1</td>\n",
       "      <td>0.6</td>\n",
       "      <td>2</td>\n",
       "      <td>0</td>\n",
       "      <td>2</td>\n",
       "      <td>1</td>\n",
       "    </tr>\n",
       "  </tbody>\n",
       "</table>\n",
       "</div>"
      ],
      "text/plain": [
       "   age  sex   chest_pain_type  resting_blood_pressure  cholesterol  \\\n",
       "0   63    1      asymptomatic                     145        233.0   \n",
       "1   37    1  non-anginal pain                     130        250.0   \n",
       "2   41    0   atypical angina                     130        204.0   \n",
       "3   56    1   atypical angina                     120        236.0   \n",
       "4   57    0   typical anginia                     120        354.0   \n",
       "\n",
       "   fasting_blood_sugar  rest_ecg  max_heart_rate_achieved  \\\n",
       "0                    1         0                    150.0   \n",
       "1                    0         1                    187.0   \n",
       "2                    0         0                    172.0   \n",
       "3                    0         1                    178.0   \n",
       "4                    0         1                    163.0   \n",
       "\n",
       "   exercise_induced_angina  st_depression  st_slope  num_major_vessels  \\\n",
       "0                        0            2.3         0                  0   \n",
       "1                        0            3.5         0                  0   \n",
       "2                        0            1.4         2                  0   \n",
       "3                        0            0.8         2                  0   \n",
       "4                        1            0.6         2                  0   \n",
       "\n",
       "   thalassemia  target  \n",
       "0            1       1  \n",
       "1            2       1  \n",
       "2            2       1  \n",
       "3            2       1  \n",
       "4            2       1  "
      ]
     },
     "execution_count": 4,
     "metadata": {},
     "output_type": "execute_result"
    }
   ],
   "source": [
    "LINK = 'https://raw.githubusercontent.com/insaid2018/Domain_Case_Studies/master/Healthcare/Heart%20Disease%20Diagnosis/Data/heart_disease.csv'\n",
    "\n",
    "data = pd.read_csv(filepath_or_buffer = LINK, encoding = 'latin1')\n",
    "print(\"Data Shape: \",data.shape)\n",
    "data.head()"
   ]
  },
  {
   "cell_type": "markdown",
   "metadata": {
    "colab_type": "text",
    "id": "v5VotiSP_TbU"
   },
   "source": [
    "<a id = Section41></a>\n",
    "### **4.1 Data Description**\n",
    "\n",
    "- In this section we will get **information about the data** and see some observations."
   ]
  },
  {
   "cell_type": "code",
   "execution_count": 5,
   "metadata": {
    "colab": {
     "base_uri": "https://localhost:8080/",
     "height": 321
    },
    "colab_type": "code",
    "executionInfo": {
     "elapsed": 47660,
     "status": "ok",
     "timestamp": 1592196241273,
     "user": {
      "displayName": "Varun Rao",
      "photoUrl": "",
      "userId": "01668619371257134222"
     },
     "user_tz": -330
    },
    "id": "tdtljtzk_UM1",
    "outputId": "e32ac426-f71b-44f2-f7d1-4e5ca471d747"
   },
   "outputs": [
    {
     "name": "stdout",
     "output_type": "stream",
     "text": [
      "Described Column Length: 13\n"
     ]
    },
    {
     "data": {
      "text/html": [
       "<div>\n",
       "<style scoped>\n",
       "    .dataframe tbody tr th:only-of-type {\n",
       "        vertical-align: middle;\n",
       "    }\n",
       "\n",
       "    .dataframe tbody tr th {\n",
       "        vertical-align: top;\n",
       "    }\n",
       "\n",
       "    .dataframe thead th {\n",
       "        text-align: right;\n",
       "    }\n",
       "</style>\n",
       "<table border=\"1\" class=\"dataframe\">\n",
       "  <thead>\n",
       "    <tr style=\"text-align: right;\">\n",
       "      <th></th>\n",
       "      <th>age</th>\n",
       "      <th>sex</th>\n",
       "      <th>resting_blood_pressure</th>\n",
       "      <th>cholesterol</th>\n",
       "      <th>fasting_blood_sugar</th>\n",
       "      <th>rest_ecg</th>\n",
       "      <th>max_heart_rate_achieved</th>\n",
       "      <th>exercise_induced_angina</th>\n",
       "      <th>st_depression</th>\n",
       "      <th>st_slope</th>\n",
       "      <th>num_major_vessels</th>\n",
       "      <th>thalassemia</th>\n",
       "      <th>target</th>\n",
       "    </tr>\n",
       "  </thead>\n",
       "  <tbody>\n",
       "    <tr>\n",
       "      <th>count</th>\n",
       "      <td>366.000000</td>\n",
       "      <td>366.000000</td>\n",
       "      <td>366.000000</td>\n",
       "      <td>348.000000</td>\n",
       "      <td>366.000000</td>\n",
       "      <td>366.000000</td>\n",
       "      <td>339.000000</td>\n",
       "      <td>366.000000</td>\n",
       "      <td>366.000000</td>\n",
       "      <td>366.000000</td>\n",
       "      <td>366.000000</td>\n",
       "      <td>366.000000</td>\n",
       "      <td>366.000000</td>\n",
       "    </tr>\n",
       "    <tr>\n",
       "      <th>mean</th>\n",
       "      <td>54.210383</td>\n",
       "      <td>0.680328</td>\n",
       "      <td>131.562842</td>\n",
       "      <td>247.568966</td>\n",
       "      <td>0.139344</td>\n",
       "      <td>0.508197</td>\n",
       "      <td>149.401180</td>\n",
       "      <td>0.330601</td>\n",
       "      <td>1.068306</td>\n",
       "      <td>1.393443</td>\n",
       "      <td>0.778689</td>\n",
       "      <td>2.349727</td>\n",
       "      <td>0.532787</td>\n",
       "    </tr>\n",
       "    <tr>\n",
       "      <th>std</th>\n",
       "      <td>9.043396</td>\n",
       "      <td>0.466988</td>\n",
       "      <td>16.987349</td>\n",
       "      <td>51.950856</td>\n",
       "      <td>0.346779</td>\n",
       "      <td>0.522049</td>\n",
       "      <td>21.964161</td>\n",
       "      <td>0.471074</td>\n",
       "      <td>1.203138</td>\n",
       "      <td>0.613421</td>\n",
       "      <td>1.066390</td>\n",
       "      <td>0.585756</td>\n",
       "      <td>0.499607</td>\n",
       "    </tr>\n",
       "    <tr>\n",
       "      <th>min</th>\n",
       "      <td>29.000000</td>\n",
       "      <td>0.000000</td>\n",
       "      <td>94.000000</td>\n",
       "      <td>126.000000</td>\n",
       "      <td>0.000000</td>\n",
       "      <td>0.000000</td>\n",
       "      <td>71.000000</td>\n",
       "      <td>0.000000</td>\n",
       "      <td>0.000000</td>\n",
       "      <td>0.000000</td>\n",
       "      <td>0.000000</td>\n",
       "      <td>1.000000</td>\n",
       "      <td>0.000000</td>\n",
       "    </tr>\n",
       "    <tr>\n",
       "      <th>25%</th>\n",
       "      <td>47.250000</td>\n",
       "      <td>0.000000</td>\n",
       "      <td>120.000000</td>\n",
       "      <td>212.000000</td>\n",
       "      <td>0.000000</td>\n",
       "      <td>0.000000</td>\n",
       "      <td>133.500000</td>\n",
       "      <td>0.000000</td>\n",
       "      <td>0.000000</td>\n",
       "      <td>1.000000</td>\n",
       "      <td>0.000000</td>\n",
       "      <td>2.000000</td>\n",
       "      <td>0.000000</td>\n",
       "    </tr>\n",
       "    <tr>\n",
       "      <th>50%</th>\n",
       "      <td>55.500000</td>\n",
       "      <td>1.000000</td>\n",
       "      <td>130.000000</td>\n",
       "      <td>243.000000</td>\n",
       "      <td>0.000000</td>\n",
       "      <td>0.000000</td>\n",
       "      <td>152.000000</td>\n",
       "      <td>0.000000</td>\n",
       "      <td>0.800000</td>\n",
       "      <td>1.000000</td>\n",
       "      <td>0.000000</td>\n",
       "      <td>2.000000</td>\n",
       "      <td>1.000000</td>\n",
       "    </tr>\n",
       "    <tr>\n",
       "      <th>75%</th>\n",
       "      <td>61.000000</td>\n",
       "      <td>1.000000</td>\n",
       "      <td>140.000000</td>\n",
       "      <td>275.500000</td>\n",
       "      <td>0.000000</td>\n",
       "      <td>1.000000</td>\n",
       "      <td>165.000000</td>\n",
       "      <td>1.000000</td>\n",
       "      <td>1.800000</td>\n",
       "      <td>2.000000</td>\n",
       "      <td>1.000000</td>\n",
       "      <td>3.000000</td>\n",
       "      <td>1.000000</td>\n",
       "    </tr>\n",
       "    <tr>\n",
       "      <th>max</th>\n",
       "      <td>77.000000</td>\n",
       "      <td>1.000000</td>\n",
       "      <td>200.000000</td>\n",
       "      <td>564.000000</td>\n",
       "      <td>1.000000</td>\n",
       "      <td>2.000000</td>\n",
       "      <td>202.000000</td>\n",
       "      <td>1.000000</td>\n",
       "      <td>6.200000</td>\n",
       "      <td>2.000000</td>\n",
       "      <td>4.000000</td>\n",
       "      <td>3.000000</td>\n",
       "      <td>1.000000</td>\n",
       "    </tr>\n",
       "  </tbody>\n",
       "</table>\n",
       "</div>"
      ],
      "text/plain": [
       "              age         sex  resting_blood_pressure  cholesterol  \\\n",
       "count  366.000000  366.000000              366.000000   348.000000   \n",
       "mean    54.210383    0.680328              131.562842   247.568966   \n",
       "std      9.043396    0.466988               16.987349    51.950856   \n",
       "min     29.000000    0.000000               94.000000   126.000000   \n",
       "25%     47.250000    0.000000              120.000000   212.000000   \n",
       "50%     55.500000    1.000000              130.000000   243.000000   \n",
       "75%     61.000000    1.000000              140.000000   275.500000   \n",
       "max     77.000000    1.000000              200.000000   564.000000   \n",
       "\n",
       "       fasting_blood_sugar    rest_ecg  max_heart_rate_achieved  \\\n",
       "count           366.000000  366.000000               339.000000   \n",
       "mean              0.139344    0.508197               149.401180   \n",
       "std               0.346779    0.522049                21.964161   \n",
       "min               0.000000    0.000000                71.000000   \n",
       "25%               0.000000    0.000000               133.500000   \n",
       "50%               0.000000    0.000000               152.000000   \n",
       "75%               0.000000    1.000000               165.000000   \n",
       "max               1.000000    2.000000               202.000000   \n",
       "\n",
       "       exercise_induced_angina  st_depression    st_slope  num_major_vessels  \\\n",
       "count               366.000000     366.000000  366.000000         366.000000   \n",
       "mean                  0.330601       1.068306    1.393443           0.778689   \n",
       "std                   0.471074       1.203138    0.613421           1.066390   \n",
       "min                   0.000000       0.000000    0.000000           0.000000   \n",
       "25%                   0.000000       0.000000    1.000000           0.000000   \n",
       "50%                   0.000000       0.800000    1.000000           0.000000   \n",
       "75%                   1.000000       1.800000    2.000000           1.000000   \n",
       "max                   1.000000       6.200000    2.000000           4.000000   \n",
       "\n",
       "       thalassemia      target  \n",
       "count   366.000000  366.000000  \n",
       "mean      2.349727    0.532787  \n",
       "std       0.585756    0.499607  \n",
       "min       1.000000    0.000000  \n",
       "25%       2.000000    0.000000  \n",
       "50%       2.000000    1.000000  \n",
       "75%       3.000000    1.000000  \n",
       "max       3.000000    1.000000  "
      ]
     },
     "execution_count": 5,
     "metadata": {},
     "output_type": "execute_result"
    }
   ],
   "source": [
    "print('Described Column Length:', len(data.describe().columns))\n",
    "data.describe()"
   ]
  },
  {
   "cell_type": "markdown",
   "metadata": {
    "colab_type": "text",
    "id": "3puhExH0-fVU"
   },
   "source": [
    "**Observation:**\n",
    "\n",
    "- **On average** there are **patients** of **age 54**.\n",
    "\n",
    "- **25% of patients** have **age <= to 47** while **50% and 75%** of **patients** have **age <= to 55 and 61** respectively.\n",
    "\n",
    "- **On average patients** have **resting blood pressure of 131.56 mmH**g.\n",
    "\n",
    "- **25% of patients** have **resting blood presuure <= 120 mmHg** while **50% and 75% of patients** have **resting blood pressure** of **<= 130 mmHg and <= 140 mmHg** respectively.\n",
    "\n",
    "- **On average patients** have **cholesterol of 247.56 mg/dl**.\n",
    "\n",
    "- **25% of patients** have **cholesterol <= 212 mg/dl** while **50% and 75% of patients** have **cholesterol <= 243 mg/dl and <= 275 mg/dl** respectively.\n",
    "\n",
    "- **On average patients** have **max heart rate achieved at 149.4**.\n",
    "\n",
    "- **25% of patients** have **max heart rate achieved <= 133.5 bpm** while **50% and 75% of patients** have **max heart rate achieved <= 152 bpm and <= 165 bpm** respectively.\n",
    "\n",
    "- **On average patients** have **ST depression of unit value**.\n",
    "\n",
    "- **25% of patients** have **no ST depression** while **50% and 75% of patients** have **ST depression <= 0.8 and <= 1.8** respectively."
   ]
  },
  {
   "cell_type": "markdown",
   "metadata": {
    "colab_type": "text",
    "id": "CMcfCv2v_WFG"
   },
   "source": [
    "<a id = Section42></a>\n",
    "### **4.2 Data Information**\n",
    "\n",
    "- In this section we will see the **information about the types of features**."
   ]
  },
  {
   "cell_type": "code",
   "execution_count": 6,
   "metadata": {
    "colab": {
     "base_uri": "https://localhost:8080/",
     "height": 370
    },
    "colab_type": "code",
    "executionInfo": {
     "elapsed": 47651,
     "status": "ok",
     "timestamp": 1592196241276,
     "user": {
      "displayName": "Varun Rao",
      "photoUrl": "",
      "userId": "01668619371257134222"
     },
     "user_tz": -330
    },
    "id": "DZcOTWBz_YRV",
    "outputId": "b8c98d2a-ba2b-41e0-ad0b-379786ebabb0"
   },
   "outputs": [
    {
     "name": "stdout",
     "output_type": "stream",
     "text": [
      "<class 'pandas.core.frame.DataFrame'>\n",
      "RangeIndex: 366 entries, 0 to 365\n",
      "Data columns (total 14 columns):\n",
      " #   Column                   Non-Null Count  Dtype  \n",
      "---  ------                   --------------  -----  \n",
      " 0   age                      366 non-null    int64  \n",
      " 1   sex                      366 non-null    int64  \n",
      " 2   chest_pain_type          366 non-null    object \n",
      " 3   resting_blood_pressure   366 non-null    int64  \n",
      " 4   cholesterol              348 non-null    float64\n",
      " 5   fasting_blood_sugar      366 non-null    int64  \n",
      " 6   rest_ecg                 366 non-null    int64  \n",
      " 7   max_heart_rate_achieved  339 non-null    float64\n",
      " 8   exercise_induced_angina  366 non-null    int64  \n",
      " 9   st_depression            366 non-null    float64\n",
      " 10  st_slope                 366 non-null    int64  \n",
      " 11  num_major_vessels        366 non-null    int64  \n",
      " 12  thalassemia              366 non-null    int64  \n",
      " 13  target                   366 non-null    int64  \n",
      "dtypes: float64(3), int64(10), object(1)\n",
      "memory usage: 40.2+ KB\n"
     ]
    }
   ],
   "source": [
    "data.info()"
   ]
  },
  {
   "cell_type": "markdown",
   "metadata": {
    "colab_type": "text",
    "id": "dnFasMg_NE5e"
   },
   "source": [
    "**Observation:**\n",
    "\n",
    "- We can see that features like **cholesterol, max_heart_rate_achieved contains missing values**.\n",
    "- There are **14 features** out of which **3 are float**, **10 are integer** and **1 is of object type**."
   ]
  },
  {
   "cell_type": "markdown",
   "metadata": {
    "colab_type": "text",
    "id": "kO--N9zZ_cqs"
   },
   "source": [
    "<a id = Section43></a>\n",
    "### **4.3 Numerical Data Distribution:**\n",
    "\n",
    "- We shall plot all **numerical features to analyze the distribution** of their past.\n",
    "- But **before** that we must **extract** all the **numerical** **features** which has been **performed** **below**."
   ]
  },
  {
   "cell_type": "code",
   "execution_count": 7,
   "metadata": {
    "colab": {
     "base_uri": "https://localhost:8080/",
     "height": 70
    },
    "colab_type": "code",
    "executionInfo": {
     "elapsed": 47638,
     "status": "ok",
     "timestamp": 1592196241277,
     "user": {
      "displayName": "Varun Rao",
      "photoUrl": "",
      "userId": "01668619371257134222"
     },
     "user_tz": -330
    },
    "id": "jfuNmfVG_aMk",
    "outputId": "360a45c4-e517-409a-a794-53cc13193d9c"
   },
   "outputs": [
    {
     "name": "stdout",
     "output_type": "stream",
     "text": [
      "Total Numerical Features: 3\n",
      "Features: ['cholesterol', 'max_heart_rate_achieved', 'st_depression']\n"
     ]
    }
   ],
   "source": [
    "num_feature = []\n",
    "\n",
    "for i in data.columns.values:\n",
    "  if ((data[i].dtype == int) | (data[i].dtype == float)):\n",
    "    num_feature.append(i)\n",
    "    \n",
    "print('Total Numerical Features:', len(num_feature))\n",
    "print('Features:', num_feature)"
   ]
  },
  {
   "cell_type": "code",
   "execution_count": 8,
   "metadata": {
    "colab": {
     "base_uri": "https://localhost:8080/",
     "height": 869
    },
    "colab_type": "code",
    "executionInfo": {
     "elapsed": 55546,
     "status": "ok",
     "timestamp": 1592196249200,
     "user": {
      "displayName": "Varun Rao",
      "photoUrl": "",
      "userId": "01668619371257134222"
     },
     "user_tz": -330
    },
    "id": "pt3SaX72_hWa",
    "outputId": "f4db676b-da8c-443e-bab3-9ba02ccf108c"
   },
   "outputs": [
    {
     "data": {
      "image/png": "[encoded data removed]",
      "text/plain": [
       "<Figure size 1080x864 with 16 Axes>"
      ]
     },
     "metadata": {},
     "output_type": "display_data"
    }
   ],
   "source": [
    "# Creating subplots\n",
    "fig, axes = plt.subplots(nrows = 4, ncols = 4, sharex = False, figsize=(15, 12))\n",
    "\n",
    "# Generating random colors based on number of columns\n",
    "colors = []\n",
    "for i in range(len(num_feature)):\n",
    "  colors.append('#%06X' % randint(0, 0xFFFFFF))   \n",
    "                \n",
    "for ax, col, color in zip(axes.flat, num_feature, colors):\n",
    "  sns.distplot(a = data[col], bins = 50, ax = ax, color = color)\n",
    "  ax.set_title(col)\n",
    "  plt.setp(axes, xlabel = '')\n",
    "  ax.grid(False)\n",
    "plt.tight_layout()\n",
    "plt.show()"
   ]
  },
  {
   "cell_type": "markdown",
   "metadata": {
    "colab_type": "text",
    "id": "ZGKqpBWeRReX"
   },
   "source": [
    "**Observation:**\n",
    "\n",
    "- **Positively Skewed Features:**\n",
    "  - resting_blood_pressure\n",
    "  - cholesterol\n",
    "  - st_depression\n",
    "  - num_major_vessels\n",
    "  - fasting_blood_sugar\n",
    "  - rest_ecg\n",
    "  - exercise_induced_angina\n",
    "  - st_slope\n",
    "  - thalassemia\n",
    "- **Negatively Skewed Features:**\n",
    "  - age\n",
    "  - sex\n",
    "- **Normally Skewed Features:**\n",
    "  - None"
   ]
  },
  {
   "cell_type": "markdown",
   "metadata": {
    "colab_type": "text",
    "id": "AnbIc77v_k4B"
   },
   "source": [
    "<a id = Section44></a>\n",
    "### **4.4 Pre Profiling Report**\n",
    "\n",
    "- For quick analysis pandas profiling is very handy.\n",
    "- Generates profile reports from a pandas DataFrame.\n",
    "- For each column statistics are presented in an interactive HTML report."
   ]
  },
  {
   "cell_type": "code",
   "execution_count": 9,
   "metadata": {
    "colab": {},
    "colab_type": "code",
    "id": "rXsQKEKK_nh7"
   },
   "outputs": [],
   "source": [
    "#profile = ProfileReport(df = data)\n",
    "#profile.to_file(output_file = 'Pre Profiling Report.html')\n",
    "#print('Accomplished!')"
   ]
  },
  {
   "cell_type": "code",
   "execution_count": 10,
   "metadata": {
    "colab": {},
    "colab_type": "code",
    "id": "rPKiSDQU_q2i"
   },
   "outputs": [],
   "source": [
    "# from google.colab import files                   # Use only if you are using Google Colab, otherwise remove it\n",
    "# files.download('Pre Profiling Report.html')      # Use only if you are using Google Colab, otherwise remove it"
   ]
  },
  {
   "cell_type": "markdown",
   "metadata": {
    "colab_type": "text",
    "id": "VnonSXwPoC2k"
   },
   "source": [
    "**Observation:**\n",
    "\n",
    "- **Report shows** that **there** are total **14 variables** out of which **6 are numeric, 4 are boolean and 4 are categorical**.\n",
    "- There is **missing information** of about **0.9% i.e 45 cells**.\n",
    "- There exists **41 duplicate rows**.\n",
    "- Features like **st_depression and num_major_vessels contains zeros**.\n",
    "- **age** is **negatively correlated** with **max_heart_rate_achieved**.\n",
    "- **st_depression** is **negatively correlated** with **st_slope**.\n",
    "- **Cholesterol** feature shows there are **18 null values** along with the significance that feature is **normally distribution**.\n",
    "- **max_heart_rate_achieved** feature shows **left skewness** in addition with **27 null values**.\n",
    "- In the **chest_pain_type** feature there is a **typo error** and it will be **fixed** in the **data processing part**."
   ]
  },
  {
   "cell_type": "markdown",
   "metadata": {
    "colab_type": "text",
    "id": "rFK3euW5_s66"
   },
   "source": [
    "<a id = Section5></a>\n",
    "\n",
    "---\n",
    "# **5. Data Pre-Processing**\n",
    "---"
   ]
  },
  {
   "cell_type": "markdown",
   "metadata": {
    "colab_type": "text",
    "id": "G-F7fcve_t9S"
   },
   "source": [
    "<a id = Section51></a>\n",
    "### **5.1 Identification & Handling of Missing Data**"
   ]
  },
  {
   "cell_type": "markdown",
   "metadata": {
    "colab_type": "text",
    "id": "r7hc7kba_y1S"
   },
   "source": [
    "#### **5.1.1 Null Data Identification & Handling**"
   ]
  },
  {
   "cell_type": "markdown",
   "metadata": {
    "colab_type": "text",
    "id": "ZdhpEd71_0pq"
   },
   "source": [
    "**Before Handling Null Data**"
   ]
  },
  {
   "cell_type": "code",
   "execution_count": 11,
   "metadata": {
    "colab": {
     "base_uri": "https://localhost:8080/",
     "height": 160
    },
    "colab_type": "code",
    "executionInfo": {
     "elapsed": 55535,
     "status": "ok",
     "timestamp": 1592196249206,
     "user": {
      "displayName": "Varun Rao",
      "photoUrl": "",
      "userId": "01668619371257134222"
     },
     "user_tz": -330
    },
    "id": "lRNf35f5_urx",
    "outputId": "7090290e-84da-4d49-89ff-900b7e49ccd2"
   },
   "outputs": [
    {
     "data": {
      "text/html": [
       "<div>\n",
       "<style scoped>\n",
       "    .dataframe tbody tr th:only-of-type {\n",
       "        vertical-align: middle;\n",
       "    }\n",
       "\n",
       "    .dataframe tbody tr th {\n",
       "        vertical-align: top;\n",
       "    }\n",
       "\n",
       "    .dataframe thead th {\n",
       "        text-align: right;\n",
       "    }\n",
       "</style>\n",
       "<table border=\"1\" class=\"dataframe\">\n",
       "  <thead>\n",
       "    <tr style=\"text-align: right;\">\n",
       "      <th></th>\n",
       "      <th>age</th>\n",
       "      <th>sex</th>\n",
       "      <th>chest_pain_type</th>\n",
       "      <th>resting_blood_pressure</th>\n",
       "      <th>cholesterol</th>\n",
       "      <th>fasting_blood_sugar</th>\n",
       "      <th>rest_ecg</th>\n",
       "      <th>max_heart_rate_achieved</th>\n",
       "      <th>exercise_induced_angina</th>\n",
       "      <th>st_depression</th>\n",
       "      <th>st_slope</th>\n",
       "      <th>num_major_vessels</th>\n",
       "      <th>thalassemia</th>\n",
       "      <th>target</th>\n",
       "    </tr>\n",
       "  </thead>\n",
       "  <tbody>\n",
       "    <tr>\n",
       "      <th>Null Frequency</th>\n",
       "      <td>0.0</td>\n",
       "      <td>0.0</td>\n",
       "      <td>0.0</td>\n",
       "      <td>0.0</td>\n",
       "      <td>18.00</td>\n",
       "      <td>0.0</td>\n",
       "      <td>0.0</td>\n",
       "      <td>27.00</td>\n",
       "      <td>0.0</td>\n",
       "      <td>0.0</td>\n",
       "      <td>0.0</td>\n",
       "      <td>0.0</td>\n",
       "      <td>0.0</td>\n",
       "      <td>0.0</td>\n",
       "    </tr>\n",
       "    <tr>\n",
       "      <th>Missing %age</th>\n",
       "      <td>0.0</td>\n",
       "      <td>0.0</td>\n",
       "      <td>0.0</td>\n",
       "      <td>0.0</td>\n",
       "      <td>4.92</td>\n",
       "      <td>0.0</td>\n",
       "      <td>0.0</td>\n",
       "      <td>7.38</td>\n",
       "      <td>0.0</td>\n",
       "      <td>0.0</td>\n",
       "      <td>0.0</td>\n",
       "      <td>0.0</td>\n",
       "      <td>0.0</td>\n",
       "      <td>0.0</td>\n",
       "    </tr>\n",
       "  </tbody>\n",
       "</table>\n",
       "</div>"
      ],
      "text/plain": [
       "                age  sex  chest_pain_type  resting_blood_pressure  \\\n",
       "Null Frequency  0.0  0.0              0.0                     0.0   \n",
       "Missing %age    0.0  0.0              0.0                     0.0   \n",
       "\n",
       "                cholesterol  fasting_blood_sugar  rest_ecg  \\\n",
       "Null Frequency        18.00                  0.0       0.0   \n",
       "Missing %age           4.92                  0.0       0.0   \n",
       "\n",
       "                max_heart_rate_achieved  exercise_induced_angina  \\\n",
       "Null Frequency                    27.00                      0.0   \n",
       "Missing %age                       7.38                      0.0   \n",
       "\n",
       "                st_depression  st_slope  num_major_vessels  thalassemia  \\\n",
       "Null Frequency            0.0       0.0                0.0          0.0   \n",
       "Missing %age              0.0       0.0                0.0          0.0   \n",
       "\n",
       "                target  \n",
       "Null Frequency     0.0  \n",
       "Missing %age       0.0  "
      ]
     },
     "execution_count": 11,
     "metadata": {},
     "output_type": "execute_result"
    }
   ],
   "source": [
    "null_frame = pd.DataFrame(index = data.columns.values)\n",
    "null_frame['Null Frequency'] = data.isnull().sum().values\n",
    "percent = data.isnull().sum().values/data.shape[0]\n",
    "null_frame['Missing %age'] = np.round(percent, decimals = 4) * 100\n",
    "null_frame.transpose()"
   ]
  },
  {
   "cell_type": "markdown",
   "metadata": {
    "colab_type": "text",
    "id": "wkH9UcLNWTfM"
   },
   "source": [
    "**Observation:**\n",
    "\n",
    "- **Feature**:\n",
    "  - Problem &rarr; Action Required\n",
    "- **cholestrol**:\n",
    "  - Missing Information (18) &rarr; Replace with Median value.\n",
    "- **max_heart_rate_achieved**:\n",
    "  - Missing Information (27) &rarr; Replace with Median value."
   ]
  },
  {
   "cell_type": "markdown",
   "metadata": {
    "colab_type": "text",
    "id": "NLRw5TZQW6nF"
   },
   "source": [
    "**Performing Operations**"
   ]
  },
  {
   "cell_type": "code",
   "execution_count": 12,
   "metadata": {
    "colab": {},
    "colab_type": "code",
    "id": "PYgUNsiCS-9G"
   },
   "outputs": [],
   "source": [
    "data['cholesterol'] = data['cholesterol'].replace(np.nan, data['cholesterol'].median())\n",
    "data['max_heart_rate_achieved'] = data['max_heart_rate_achieved'].replace(np.nan, data['max_heart_rate_achieved'].median())"
   ]
  },
  {
   "cell_type": "markdown",
   "metadata": {
    "colab_type": "text",
    "id": "1T8vnCHaXqRt"
   },
   "source": [
    "**After Handling Null Data**"
   ]
  },
  {
   "cell_type": "code",
   "execution_count": 13,
   "metadata": {
    "colab": {
     "base_uri": "https://localhost:8080/",
     "height": 160
    },
    "colab_type": "code",
    "executionInfo": {
     "elapsed": 55525,
     "status": "ok",
     "timestamp": 1592196249209,
     "user": {
      "displayName": "Varun Rao",
      "photoUrl": "",
      "userId": "01668619371257134222"
     },
     "user_tz": -330
    },
    "id": "zE929aU1Xm1u",
    "outputId": "a1df0386-db92-48a6-d00c-7bf3a1e0eaa6"
   },
   "outputs": [
    {
     "data": {
      "text/html": [
       "<div>\n",
       "<style scoped>\n",
       "    .dataframe tbody tr th:only-of-type {\n",
       "        vertical-align: middle;\n",
       "    }\n",
       "\n",
       "    .dataframe tbody tr th {\n",
       "        vertical-align: top;\n",
       "    }\n",
       "\n",
       "    .dataframe thead th {\n",
       "        text-align: right;\n",
       "    }\n",
       "</style>\n",
       "<table border=\"1\" class=\"dataframe\">\n",
       "  <thead>\n",
       "    <tr style=\"text-align: right;\">\n",
       "      <th></th>\n",
       "      <th>age</th>\n",
       "      <th>sex</th>\n",
       "      <th>chest_pain_type</th>\n",
       "      <th>resting_blood_pressure</th>\n",
       "      <th>cholesterol</th>\n",
       "      <th>fasting_blood_sugar</th>\n",
       "      <th>rest_ecg</th>\n",
       "      <th>max_heart_rate_achieved</th>\n",
       "      <th>exercise_induced_angina</th>\n",
       "      <th>st_depression</th>\n",
       "      <th>st_slope</th>\n",
       "      <th>num_major_vessels</th>\n",
       "      <th>thalassemia</th>\n",
       "      <th>target</th>\n",
       "    </tr>\n",
       "  </thead>\n",
       "  <tbody>\n",
       "    <tr>\n",
       "      <th>Null Frequency</th>\n",
       "      <td>0.0</td>\n",
       "      <td>0.0</td>\n",
       "      <td>0.0</td>\n",
       "      <td>0.0</td>\n",
       "      <td>0.0</td>\n",
       "      <td>0.0</td>\n",
       "      <td>0.0</td>\n",
       "      <td>0.0</td>\n",
       "      <td>0.0</td>\n",
       "      <td>0.0</td>\n",
       "      <td>0.0</td>\n",
       "      <td>0.0</td>\n",
       "      <td>0.0</td>\n",
       "      <td>0.0</td>\n",
       "    </tr>\n",
       "    <tr>\n",
       "      <th>Missing %age</th>\n",
       "      <td>0.0</td>\n",
       "      <td>0.0</td>\n",
       "      <td>0.0</td>\n",
       "      <td>0.0</td>\n",
       "      <td>0.0</td>\n",
       "      <td>0.0</td>\n",
       "      <td>0.0</td>\n",
       "      <td>0.0</td>\n",
       "      <td>0.0</td>\n",
       "      <td>0.0</td>\n",
       "      <td>0.0</td>\n",
       "      <td>0.0</td>\n",
       "      <td>0.0</td>\n",
       "      <td>0.0</td>\n",
       "    </tr>\n",
       "  </tbody>\n",
       "</table>\n",
       "</div>"
      ],
      "text/plain": [
       "                age  sex  chest_pain_type  resting_blood_pressure  \\\n",
       "Null Frequency  0.0  0.0              0.0                     0.0   \n",
       "Missing %age    0.0  0.0              0.0                     0.0   \n",
       "\n",
       "                cholesterol  fasting_blood_sugar  rest_ecg  \\\n",
       "Null Frequency          0.0                  0.0       0.0   \n",
       "Missing %age            0.0                  0.0       0.0   \n",
       "\n",
       "                max_heart_rate_achieved  exercise_induced_angina  \\\n",
       "Null Frequency                      0.0                      0.0   \n",
       "Missing %age                        0.0                      0.0   \n",
       "\n",
       "                st_depression  st_slope  num_major_vessels  thalassemia  \\\n",
       "Null Frequency            0.0       0.0                0.0          0.0   \n",
       "Missing %age              0.0       0.0                0.0          0.0   \n",
       "\n",
       "                target  \n",
       "Null Frequency     0.0  \n",
       "Missing %age       0.0  "
      ]
     },
     "execution_count": 13,
     "metadata": {},
     "output_type": "execute_result"
    }
   ],
   "source": [
    "null_frame = pd.DataFrame(index = data.columns.values)\n",
    "null_frame['Null Frequency'] = data.isnull().sum().values\n",
    "percent = data.isnull().sum().values/data.shape[0]\n",
    "null_frame['Missing %age'] = np.round(percent, decimals = 4) * 100\n",
    "null_frame.transpose()"
   ]
  },
  {
   "cell_type": "markdown",
   "metadata": {
    "colab_type": "text",
    "id": "_FBnC-SZXu5l"
   },
   "source": [
    "**Observation:**\n",
    "\n",
    "- We can see that we have **rid of all null values successfully**."
   ]
  },
  {
   "cell_type": "markdown",
   "metadata": {
    "colab_type": "text",
    "id": "Ssk9Ntm7Zt8c"
   },
   "source": [
    "<a id = Section52></a>\n",
    "### **5.2 Identification & Handling of Redundant Data**\n",
    "\n",
    "- In this section **we will identify redundant rows and columns** in our data if present."
   ]
  },
  {
   "cell_type": "markdown",
   "metadata": {
    "colab_type": "text",
    "id": "x-jhcoqjms9O"
   },
   "source": [
    "#### **5.2.1 Identfication & Handling of Redundant Rows**"
   ]
  },
  {
   "cell_type": "markdown",
   "metadata": {
    "colab_type": "text",
    "id": "LRhk-2nRZ4nx"
   },
   "source": [
    "**Before Handling Duplicate Rows**"
   ]
  },
  {
   "cell_type": "code",
   "execution_count": 14,
   "metadata": {
    "colab": {
     "base_uri": "https://localhost:8080/",
     "height": 50
    },
    "colab_type": "code",
    "executionInfo": {
     "elapsed": 55505,
     "status": "ok",
     "timestamp": 1592196249210,
     "user": {
      "displayName": "Varun Rao",
      "photoUrl": "",
      "userId": "01668619371257134222"
     },
     "user_tz": -330
    },
    "id": "JZhETV1uZpVN",
    "outputId": "58df2d52-45ad-4954-d88c-f27ec80b7c0c"
   },
   "outputs": [
    {
     "name": "stdout",
     "output_type": "stream",
     "text": [
      "Contains Redundant Records?: True\n",
      "Duplicate Count: 41\n"
     ]
    }
   ],
   "source": [
    "print('Contains Redundant Records?:', data.duplicated().any())\n",
    "print('Duplicate Count:', data.duplicated().sum())"
   ]
  },
  {
   "cell_type": "markdown",
   "metadata": {
    "colab_type": "text",
    "id": "OoP6QSAwab5r"
   },
   "source": [
    "**Observation:**\n",
    "\n",
    "- We can see that **there are redundant records present** in the data."
   ]
  },
  {
   "cell_type": "markdown",
   "metadata": {
    "colab_type": "text",
    "id": "PpZdtpYUZ5_z"
   },
   "source": [
    "**Performing Operations**"
   ]
  },
  {
   "cell_type": "code",
   "execution_count": 15,
   "metadata": {
    "colab": {
     "base_uri": "https://localhost:8080/",
     "height": 67
    },
    "colab_type": "code",
    "executionInfo": {
     "elapsed": 55498,
     "status": "ok",
     "timestamp": 1592196249211,
     "user": {
      "displayName": "Varun Rao",
      "photoUrl": "",
      "userId": "01668619371257134222"
     },
     "user_tz": -330
    },
    "id": "nPoIQz0_Z8Gw",
    "outputId": "6b4c56eb-3550-4618-a7ad-e1c1e8319007"
   },
   "outputs": [
    {
     "name": "stdout",
     "output_type": "stream",
     "text": [
      "Data Shape [Before]: (366, 14)\n",
      "Data Shape [After]: (325, 14)\n",
      "Drop Ratio: 11.0 %\n"
     ]
    }
   ],
   "source": [
    "before_shape = data.shape\n",
    "print('Data Shape [Before]:', before_shape)\n",
    "\n",
    "data.drop_duplicates(inplace = True)\n",
    "\n",
    "after_shape = data.shape\n",
    "print('Data Shape [After]:', after_shape)\n",
    "\n",
    "drop_nums = before_shape[0] - after_shape[0]\n",
    "drop_percent = np.round(drop_nums / before_shape[0], decimals = 2) * 100\n",
    "\n",
    "print('Drop Ratio:', drop_percent, '%')"
   ]
  },
  {
   "cell_type": "markdown",
   "metadata": {
    "colab_type": "text",
    "id": "umjCrDxCaOpG"
   },
   "source": [
    "**After Handling Duplicate Rows**"
   ]
  },
  {
   "cell_type": "code",
   "execution_count": 16,
   "metadata": {
    "colab": {
     "base_uri": "https://localhost:8080/",
     "height": 50
    },
    "colab_type": "code",
    "executionInfo": {
     "elapsed": 55490,
     "status": "ok",
     "timestamp": 1592196249212,
     "user": {
      "displayName": "Varun Rao",
      "photoUrl": "",
      "userId": "01668619371257134222"
     },
     "user_tz": -330
    },
    "id": "u91r_Fa7aR01",
    "outputId": "d6ec7d3b-b1c5-4b08-a1e0-35f176626e7b"
   },
   "outputs": [
    {
     "name": "stdout",
     "output_type": "stream",
     "text": [
      "Contains Redundant Records?: False\n",
      "Duplicate Count: 0\n"
     ]
    }
   ],
   "source": [
    "print('Contains Redundant Records?:', data.duplicated().any())\n",
    "print('Duplicate Count:', data.duplicated().sum())"
   ]
  },
  {
   "cell_type": "markdown",
   "metadata": {
    "colab_type": "text",
    "id": "DkOSWH7naUmW"
   },
   "source": [
    "**Observation:**\n",
    "\n",
    "- We have **successfully dropped redundant records**."
   ]
  },
  {
   "cell_type": "markdown",
   "metadata": {
    "colab_type": "text",
    "id": "fUbIXgSZamhm"
   },
   "source": [
    "#### **5.2.2 Identification & Handling of Redundant Features**\n",
    "\n",
    "- For handling duplicate features we have created a custom function to identify duplicacy in features with different name but similar values:"
   ]
  },
  {
   "cell_type": "code",
   "execution_count": 17,
   "metadata": {
    "colab": {},
    "colab_type": "code",
    "id": "cwLCkRnIaqvc"
   },
   "outputs": [],
   "source": [
    "def duplicate_cols(dataframe):\n",
    "  ls1 = []\n",
    "  ls2 = []\n",
    "\n",
    "  columns = dataframe.columns.values\n",
    "  for i in range(0, len(columns)):\n",
    "    for j in range(i+1, len(columns)):\n",
    "      if (np.where(dataframe[columns[i]] == dataframe[columns[j]], True, False).all() == True):\n",
    "        ls1.append(columns[i])\n",
    "        ls2.append(columns[j])\n",
    "\n",
    "  if ((len(ls1) == 0) & (len(ls2) == 0)):\n",
    "    return None\n",
    "  else:\n",
    "    duplicate_frame = pd.DataFrame()\n",
    "    duplicate_frame['Feature 1'] = ls1\n",
    "    duplicate_frame['Feature 2'] = ls2\n",
    "    return duplicate_frame"
   ]
  },
  {
   "cell_type": "code",
   "execution_count": 18,
   "metadata": {
    "colab": {
     "base_uri": "https://localhost:8080/",
     "height": 34
    },
    "colab_type": "code",
    "executionInfo": {
     "elapsed": 55480,
     "status": "ok",
     "timestamp": 1592196249213,
     "user": {
      "displayName": "Varun Rao",
      "photoUrl": "",
      "userId": "01668619371257134222"
     },
     "user_tz": -330
    },
    "id": "tm0xtVymasts",
    "outputId": "921dec0f-5119-4d83-ce8e-665b14bede07"
   },
   "outputs": [
    {
     "name": "stdout",
     "output_type": "stream",
     "text": [
      "None\n"
     ]
    }
   ],
   "source": [
    "print(duplicate_cols(data))"
   ]
  },
  {
   "cell_type": "markdown",
   "metadata": {
    "colab_type": "text",
    "id": "s0_ZhdOVaxAE"
   },
   "source": [
    "**Observation:**\n",
    "\n",
    "- It turns out that there **aren't any duplicate columns** in features."
   ]
  },
  {
   "cell_type": "markdown",
   "metadata": {
    "colab_type": "text",
    "id": "AbS0tfr9a7iX"
   },
   "source": [
    "<a id = Section53></a>\n",
    "### **5.3 Identification & Handling of Inconsistent Data Types**"
   ]
  },
  {
   "cell_type": "code",
   "execution_count": 19,
   "metadata": {
    "colab": {
     "base_uri": "https://localhost:8080/",
     "height": 420
    },
    "colab_type": "code",
    "executionInfo": {
     "elapsed": 1461,
     "status": "ok",
     "timestamp": 1592202922361,
     "user": {
      "displayName": "Varun Rao",
      "photoUrl": "",
      "userId": "01668619371257134222"
     },
     "user_tz": -330
    },
    "id": "o1f0bgHTfMyZ",
    "outputId": "670757c2-4040-4b32-de2c-b36401f66be0"
   },
   "outputs": [
    {
     "name": "stdout",
     "output_type": "stream",
     "text": [
      "<class 'pandas.core.frame.DataFrame'>\n",
      "Int64Index: 325 entries, 0 to 363\n",
      "Data columns (total 14 columns):\n",
      " #   Column                   Non-Null Count  Dtype  \n",
      "---  ------                   --------------  -----  \n",
      " 0   age                      325 non-null    int64  \n",
      " 1   sex                      325 non-null    int64  \n",
      " 2   chest_pain_type          325 non-null    object \n",
      " 3   resting_blood_pressure   325 non-null    int64  \n",
      " 4   cholesterol              325 non-null    float64\n",
      " 5   fasting_blood_sugar      325 non-null    int64  \n",
      " 6   rest_ecg                 325 non-null    int64  \n",
      " 7   max_heart_rate_achieved  325 non-null    float64\n",
      " 8   exercise_induced_angina  325 non-null    int64  \n",
      " 9   st_depression            325 non-null    float64\n",
      " 10  st_slope                 325 non-null    int64  \n",
      " 11  num_major_vessels        325 non-null    int64  \n",
      " 12  thalassemia              325 non-null    int64  \n",
      " 13  target                   325 non-null    int64  \n",
      "dtypes: float64(3), int64(10), object(1)\n",
      "memory usage: 38.1+ KB\n"
     ]
    }
   ],
   "source": [
    "data.info()"
   ]
  },
  {
   "cell_type": "markdown",
   "metadata": {
    "colab_type": "text",
    "id": "LqsnbJxUfZM1"
   },
   "source": [
    "**Observation:**\n",
    "\n",
    "- There is **no need** to **change** the **type** of data types as features have been pre-labelled with encoding.\n"
   ]
  },
  {
   "cell_type": "markdown",
   "metadata": {
    "colab_type": "text",
    "id": "nElS-VA2TWyH"
   },
   "source": [
    "<a id = Section54></a>\n",
    "### **5.4 Handling Typos**\n",
    "\n",
    "- In this section we will correct the value of labels which were incorrectly typed during data recording.\n",
    "- As we have only one categorical feature left with labels, we will observe if the values contains any typos."
   ]
  },
  {
   "cell_type": "code",
   "execution_count": 20,
   "metadata": {
    "colab": {
     "base_uri": "https://localhost:8080/",
     "height": 50
    },
    "colab_type": "code",
    "executionInfo": {
     "elapsed": 55465,
     "status": "ok",
     "timestamp": 1592196249214,
     "user": {
      "displayName": "Varun Rao",
      "photoUrl": "",
      "userId": "01668619371257134222"
     },
     "user_tz": -330
    },
    "id": "_7tZ8JOGTlN-",
    "outputId": "dd87924d-51f5-44af-82d8-2418f13c98f8"
   },
   "outputs": [
    {
     "data": {
      "text/plain": [
       "array(['asymptomatic', 'non-anginal pain', 'atypical angina',\n",
       "       'typical anginia', 'typical angina'], dtype=object)"
      ]
     },
     "execution_count": 20,
     "metadata": {},
     "output_type": "execute_result"
    }
   ],
   "source": [
    "data['chest_pain_type'].unique()"
   ]
  },
  {
   "cell_type": "markdown",
   "metadata": {
    "colab_type": "text",
    "id": "MsZrL7ctT4oa"
   },
   "source": [
    "**Observation:**\n",
    "\n",
    "- We can see that label **typical angina was incorrectly typed as typical anginia**."
   ]
  },
  {
   "cell_type": "markdown",
   "metadata": {
    "colab_type": "text",
    "id": "GS1Zb29GUD7i"
   },
   "source": [
    "**Performing Correction**\n",
    "\n",
    "- Before we will be replacing the given **pattern** i.e. **typical anginia** with the **replacement** value i.e. **typical angina**."
   ]
  },
  {
   "cell_type": "code",
   "execution_count": 21,
   "metadata": {
    "colab": {},
    "colab_type": "code",
    "id": "XrQXnBASX6WN"
   },
   "outputs": [],
   "source": [
    "data['chest_pain_type'] = data['chest_pain_type'].str.replace(pat = 'typical anginia', repl = 'typical angina')"
   ]
  },
  {
   "cell_type": "markdown",
   "metadata": {
    "colab_type": "text",
    "id": "UfUgez_ZUIxH"
   },
   "source": [
    "**Observation:**\n",
    "\n",
    "- We have **successfully handled typo** in our data."
   ]
  },
  {
   "cell_type": "markdown",
   "metadata": {
    "colab_type": "text",
    "id": "iPemSQkxftxV"
   },
   "source": [
    "<a id = Section55></a>\n",
    "### **5.5 Post Profiling Report**\n",
    "\n",
    "- In post profiling, we identify the changes over cleansed data."
   ]
  },
  {
   "cell_type": "code",
   "execution_count": 22,
   "metadata": {
    "colab": {},
    "colab_type": "code",
    "id": "X9rkv6cEfunJ"
   },
   "outputs": [],
   "source": [
    "#profile = ProfileReport(df = data)\n",
    "#profile.to_file(output_file = 'Post Profiling Report.html')\n",
    "#print('Accomplished!')"
   ]
  },
  {
   "cell_type": "code",
   "execution_count": 23,
   "metadata": {
    "colab": {},
    "colab_type": "code",
    "id": "d-WJ3Z8pfx8x"
   },
   "outputs": [],
   "source": [
    "#from google.colab import files                   # Use only if you are using Google Colab, otherwise remove it\n",
    "#files.download('Post Profiling Report.html')     # Use only if you are using Google Colab, otherwise remove it"
   ]
  },
  {
   "cell_type": "markdown",
   "metadata": {
    "colab_type": "text",
    "id": "rk6eqF8Of1eF"
   },
   "source": [
    "**Observation:**\n",
    "\n",
    "- Report shows that there are **neither missing cells** **nor duplicate rows** as identified earlier.\n",
    "- **age, max_heat_rate_achieved** feature is showing **negative skewnewss**.\n",
    "- **resting_blood_pressure,st_deptression, cholesterol** are having **postive skewness**.\n",
    "- Rest there is no change at all in behaviour.\n"
   ]
  },
  {
   "cell_type": "markdown",
   "metadata": {
    "colab_type": "text",
    "id": "u2w9kG_yh6Tj"
   },
   "source": [
    "<a id = Section6></a>\n",
    "# **6. Exploratory Data Analysis**"
   ]
  },
  {
   "cell_type": "markdown",
   "metadata": {
    "colab_type": "text",
    "id": "KWlMxXcJiNsU"
   },
   "source": [
    "**<h4>Question 1: What is the proportion of males and females having heart disease or not?</h4>**"
   ]
  },
  {
   "cell_type": "code",
   "execution_count": 24,
   "metadata": {
    "colab": {
     "base_uri": "https://localhost:8080/",
     "height": 468
    },
    "colab_type": "code",
    "executionInfo": {
     "elapsed": 55451,
     "status": "ok",
     "timestamp": 1592196249216,
     "user": {
      "displayName": "Varun Rao",
      "photoUrl": "",
      "userId": "01668619371257134222"
     },
     "user_tz": -330
    },
    "id": "vL-3t1bdkBku",
    "outputId": "ac82a9d2-6959-4fad-dc32-d781631787a7"
   },
   "outputs": [
    {
     "data": {
      "image/png": "[encoded data removed]",
      "text/plain": [
       "<Figure size 983.52x552.96 with 2 Axes>"
      ]
     },
     "metadata": {},
     "output_type": "display_data"
    }
   ],
   "source": [
    "males_data = data[data['sex'] == 1]\n",
    "females_data = data[data['sex'] == 0]\n",
    "\n",
    "figure = plt.figure(figsize = [12, 10])\n",
    "plt.subplot(1, 2, 1)\n",
    "space = np.ones(2)/10\n",
    "males_data['target'].value_counts().plot(kind = 'pie', explode = space, fontsize = 14, autopct = '%3.1f%%', wedgeprops = dict(width = 0.15), \n",
    "                                    shadow = True, startangle = 160, figsize = [13.66, 7.68], legend = True, labels = ['', ''])\n",
    "plt.legend(['No Heart Disease', 'Heart Disease'])\n",
    "plt.ylabel('Males', size = 14)\n",
    "\n",
    "plt.subplot(1, 2, 2)\n",
    "space = np.ones(2)/10\n",
    "females_data['target'].value_counts().plot(kind = 'pie', explode = space, fontsize = 14, autopct = '%3.1f%%', wedgeprops = dict(width=0.15), \n",
    "                                    shadow = True, startangle = 160, figsize = [13.66, 7.68], legend = True, labels = ['', ''])\n",
    "plt.legend(['No Heart Disease', 'Heart Disease'])\n",
    "plt.ylabel('Females', size = 14)\n",
    "plt.suptitle('Proportion of Males and Females vs Heart Disease', size = 16)\n",
    "plt.show()"
   ]
  },
  {
   "cell_type": "markdown",
   "metadata": {
    "colab_type": "text",
    "id": "rJp7GXUdSvQz"
   },
   "source": [
    "**Observation:**\n",
    "\n",
    "- Around **56% of males don't have heart disease** while **~44% of male** patients **have any heart disease**.\n",
    "- Around **74% of female patients don't have heart disease** while **~26% of female patients have any heart disease**."
   ]
  },
  {
   "cell_type": "markdown",
   "metadata": {
    "colab_type": "text",
    "id": "yeWy_91RWtlR"
   },
   "source": [
    "**<h4>Question 2: What is the proportion of males and females having different type of chest pain?</h4>**\n",
    "\n",
    "- **Typical Angina**: It is the presence of substernal chest pain or discomfort that was provoked by exertion or emotional stress and was relieved by rest and/or nitroglycerin.\n",
    "- **Non-Anginal Pain**: It is defended with the possibility of avoiding diagnoses such as \"atypical chest pain\" or \"atypical angina.\"\n",
    "- **Atypical Angina**: It implies that the complaint is actually angina pecto- ris, though not conforming in every way to the expected or classic description.\n",
    "- **Asymptomatic**: It means neither causing nor exhibiting symptoms of disease."
   ]
  },
  {
   "cell_type": "code",
   "execution_count": 25,
   "metadata": {
    "colab": {
     "base_uri": "https://localhost:8080/",
     "height": 506
    },
    "colab_type": "code",
    "executionInfo": {
     "elapsed": 55440,
     "status": "ok",
     "timestamp": 1592196249216,
     "user": {
      "displayName": "Varun Rao",
      "photoUrl": "",
      "userId": "01668619371257134222"
     },
     "user_tz": -330
    },
    "id": "O-gXtiAOnw6u",
    "outputId": "0beac9d6-1e59-465b-8429-0c0217da6cec"
   },
   "outputs": [
    {
     "data": {
      "image/png": "[encoded data removed]",
      "text/plain": [
       "<Figure size 983.52x552.96 with 2 Axes>"
      ]
     },
     "metadata": {},
     "output_type": "display_data"
    }
   ],
   "source": [
    "males_data = data[data['sex'] == 1]\n",
    "females_data = data[data['sex'] == 0]\n",
    "\n",
    "figure = plt.figure(figsize = [12, 10])\n",
    "plt.subplot(1, 2, 1)\n",
    "space = np.ones(4)/10\n",
    "males_data['chest_pain_type'].value_counts().plot(kind = 'pie', fontsize = 14, autopct = '%3.1f%%', wedgeprops = dict(width = 0.15), \n",
    "                                    shadow = True, startangle = 160, figsize = [13.66, 7.68], legend = True, labels = ['', '', '', ''])\n",
    "plt.legend(['Typical Angina', 'Non-Anginal Pain', 'Atypical Angina', 'Asymptomatic'])\n",
    "plt.ylabel('Males', size = 14)\n",
    "\n",
    "plt.subplot(1, 2, 2)\n",
    "space = np.ones(4)/10\n",
    "females_data['chest_pain_type'].value_counts().plot(kind = 'pie', fontsize = 14, autopct = '%3.1f%%', wedgeprops = dict(width=0.15), \n",
    "                                    shadow = True, startangle = 160, figsize = [13.66, 7.68], legend = True, labels = ['', '', '', ''])\n",
    "plt.legend(['Typical Angina', 'Non-Anginal Pain', 'Atypical Angina', 'Asymptomatic'])\n",
    "plt.ylabel('Females', size = 14)\n",
    "plt.suptitle('Males/Females vs Chest Pain', size = 16)\n",
    "plt.tight_layout(pad = 3.0)\n",
    "plt.show()"
   ]
  },
  {
   "cell_type": "markdown",
   "metadata": {
    "colab_type": "text",
    "id": "B94drQeeVNpU"
   },
   "source": [
    "**Observation:**\n",
    "\n",
    "- **Males:**\n",
    "  - Around **53% of males** have chest pain of **typical angina**.\n",
    "  - Around **24% of males** have chest pain of n**on anginal pain**.\n",
    "  - Around **15% of males** have chest pain of **atypical angina.**\n",
    "  - Around **9% of males** have chest pain of **asymptomatic**.\n",
    "\n",
    "- **Females:**\n",
    "  - Around **46% of females** have chest pain of **typical angina**.\n",
    "  - Around **33% of females** have chest pain of **non anginal pain**.\n",
    "  - Around **17% of females** have chest pain of **atypical angina**.\n",
    "  - Around **4% of females** have chest pain of **asymptomatic**."
   ]
  },
  {
   "cell_type": "markdown",
   "metadata": {
    "colab_type": "text",
    "id": "DRYu17iHalTu"
   },
   "source": [
    "**<h4>Question 3: What is the frequency of patients corresponding to the slope of the peak exercise ST segment?</h4>**\n",
    "\n",
    "**Note:** \n",
    "- ST segment depression (horizontal or downsloping, upsloping) is the most **reliable indicator of exercise-induced ischaemia**. \n",
    "- It is used routinely in **evaluating patients who present with chest pain**, in patients who have **chest pain on exertion**, and in patients with known **ischaemic heart disease**. \n",
    "- **Ischaemia** is a **restriction in blood supply to tissues**, causing a **shortage of oxygen** that is needed for cellular metabolism.\n",
    "\n",
    "**Example of ST Segment:**\n",
    "\n",
    "<center><img src = \"https://raw.githubusercontent.com/insaid2018/Domain_Case_Studies/master/Healthcare/Heart%20Disease%20Diagnosis/ecg11.f9.jpg\"></center>"
   ]
  },
  {
   "cell_type": "code",
   "execution_count": 26,
   "metadata": {
    "colab": {
     "base_uri": "https://localhost:8080/",
     "height": 464
    },
    "colab_type": "code",
    "executionInfo": {
     "elapsed": 55432,
     "status": "ok",
     "timestamp": 1592196249216,
     "user": {
      "displayName": "Varun Rao",
      "photoUrl": "",
      "userId": "01668619371257134222"
     },
     "user_tz": -330
    },
    "id": "SIk-xDH_XFYa",
    "outputId": "1dead0f2-d3de-4d18-de65-4fb42126c848"
   },
   "outputs": [
    {
     "data": {
      "image/png": "[encoded data removed]",
      "text/plain": [
       "<Figure size 864x504 with 1 Axes>"
      ]
     },
     "metadata": {},
     "output_type": "display_data"
    }
   ],
   "source": [
    "figure = plt.figure(figsize = [12, 7])\n",
    "\n",
    "ax = sns.countplot(x = 'st_slope', hue = 'sex', data = data, palette = ['#F67088', '#38A7D0'])\n",
    "total = data.shape[0]\n",
    "\n",
    "for p in ax.patches:\n",
    "  percentage = '{:.2f}%'.format(100 * p.get_height() / total)\n",
    "  x = p.get_x() + p.get_width() / 3\n",
    "  y = p.get_y() + p.get_height()\n",
    "  ax.annotate(percentage, (x, y))\n",
    "\n",
    "plt.xlabel('ST Slope', size = 14)\n",
    "plt.xticks(ticks = [0, 1, 2], labels = ['Upsloping', 'Flat', 'Downsloping'], rotation = 0)\n",
    "plt.ylabel('Percentage of Patients', size = 14)\n",
    "plt.legend(labels = ['Female', 'Male'])\n",
    "plt.title('Slope of the peak exercise ST segment', size = 16)\n",
    "plt.show()"
   ]
  },
  {
   "cell_type": "markdown",
   "metadata": {
    "colab_type": "text",
    "id": "50H1FV6mWfui"
   },
   "source": [
    "**Observation:**\n",
    "\n",
    "- **Males have ST slope more than females**.\n",
    "- **Upsloping:**\n",
    "  - **Males** have ST slope of **~5%** while **females** have ST slope of **~2%**.\n",
    "- **Flat:**\n",
    "  - **Males** have ST slope of **32%** while **females** have ST slope of **~15%**.\n",
    "- **Downsloping:**\n",
    "  - **Males**  have ST slope of **31%** while **females** have ST slope of **~15%**."
   ]
  },
  {
   "cell_type": "markdown",
   "metadata": {
    "colab_type": "text",
    "id": "bf6RdsfXeRo5"
   },
   "source": [
    "**<h4>Question 4: How much proportion of people having the heart disease or not with respect to their fasting blood sugar?</h4>**\n",
    "\n",
    "- **Note:** A fasting blood sugar level less than 100 mg/dL (5.6 mmol/L) is normal for healthy person."
   ]
  },
  {
   "cell_type": "code",
   "execution_count": 27,
   "metadata": {
    "colab": {
     "base_uri": "https://localhost:8080/",
     "height": 464
    },
    "colab_type": "code",
    "executionInfo": {
     "elapsed": 55424,
     "status": "ok",
     "timestamp": 1592196249218,
     "user": {
      "displayName": "Varun Rao",
      "photoUrl": "",
      "userId": "01668619371257134222"
     },
     "user_tz": -330
    },
    "id": "90W6x9jCdf5T",
    "outputId": "0946a6c6-0508-4b7e-8dad-9f3be40e03d3"
   },
   "outputs": [
    {
     "data": {
      "image/png": "[encoded data removed]",
      "text/plain": [
       "<Figure size 864x504 with 1 Axes>"
      ]
     },
     "metadata": {},
     "output_type": "display_data"
    }
   ],
   "source": [
    "figure = plt.figure(figsize = [12, 7])\n",
    "\n",
    "ax = sns.countplot(x = 'fasting_blood_sugar', hue = 'target', data = data, palette = ['#56DB7F', '#DB5E56'])\n",
    "total = data.shape[0]\n",
    "\n",
    "for p in ax.patches:\n",
    "  percentage = '{:.2f}%'.format(100 * p.get_height() / total)\n",
    "  x = p.get_x() + p.get_width() / 3\n",
    "  y = p.get_y() + p.get_height()\n",
    "  ax.annotate(percentage, (x, y))\n",
    "\n",
    "plt.xlabel('Fasting Blood Sugar', size = 14)\n",
    "plt.xticks(ticks = [0, 1, 2], labels = ['Less than 120 mg/ml', 'Greater than 120 mg/ml'], rotation = 0)\n",
    "plt.ylabel('Frequency', size = 14)\n",
    "plt.legend(labels = ['No Heart Disease', 'Heart Disease'])\n",
    "plt.title('Heart Disease vs Fasting Blood Sugar', size = 16)\n",
    "plt.show()"
   ]
  },
  {
   "cell_type": "markdown",
   "metadata": {
    "colab_type": "text",
    "id": "HxskaxuOXcAA"
   },
   "source": [
    "**Observation:**\n",
    "\n",
    "- **46% of patients** who have **fasting blood sugar < 120 mg/dl have heart disease** while **~40% of patients** who have **fasting blood sugar < 120 mg/dl dont have heart disease**.\n",
    "\n",
    "- **7% of patients** who have **fasting blood sugar > 120 mg/dl have heart disease** while **~7% of patients who have fasting blood sugar < 120 mg/dl dont have heart disease**."
   ]
  },
  {
   "cell_type": "markdown",
   "metadata": {
    "colab_type": "text",
    "id": "InLRxJ_XgE9-"
   },
   "source": [
    "**<h4>Question 5: What is the frequency and proportion of patients having heart disease or not based on the type of chest pain?</h4>**"
   ]
  },
  {
   "cell_type": "code",
   "execution_count": 28,
   "metadata": {
    "colab": {
     "base_uri": "https://localhost:8080/",
     "height": 464
    },
    "colab_type": "code",
    "executionInfo": {
     "elapsed": 55417,
     "status": "ok",
     "timestamp": 1592196249219,
     "user": {
      "displayName": "Varun Rao",
      "photoUrl": "",
      "userId": "01668619371257134222"
     },
     "user_tz": -330
    },
    "id": "NW1J6lAhgFeb",
    "outputId": "d0ed3977-0662-4fae-9901-86fd11079f52"
   },
   "outputs": [
    {
     "data": {
      "image/png": "[encoded data removed]",
      "text/plain": [
       "<Figure size 864x504 with 1 Axes>"
      ]
     },
     "metadata": {},
     "output_type": "display_data"
    }
   ],
   "source": [
    "figure = plt.figure(figsize = [12, 7])\n",
    "\n",
    "ax = sns.countplot(x = 'chest_pain_type', hue = 'target', data = data, palette = ['#33A02C', '#E31A1C'])\n",
    "total = data.shape[0]\n",
    "\n",
    "for p in ax.patches:\n",
    "  percentage = '{:.2f}%'.format(100 * p.get_height() / total)\n",
    "  x = p.get_x() + p.get_width() / 3\n",
    "  y = p.get_y() + p.get_height()\n",
    "  ax.annotate(percentage, (x, y))\n",
    "\n",
    "plt.xlabel('Chest Pain Type', size = 14)\n",
    "plt.xticks(ticks = [0, 1, 2, 3], labels = ['Asymptomatic', 'Atypical Angina', 'Non-Anginal Pain', 'Typical Angina'], rotation = 0)\n",
    "plt.ylabel('Frequency', size = 14)\n",
    "plt.legend(labels = ['No Heart Disease', 'Heart Disease'])\n",
    "plt.title('Heart Disease vs Chest pain Type', size = 16)\n",
    "plt.show()"
   ]
  },
  {
   "cell_type": "markdown",
   "metadata": {
    "colab_type": "text",
    "id": "gytR0XTgYTQf"
   },
   "source": [
    "**Observation:**\n",
    "\n",
    "- **Patients** suffering from **Asymptomatic Chest Pain** \n",
    "are approx **2X more** likely to  **have heart disease**.\n",
    "\n",
    "- **Patients** suffering from **Atypical Angina Chest Pain** \n",
    "are approx **4X more** likely to  **have heart disease**.\n",
    "\n",
    "- **Patients** suffering from **Non-Anginal Chest Pain** \n",
    "are approx **4X more** likely to  **have heart disease**.\n",
    "\n",
    "- **Patients** suffering from **Typical Angina Chest Pain** \n",
    "are approx **2X more** likely to  **have heart disease**."
   ]
  },
  {
   "cell_type": "markdown",
   "metadata": {
    "colab_type": "text",
    "id": "eWA5aC0thcEV"
   },
   "source": [
    "**<h4>Question 6: What is the frequency and proportion of patients having heart disease or not based on their thalassemia?</h4>**\n",
    "\n",
    "**Note:** \n",
    "\n",
    "- Thalassemia is a blood disorder passed down through families (inherited) in which the body makes an abnormal form or inadequate amount of hemoglobin.\n",
    "\n",
    "- **Normal Thalassemia:** The body makes normal amount of hemoglobin.\n",
    "- **Fixed Defect Thalassemia:** The body has inherited defect of producing abnormal amount of haemoglobin.\n",
    "- **Reversable Defect Thalassemia:** The body has inherited defect of producing abnormal amount of haemoglobin but the defect is reversable to normal."
   ]
  },
  {
   "cell_type": "code",
   "execution_count": 29,
   "metadata": {
    "colab": {
     "base_uri": "https://localhost:8080/",
     "height": 464
    },
    "colab_type": "code",
    "executionInfo": {
     "elapsed": 57002,
     "status": "ok",
     "timestamp": 1592196250816,
     "user": {
      "displayName": "Varun Rao",
      "photoUrl": "",
      "userId": "01668619371257134222"
     },
     "user_tz": -330
    },
    "id": "xQjIS5YihxwL",
    "outputId": "65568bc7-650b-4956-a2f0-65086ab57a30"
   },
   "outputs": [
    {
     "data": {
      "image/png": "[encoded data removed]",
      "text/plain": [
       "<Figure size 864x504 with 1 Axes>"
      ]
     },
     "metadata": {},
     "output_type": "display_data"
    }
   ],
   "source": [
    "figure = plt.figure(figsize = [12, 7])\n",
    "\n",
    "ax = sns.countplot(x = 'thalassemia', hue = 'target', data = data, palette = ['#2ECC71', '#E74C3C'])\n",
    "total = data.shape[0]\n",
    "\n",
    "for p in ax.patches:\n",
    "  percentage = '{:.2f}%'.format(100 * p.get_height() / total)\n",
    "  x = p.get_x() + p.get_width() / 3\n",
    "  y = p.get_y() + p.get_height()\n",
    "  ax.annotate(percentage, (x, y))\n",
    "\n",
    "plt.xlabel('Thalassemia', size = 14)\n",
    "plt.xticks(ticks = [0, 1, 2], labels = ['Normal', 'Fixed Defect', 'Reversable Defect'], rotation = 0)\n",
    "plt.ylabel('Frequency', size = 14)\n",
    "plt.legend(labels = ['No Heart Disease', 'Heart Disease'])\n",
    "plt.title('Heart Disease vs Thalassemia', size = 16)\n",
    "plt.show()"
   ]
  },
  {
   "cell_type": "markdown",
   "metadata": {
    "colab_type": "text",
    "id": "TBRJluDIZBSh"
   },
   "source": [
    "**Observation:**\n",
    "\n",
    "- Patients having **Normal Thalassemia** are **2X less likely to have heart disease**.\n",
    "\n",
    "- Patients having **Fixed Defect Thalassemia** are **4X more likely to have heart disease**.\n",
    "\n",
    "- Patients having **Reversable Defect Thalassemia** are **3X less likely to have heart disease**."
   ]
  },
  {
   "cell_type": "markdown",
   "metadata": {
    "colab_type": "text",
    "id": "d54cUpwMidE1"
   },
   "source": [
    "**<h4>Question 7: What is the association of cholesterol with age based on the sex of patients?</h4>**\n",
    "\n",
    "- **Note:** Total cholesterol levels less than 200 milligrams per deciliter (mg/dL) are considered desirable for adults."
   ]
  },
  {
   "cell_type": "code",
   "execution_count": 30,
   "metadata": {
    "colab": {
     "base_uri": "https://localhost:8080/",
     "height": 463
    },
    "colab_type": "code",
    "executionInfo": {
     "elapsed": 56996,
     "status": "ok",
     "timestamp": 1592196250820,
     "user": {
      "displayName": "Varun Rao",
      "photoUrl": "",
      "userId": "01668619371257134222"
     },
     "user_tz": -330
    },
    "id": "z2bh0kVWir6F",
    "outputId": "702d2010-4834-4d5e-fffd-fcf0f473c345"
   },
   "outputs": [
    {
     "data": {
      "image/png": "[encoded data removed]",
      "text/plain": [
       "<Figure size 1080x504 with 1 Axes>"
      ]
     },
     "metadata": {},
     "output_type": "display_data"
    }
   ],
   "source": [
    "figure = plt.figure(figsize = [15, 7])\n",
    "sns.scatterplot(x = 'age', y = 'cholesterol', hue = 'sex', data = data, palette = ['#F67088', '#38A7D0'])\n",
    "plt.xlabel('Age', size = 14)\n",
    "plt.ylabel('Cholesterol', size = 14)\n",
    "plt.title('Correlation of Cholestrol in different Sex and Age', size = 16)\n",
    "plt.legend()\n",
    "plt.tight_layout(pad = 3.0)\n",
    "plt.show()"
   ]
  },
  {
   "cell_type": "markdown",
   "metadata": {
    "colab_type": "text",
    "id": "C7ch-YO6elSH"
   },
   "source": [
    "**Note:** Above we have represented Male:1 and Female:0"
   ]
  },
  {
   "cell_type": "markdown",
   "metadata": {
    "colab_type": "text",
    "id": "km9vLRcxZ6sp"
   },
   "source": [
    "**Observation:**\n",
    "\n",
    "- Both **male and female** patients seem to **similar cholesterol levels upto 60 years**.\n",
    "- **Some female patients above 60 years** have **higher cholestrol** than male patients of the same age."
   ]
  },
  {
   "cell_type": "markdown",
   "metadata": {
    "colab_type": "text",
    "id": "SRWJtomfb9iS"
   },
   "source": [
    "**Note:** These are few question, from here if you would like to explore further, you are most welcome."
   ]
  },
  {
   "cell_type": "markdown",
   "metadata": {
    "colab_type": "text",
    "id": "wCTelXPrlRua"
   },
   "source": [
    "<a id = Section7></a>\n",
    "\n",
    "---\n",
    "# **7. Post Data Processing & Feature Selection**\n",
    "---\n",
    "\n",
    "- In this part we will **perform encoding over categorical features** and **feed it** to the **Random Forest** because machines can't understand human language.\n",
    "- **Random Forest** will then **identify important features** for our model **using threshold** over the information gain over reduction in impurity.\n",
    "- As we can see **most of the features** are **already encoded**, we need to **encode only chest_pain_type** feature.\n",
    "- And **finally** we will **split** our **data** for the **model development**."
   ]
  },
  {
   "cell_type": "markdown",
   "metadata": {
    "colab_type": "text",
    "id": "5jZ4Zqk8cDe0"
   },
   "source": [
    "<a id = Section71></a>\n",
    "### **7.1 Encoding Categorical Features**\n",
    "\n",
    "- In this part we will perform transformation of categorical features to numeric using get_dummies()."
   ]
  },
  {
   "cell_type": "markdown",
   "metadata": {
    "colab_type": "text",
    "id": "3uVM4_53cVD0"
   },
   "source": [
    "**Before Transformation**"
   ]
  },
  {
   "cell_type": "code",
   "execution_count": 31,
   "metadata": {
    "colab": {
     "base_uri": "https://localhost:8080/",
     "height": 126
    },
    "colab_type": "code",
    "executionInfo": {
     "elapsed": 56991,
     "status": "ok",
     "timestamp": 1592196250823,
     "user": {
      "displayName": "Varun Rao",
      "photoUrl": "",
      "userId": "01668619371257134222"
     },
     "user_tz": -330
    },
    "id": "UNTn2MdSoAQK",
    "outputId": "3e0203a6-8588-492c-bdbe-12a4e9372db1"
   },
   "outputs": [
    {
     "data": {
      "text/html": [
       "<div>\n",
       "<style scoped>\n",
       "    .dataframe tbody tr th:only-of-type {\n",
       "        vertical-align: middle;\n",
       "    }\n",
       "\n",
       "    .dataframe tbody tr th {\n",
       "        vertical-align: top;\n",
       "    }\n",
       "\n",
       "    .dataframe thead th {\n",
       "        text-align: right;\n",
       "    }\n",
       "</style>\n",
       "<table border=\"1\" class=\"dataframe\">\n",
       "  <thead>\n",
       "    <tr style=\"text-align: right;\">\n",
       "      <th></th>\n",
       "      <th>age</th>\n",
       "      <th>sex</th>\n",
       "      <th>chest_pain_type</th>\n",
       "      <th>resting_blood_pressure</th>\n",
       "      <th>cholesterol</th>\n",
       "      <th>fasting_blood_sugar</th>\n",
       "      <th>rest_ecg</th>\n",
       "      <th>max_heart_rate_achieved</th>\n",
       "      <th>exercise_induced_angina</th>\n",
       "      <th>st_depression</th>\n",
       "      <th>st_slope</th>\n",
       "      <th>num_major_vessels</th>\n",
       "      <th>thalassemia</th>\n",
       "      <th>target</th>\n",
       "    </tr>\n",
       "  </thead>\n",
       "  <tbody>\n",
       "    <tr>\n",
       "      <th>0</th>\n",
       "      <td>63</td>\n",
       "      <td>1</td>\n",
       "      <td>asymptomatic</td>\n",
       "      <td>145</td>\n",
       "      <td>233.0</td>\n",
       "      <td>1</td>\n",
       "      <td>0</td>\n",
       "      <td>150.0</td>\n",
       "      <td>0</td>\n",
       "      <td>2.3</td>\n",
       "      <td>0</td>\n",
       "      <td>0</td>\n",
       "      <td>1</td>\n",
       "      <td>1</td>\n",
       "    </tr>\n",
       "    <tr>\n",
       "      <th>1</th>\n",
       "      <td>37</td>\n",
       "      <td>1</td>\n",
       "      <td>non-anginal pain</td>\n",
       "      <td>130</td>\n",
       "      <td>250.0</td>\n",
       "      <td>0</td>\n",
       "      <td>1</td>\n",
       "      <td>187.0</td>\n",
       "      <td>0</td>\n",
       "      <td>3.5</td>\n",
       "      <td>0</td>\n",
       "      <td>0</td>\n",
       "      <td>2</td>\n",
       "      <td>1</td>\n",
       "    </tr>\n",
       "  </tbody>\n",
       "</table>\n",
       "</div>"
      ],
      "text/plain": [
       "   age  sex   chest_pain_type  resting_blood_pressure  cholesterol  \\\n",
       "0   63    1      asymptomatic                     145        233.0   \n",
       "1   37    1  non-anginal pain                     130        250.0   \n",
       "\n",
       "   fasting_blood_sugar  rest_ecg  max_heart_rate_achieved  \\\n",
       "0                    1         0                    150.0   \n",
       "1                    0         1                    187.0   \n",
       "\n",
       "   exercise_induced_angina  st_depression  st_slope  num_major_vessels  \\\n",
       "0                        0            2.3         0                  0   \n",
       "1                        0            3.5         0                  0   \n",
       "\n",
       "   thalassemia  target  \n",
       "0            1       1  \n",
       "1            2       1  "
      ]
     },
     "execution_count": 31,
     "metadata": {},
     "output_type": "execute_result"
    }
   ],
   "source": [
    "data.head(2)"
   ]
  },
  {
   "cell_type": "markdown",
   "metadata": {
    "colab_type": "text",
    "id": "wbWxOZbQcdD5"
   },
   "source": [
    "**Observation:**\n",
    "\n",
    "- We can see **chest_pain_type contains categorical labels**."
   ]
  },
  {
   "cell_type": "markdown",
   "metadata": {
    "colab_type": "text",
    "id": "77NWjv5ycQ5m"
   },
   "source": [
    "**Performing Operations:**"
   ]
  },
  {
   "cell_type": "code",
   "execution_count": 32,
   "metadata": {
    "colab": {},
    "colab_type": "code",
    "id": "P8MQJ1KNjNFd"
   },
   "outputs": [],
   "source": [
    "data = pd.get_dummies(data = data, columns = ['chest_pain_type'])"
   ]
  },
  {
   "cell_type": "markdown",
   "metadata": {
    "colab_type": "text",
    "id": "0ZPXFET6cYQP"
   },
   "source": [
    "**After Transformation**"
   ]
  },
  {
   "cell_type": "code",
   "execution_count": 33,
   "metadata": {
    "colab": {
     "base_uri": "https://localhost:8080/",
     "height": 143
    },
    "colab_type": "code",
    "executionInfo": {
     "elapsed": 56983,
     "status": "ok",
     "timestamp": 1592196250828,
     "user": {
      "displayName": "Varun Rao",
      "photoUrl": "",
      "userId": "01668619371257134222"
     },
     "user_tz": -330
    },
    "id": "JfC08K2xoaYS",
    "outputId": "7a576441-9719-4003-eb8e-8a84fce8a01b"
   },
   "outputs": [
    {
     "data": {
      "text/html": [
       "<div>\n",
       "<style scoped>\n",
       "    .dataframe tbody tr th:only-of-type {\n",
       "        vertical-align: middle;\n",
       "    }\n",
       "\n",
       "    .dataframe tbody tr th {\n",
       "        vertical-align: top;\n",
       "    }\n",
       "\n",
       "    .dataframe thead th {\n",
       "        text-align: right;\n",
       "    }\n",
       "</style>\n",
       "<table border=\"1\" class=\"dataframe\">\n",
       "  <thead>\n",
       "    <tr style=\"text-align: right;\">\n",
       "      <th></th>\n",
       "      <th>age</th>\n",
       "      <th>sex</th>\n",
       "      <th>resting_blood_pressure</th>\n",
       "      <th>cholesterol</th>\n",
       "      <th>fasting_blood_sugar</th>\n",
       "      <th>rest_ecg</th>\n",
       "      <th>max_heart_rate_achieved</th>\n",
       "      <th>exercise_induced_angina</th>\n",
       "      <th>st_depression</th>\n",
       "      <th>st_slope</th>\n",
       "      <th>num_major_vessels</th>\n",
       "      <th>thalassemia</th>\n",
       "      <th>target</th>\n",
       "      <th>chest_pain_type_asymptomatic</th>\n",
       "      <th>chest_pain_type_atypical angina</th>\n",
       "      <th>chest_pain_type_non-anginal pain</th>\n",
       "      <th>chest_pain_type_typical angina</th>\n",
       "    </tr>\n",
       "  </thead>\n",
       "  <tbody>\n",
       "    <tr>\n",
       "      <th>0</th>\n",
       "      <td>63</td>\n",
       "      <td>1</td>\n",
       "      <td>145</td>\n",
       "      <td>233.0</td>\n",
       "      <td>1</td>\n",
       "      <td>0</td>\n",
       "      <td>150.0</td>\n",
       "      <td>0</td>\n",
       "      <td>2.3</td>\n",
       "      <td>0</td>\n",
       "      <td>0</td>\n",
       "      <td>1</td>\n",
       "      <td>1</td>\n",
       "      <td>1</td>\n",
       "      <td>0</td>\n",
       "      <td>0</td>\n",
       "      <td>0</td>\n",
       "    </tr>\n",
       "    <tr>\n",
       "      <th>1</th>\n",
       "      <td>37</td>\n",
       "      <td>1</td>\n",
       "      <td>130</td>\n",
       "      <td>250.0</td>\n",
       "      <td>0</td>\n",
       "      <td>1</td>\n",
       "      <td>187.0</td>\n",
       "      <td>0</td>\n",
       "      <td>3.5</td>\n",
       "      <td>0</td>\n",
       "      <td>0</td>\n",
       "      <td>2</td>\n",
       "      <td>1</td>\n",
       "      <td>0</td>\n",
       "      <td>0</td>\n",
       "      <td>1</td>\n",
       "      <td>0</td>\n",
       "    </tr>\n",
       "  </tbody>\n",
       "</table>\n",
       "</div>"
      ],
      "text/plain": [
       "   age  sex  resting_blood_pressure  cholesterol  fasting_blood_sugar  \\\n",
       "0   63    1                     145        233.0                    1   \n",
       "1   37    1                     130        250.0                    0   \n",
       "\n",
       "   rest_ecg  max_heart_rate_achieved  exercise_induced_angina  st_depression  \\\n",
       "0         0                    150.0                        0            2.3   \n",
       "1         1                    187.0                        0            3.5   \n",
       "\n",
       "   st_slope  num_major_vessels  thalassemia  target  \\\n",
       "0         0                  0            1       1   \n",
       "1         0                  0            2       1   \n",
       "\n",
       "   chest_pain_type_asymptomatic  chest_pain_type_atypical angina  \\\n",
       "0                             1                                0   \n",
       "1                             0                                0   \n",
       "\n",
       "   chest_pain_type_non-anginal pain  chest_pain_type_typical angina  \n",
       "0                                 0                               0  \n",
       "1                                 1                               0  "
      ]
     },
     "execution_count": 33,
     "metadata": {},
     "output_type": "execute_result"
    }
   ],
   "source": [
    "data.head(2)"
   ]
  },
  {
   "cell_type": "markdown",
   "metadata": {
    "colab_type": "text",
    "id": "ucdOwwfocpEu"
   },
   "source": [
    "**Observation:**\n",
    "\n",
    "- We have **successfully transformed** the **categorical data** to numeric."
   ]
  },
  {
   "cell_type": "markdown",
   "metadata": {
    "colab_type": "text",
    "id": "mVUI6g1MoiLH"
   },
   "source": [
    "<a id = Section72></a>\n",
    "### **7.2 Feature Selection using Random Forest**\n",
    "\n",
    "- Now in **real world**, it is very **rare** that **all** the **features** are **important** while developing the model. \n",
    "- So **instead** we **analyze** the **impact** of **input over the target**, either done by performing **statistical** **tests**(Pearson, ANOVA, Chi-Square) or by using **Random Forest**.\n",
    "- **Random forests** are one the most **popular machine learning algorithms** because they **provide**:\n",
    " - **a good predictive performance**,\n",
    " - **low overfitting and**\n",
    " - **easy interpretability.** \n",
    "- This **interpretability** is **derived** from the **importance of each feature** on the tree decision **evaluated** on the **reduction** in **impurity**. \n",
    "- In other words, it is **easy to compute** how much **each feature is contributing** to the **decision**.\n",
    "- **Below** we have **implemented** a function namely, **SelectFromModel** **available** in **Sklearn** which **uses** the **base estimator** to **identify** **important features**.\n",
    "- The **importance** of feature is **determined** on the **basis** of **threshold** (a measure to calculate feature importance)."
   ]
  },
  {
   "cell_type": "code",
   "execution_count": 34,
   "metadata": {
    "colab": {},
    "colab_type": "code",
    "id": "Y4NEwzH9obU8"
   },
   "outputs": [],
   "source": [
    "X = data.drop('target', axis = 1)\n",
    "y = data['target']"
   ]
  },
  {
   "cell_type": "markdown",
   "metadata": {
    "colab_type": "text",
    "id": "oglFDWGLc0Av"
   },
   "source": [
    "**Extracting Important Feature**"
   ]
  },
  {
   "cell_type": "code",
   "execution_count": 35,
   "metadata": {
    "colab": {
     "base_uri": "https://localhost:8080/",
     "height": 87
    },
    "colab_type": "code",
    "executionInfo": {
     "elapsed": 56975,
     "status": "ok",
     "timestamp": 1592196250832,
     "user": {
      "displayName": "Varun Rao",
      "photoUrl": "",
      "userId": "01668619371257134222"
     },
     "user_tz": -330
    },
    "id": "bcaQwRf3osZa",
    "outputId": "e4805941-012d-487d-e3d8-7eeef7f6889f"
   },
   "outputs": [
    {
     "name": "stdout",
     "output_type": "stream",
     "text": [
      "Total Features Selected are 8\n",
      "Threshold set by Model: 0.06\n",
      "Features: ['age', 'resting_blood_pressure', 'cholesterol', 'max_heart_rate_achieved', 'st_depression', 'num_major_vessels', 'thalassemia', 'chest_pain_type_typical angina']\n"
     ]
    }
   ],
   "source": [
    "# Have some patience, may take some time :)\n",
    "selector = SelectFromModel(RandomForestClassifier(n_estimators = 100, random_state = 42, n_jobs = -1))\n",
    "selector.fit(X, y)\n",
    "\n",
    "# Extracting list of important features\n",
    "selected_feat = X.columns[(selector.get_support())].tolist()\n",
    "\n",
    "print('Total Features Selected are', len(selected_feat))\n",
    "\n",
    "# Estimated by taking mean(default) of feature importance\n",
    "print('Threshold set by Model:', np.round(selector.threshold_, decimals = 2))\n",
    "print('Features:', selected_feat)"
   ]
  },
  {
   "cell_type": "markdown",
   "metadata": {
    "colab_type": "text",
    "id": "Tb3wS6IJo3qU"
   },
   "source": [
    "**Visualzation of Important Features:**\n",
    "\n",
    "- Below features are plotted against their relative importance (in %age),  of each feature."
   ]
  },
  {
   "cell_type": "code",
   "execution_count": 36,
   "metadata": {
    "colab": {
     "base_uri": "https://localhost:8080/",
     "height": 519
    },
    "colab_type": "code",
    "executionInfo": {
     "elapsed": 58542,
     "status": "ok",
     "timestamp": 1592196252408,
     "user": {
      "displayName": "Varun Rao",
      "photoUrl": "",
      "userId": "01668619371257134222"
     },
     "user_tz": -330
    },
    "id": "OIYqcBVzozRQ",
    "outputId": "fa95e252-b689-4a08-9380-22e206afffcb"
   },
   "outputs": [
    {
     "data": {
      "image/png": "[encoded data removed]",
      "text/plain": [
       "<Figure size 1080x576 with 1 Axes>"
      ]
     },
     "metadata": {},
     "output_type": "display_data"
    }
   ],
   "source": [
    "# Have some patience, may take some time :)\n",
    "figure = plt.figure(figsize = [15, 8])\n",
    "\n",
    "# If you don't want relative importance, use relative = False in below method\n",
    "viz = FeatureImportances(selector.estimator, relative = False)\n",
    "viz.fit(X, y)\n",
    "\n",
    "plt.xlabel('Relative Importance', size = 14)\n",
    "plt.ylabel('Features', size = 14)\n",
    "plt.title(label = 'Feature Importances', size = 16)\n",
    "plt.show()"
   ]
  },
  {
   "cell_type": "markdown",
   "metadata": {
    "colab_type": "text",
    "id": "OwcFGqJkpKDH"
   },
   "source": [
    "<a id = Section73></a>\n",
    "### **7.3 Data Preparation**\n",
    "\n",
    "- Now we will **split** our **data** in **training** and **testing** part for further development."
   ]
  },
  {
   "cell_type": "code",
   "execution_count": 37,
   "metadata": {
    "colab": {
     "base_uri": "https://localhost:8080/",
     "height": 50
    },
    "colab_type": "code",
    "executionInfo": {
     "elapsed": 58535,
     "status": "ok",
     "timestamp": 1592196252410,
     "user": {
      "displayName": "Varun Rao",
      "photoUrl": "",
      "userId": "01668619371257134222"
     },
     "user_tz": -330
    },
    "id": "06Peb-y-pJzx",
    "outputId": "e60319ef-b582-4088-ecb1-b7441646cdde"
   },
   "outputs": [
    {
     "name": "stdout",
     "output_type": "stream",
     "text": [
      "Training Data Shape: (260, 16) (260,)\n",
      "Testing Data Shape: (65, 16) (65,)\n"
     ]
    }
   ],
   "source": [
    "X_train, X_test, y_train, y_test = train_test_split(X, y, test_size = 0.2, random_state = 42, stratify = y)\n",
    "\n",
    "print('Training Data Shape:', X_train.shape, y_train.shape)\n",
    "print('Testing Data Shape:', X_test.shape, y_test.shape)"
   ]
  },
  {
   "cell_type": "markdown",
   "metadata": {
    "colab_type": "text",
    "id": "v_KMNAVSdDOZ"
   },
   "source": [
    "**Observation:**\n",
    "\n",
    "- Now that we have split out our data, we are **good to go with model development**."
   ]
  },
  {
   "cell_type": "markdown",
   "metadata": {
    "colab_type": "text",
    "id": "BzWMkBdkpwPr"
   },
   "source": [
    "<a id = Section8></a>\n",
    "\n",
    "---\n",
    "# **8. Model Development & Evaluation**\n",
    "---\n",
    "\n",
    "- In this section we will **develop differnt models using only importatnt feature** as marked important by Random Forest.\n",
    "- Then we will **compare the results** obtained from them and make our observation.\n",
    "- For **evaluation purpose** we will plot **precision and recall** for **each** **estimator** for which have **made** a **custom function below**.\n",
    "- **Remember** that **we want generalize results** i.e. same results or error in testing data as that of training data.\n",
    "- **At the end** we will **tune** our **models if required**."
   ]
  },
  {
   "cell_type": "code",
   "execution_count": 38,
   "metadata": {
    "colab": {},
    "colab_type": "code",
    "id": "kMRwVNe6qEir"
   },
   "outputs": [],
   "source": [
    "def plot_precision_recall(y_true, y_pred, train_or_test):\n",
    "  '''\n",
    "  y_true: Acutal values of the target\n",
    "  y_pred: Predicted values of the target. Either predict_proba or decision_function\n",
    "  line_show: Plot avergae values \"precision\" or \"recall\"\n",
    "  train_or_test: Train Data or Test Data\n",
    "  '''\n",
    "  precisions, recalls, thresholds = precision_recall_curve(y_true = y_true, probas_pred = y_pred)\n",
    "\n",
    "  average_precision = np.mean(precisions)\n",
    "  average_recall = np.mean(recalls)\n",
    "\n",
    "  sns.lineplot(x = recalls, y = precisions, linewidth = 2, ci = None)\n",
    "  plt.plot([0, 1], [average_precision, average_precision], 'r-')\n",
    "  plt.plot([average_recall, average_recall], [0, 1], 'g-')\n",
    "  plt.xlabel('Recall', fontsize = 14)\n",
    "  plt.xticks(ticks = [0, 0.1, 0.2, 0.3, 0.4, 0.5, 0.6, 0.7, 0.8, 0.9, 1.0])\n",
    "  plt.yticks(ticks = [0, 0.1, 0.2, 0.3, 0.4, 0.5, 0.6, 0.7, 0.8, 0.9, 1.0])\n",
    "  plt.ylabel('Precision', fontsize = 14)\n",
    "  plt.title(train_or_test, fontsize = 16)\n",
    "  plt.legend(labels = ['Binary PR Curve', 'AP {:.2f}'.format(average_precision), 'AR {:.2f}'.format(average_recall)])\n",
    "  plt.grid(True)"
   ]
  },
  {
   "cell_type": "markdown",
   "metadata": {
    "colab_type": "text",
    "id": "iFlztRzjjx1v"
   },
   "source": [
    "<a id = Section81></a>\n",
    "## **8.1 Essential Features Models**"
   ]
  },
  {
   "cell_type": "markdown",
   "metadata": {
    "colab_type": "text",
    "id": "KbO0fdbzxrXc"
   },
   "source": [
    "<a id = Section811></a>\n",
    "### **8.1.1 Logistic Regression**"
   ]
  },
  {
   "cell_type": "code",
   "execution_count": 39,
   "metadata": {
    "colab": {
     "base_uri": "https://localhost:8080/",
     "height": 462
    },
    "colab_type": "code",
    "executionInfo": {
     "elapsed": 58528,
     "status": "ok",
     "timestamp": 1592196252414,
     "user": {
      "displayName": "Varun Rao",
      "photoUrl": "",
      "userId": "01668619371257134222"
     },
     "user_tz": -330
    },
    "id": "f0lJdzC0gzxL",
    "outputId": "bf050fa7-0e5e-476d-dec7-5dad19704a68"
   },
   "outputs": [
    {
     "data": {
      "image/png": "[encoded data removed]",
      "text/plain": [
       "<Figure size 1080x504 with 4 Axes>"
      ]
     },
     "metadata": {},
     "output_type": "display_data"
    }
   ],
   "source": [
    "log  = LogisticRegression(random_state = 42)\n",
    "log.fit(X_train, y_train)\n",
    "\n",
    "y_train_pred_count = log.predict(X_train)\n",
    "y_test_pred_count = log.predict(X_test)\n",
    "\n",
    "y_train_pred_proba = log.predict_proba(X_train)\n",
    "y_test_pred_proba = log.predict_proba(X_test)\n",
    "\n",
    "fig, (ax1, ax2) = plt.subplots(nrows = 1, ncols = 2, sharex = False, figsize=(15, 7))\n",
    "plot_confusion_matrix(estimator = log, X = X_train, y_true = y_train, values_format = '.5g', cmap = 'YlGnBu', ax = ax1)\n",
    "plot_confusion_matrix(estimator = log, X = X_test, y_true = y_test, values_format = '.5g', cmap = 'YlGnBu', ax = ax2)\n",
    "ax1.set_title(label = 'Train Data', size = 14)\n",
    "ax2.set_title(label = 'Test Data', size = 14)\n",
    "ax1.grid(b = False)\n",
    "ax2.grid(b = False)\n",
    "plt.suptitle(t = 'Confusion Matrix', size = 16)\n",
    "plt.show()"
   ]
  },
  {
   "cell_type": "markdown",
   "metadata": {
    "colab_type": "text",
    "id": "A3geVx03daZC"
   },
   "source": [
    "**Observation:**\n",
    "\n",
    "- **Train Data:**\n",
    "  - Model predicted **93 instances correctly** for **negative class** while **129 instances** were predicted **correctly** for **positive class**.\n",
    "  - Model **identified 10 instances negative but in actual** they **were positive**.\n",
    "  - Model **identified 28 instances positive but in actual** they **were negative**.\n",
    "\n",
    "- **Test Data:**\n",
    "  - Model predicted **17 instances correctly** for **negative class** while **34 instances** were predicted **correctly** for **positive class**.\n",
    "  - Model **identified 1 instance negative but in actual** it **was positive**.\n",
    "  - Model **identified 3 instances positive but in actual** they **were negative**."
   ]
  },
  {
   "cell_type": "code",
   "execution_count": 40,
   "metadata": {
    "colab": {
     "base_uri": "https://localhost:8080/",
     "height": 353
    },
    "colab_type": "code",
    "executionInfo": {
     "elapsed": 58522,
     "status": "ok",
     "timestamp": 1592196252416,
     "user": {
      "displayName": "Varun Rao",
      "photoUrl": "",
      "userId": "01668619371257134222"
     },
     "user_tz": -330
    },
    "id": "CE9zvU3x1toA",
    "outputId": "20dbb90f-7021-492b-f691-743203bf8698"
   },
   "outputs": [
    {
     "name": "stdout",
     "output_type": "stream",
     "text": [
      "                    Training Report          \n",
      "              precision    recall  f1-score   support\n",
      "\n",
      "           0       0.90      0.77      0.83       121\n",
      "           1       0.82      0.93      0.87       139\n",
      "\n",
      "    accuracy                           0.85       260\n",
      "   macro avg       0.86      0.85      0.85       260\n",
      "weighted avg       0.86      0.85      0.85       260\n",
      "\n",
      "                    Testing Report           \n",
      "              precision    recall  f1-score   support\n",
      "\n",
      "           0       0.96      0.90      0.93        30\n",
      "           1       0.92      0.97      0.94        35\n",
      "\n",
      "    accuracy                           0.94        65\n",
      "   macro avg       0.94      0.94      0.94        65\n",
      "weighted avg       0.94      0.94      0.94        65\n",
      "\n"
     ]
    }
   ],
   "source": [
    "logistic_report_train = classification_report(y_train, y_train_pred_count)\n",
    "logistic_report_test = classification_report(y_test, y_test_pred_count)\n",
    "print('                    Training Report          ')\n",
    "print(logistic_report_train)\n",
    "print('                    Testing Report           ')\n",
    "print(logistic_report_test)"
   ]
  },
  {
   "cell_type": "markdown",
   "metadata": {
    "colab_type": "text",
    "id": "S-iUIDcae1Rt"
   },
   "source": [
    "**Observation:**\n",
    "\n",
    "- **Accuracy** for **training data is low** as **compared to testing data**.\n",
    "- **Similar is the case with Precision and recall** for training data and testing data."
   ]
  },
  {
   "cell_type": "code",
   "execution_count": 41,
   "metadata": {
    "colab": {
     "base_uri": "https://localhost:8080/",
     "height": 497
    },
    "colab_type": "code",
    "executionInfo": {
     "elapsed": 58511,
     "status": "ok",
     "timestamp": 1592196252417,
     "user": {
      "displayName": "Varun Rao",
      "photoUrl": "",
      "userId": "01668619371257134222"
     },
     "user_tz": -330
    },
    "id": "PJOxbRKM1v-Y",
    "outputId": "543620bb-011b-4336-ac0b-76b235a14835"
   },
   "outputs": [
    {
     "data": {
      "image/png": "[encoded data removed]",
      "text/plain": [
       "<Figure size 1080x504 with 2 Axes>"
      ]
     },
     "metadata": {},
     "output_type": "display_data"
    }
   ],
   "source": [
    "# NOTE: This precision and recall have been plotted only for positive class i.e. patient has heart disease\n",
    "\n",
    "figure = plt.figure(figsize = [15, 7])\n",
    "plt.subplot(1, 2, 1)\n",
    "plot_precision_recall(y_true = y_train, y_pred = y_train_pred_proba[:,1], train_or_test ='Train Data')\n",
    "\n",
    "plt.subplot(1, 2, 2)\n",
    "plot_precision_recall(y_true = y_test, y_pred = y_test_pred_proba[:, 1], train_or_test = 'Test Data')\n",
    "\n",
    "plt.suptitle('Precision & Recall Curve', size = 16)\n",
    "plt.show()"
   ]
  },
  {
   "cell_type": "markdown",
   "metadata": {
    "colab_type": "text",
    "id": "R9GlQ9-DfSVe"
   },
   "source": [
    "**Observation:**\n",
    "\n",
    "- We can see that **average precision** for **training data is 86%** while **for testing data it is 95%**.\n",
    "- The **average recall** for **training data is 64%** while **for testing data it is 57%**."
   ]
  },
  {
   "cell_type": "markdown",
   "metadata": {
    "colab_type": "text",
    "id": "n8BhtLWi2AL4"
   },
   "source": [
    "<a id = Section82></a>\n",
    "### **8.1.2 Support Vector Classifier**"
   ]
  },
  {
   "cell_type": "code",
   "execution_count": 42,
   "metadata": {
    "colab": {
     "base_uri": "https://localhost:8080/",
     "height": 462
    },
    "colab_type": "code",
    "executionInfo": {
     "elapsed": 60375,
     "status": "ok",
     "timestamp": 1592196254292,
     "user": {
      "displayName": "Varun Rao",
      "photoUrl": "",
      "userId": "01668619371257134222"
     },
     "user_tz": -330
    },
    "id": "S-zytSas2Ih8",
    "outputId": "28be2ba5-5618-4de8-e538-abae65594be2"
   },
   "outputs": [
    {
     "data": {
      "image/png": "[encoded data removed]",
      "text/plain": [
       "<Figure size 1080x504 with 4 Axes>"
      ]
     },
     "metadata": {},
     "output_type": "display_data"
    }
   ],
   "source": [
    "svc_clf = SVC(random_state = 42, probability = True)\n",
    "svc_clf.fit(X_train, y_train)\n",
    "\n",
    "y_train_pred_count = svc_clf.predict(X_train)\n",
    "y_test_pred_count = svc_clf.predict(X_test)\n",
    "\n",
    "y_train_pred_proba = svc_clf.predict_proba(X_train)\n",
    "y_test_pred_proba = svc_clf.predict_proba(X_test)\n",
    "\n",
    "fig, (ax1, ax2) = plt.subplots(nrows = 1, ncols = 2, sharex = False, figsize=(15, 7))\n",
    "plot_confusion_matrix(estimator = svc_clf, X = X_train, y_true = y_train, values_format = '.5g', cmap = 'YlGnBu', ax = ax1)\n",
    "plot_confusion_matrix(estimator = svc_clf, X = X_test, y_true = y_test, values_format = '.5g', cmap = 'YlGnBu', ax = ax2)\n",
    "ax1.set_title(label = 'Train Data', size = 14)\n",
    "ax2.set_title(label = 'Test Data', size = 14)\n",
    "ax1.grid(b = False)\n",
    "ax2.grid(b = False)\n",
    "plt.suptitle(t = 'Confusion Matrix', size = 16)\n",
    "plt.show()"
   ]
  },
  {
   "cell_type": "markdown",
   "metadata": {
    "colab_type": "text",
    "id": "8zgzMKSdfun0"
   },
   "source": [
    "**Observation:**\n",
    "\n",
    "- **Train Data:**\n",
    "  - Model predicted **53 instances correctly** for **negative class** while **117 instances** were predicted **correctly** for **positive class**.\n",
    "  - Model **identified 22 instances negative but in actual** they **were positive**.\n",
    "  - Model **identified 68 instances positive but in actual** they **were negative**.\n",
    "\n",
    "- **Test Data:**\n",
    "  - Model predicted **16 instances correctly** for **negative class** while **31 instances** were predicted **correctly** for **positive class**.\n",
    "  - Model **identified 4 instance negative but in actual** they **were positive**.\n",
    "  - Model **identified 14 instances positive but in actual** they **were negative**."
   ]
  },
  {
   "cell_type": "code",
   "execution_count": 43,
   "metadata": {
    "colab": {
     "base_uri": "https://localhost:8080/",
     "height": 353
    },
    "colab_type": "code",
    "executionInfo": {
     "elapsed": 60369,
     "status": "ok",
     "timestamp": 1592196254294,
     "user": {
      "displayName": "Varun Rao",
      "photoUrl": "",
      "userId": "01668619371257134222"
     },
     "user_tz": -330
    },
    "id": "mAmA6USj3FRq",
    "outputId": "7646da0e-4ce9-448a-e3ff-9887b32bafe2"
   },
   "outputs": [
    {
     "name": "stdout",
     "output_type": "stream",
     "text": [
      "                    Training Report          \n",
      "              precision    recall  f1-score   support\n",
      "\n",
      "           0       0.71      0.44      0.54       121\n",
      "           1       0.63      0.84      0.72       139\n",
      "\n",
      "    accuracy                           0.65       260\n",
      "   macro avg       0.67      0.64      0.63       260\n",
      "weighted avg       0.67      0.65      0.64       260\n",
      "\n",
      "                    Testing Report           \n",
      "              precision    recall  f1-score   support\n",
      "\n",
      "           0       0.80      0.53      0.64        30\n",
      "           1       0.69      0.89      0.78        35\n",
      "\n",
      "    accuracy                           0.72        65\n",
      "   macro avg       0.74      0.71      0.71        65\n",
      "weighted avg       0.74      0.72      0.71        65\n",
      "\n"
     ]
    }
   ],
   "source": [
    "svc_report_train = classification_report(y_train, y_train_pred_count)\n",
    "svc_report_test = classification_report(y_test, y_test_pred_count)\n",
    "print('                    Training Report          ')\n",
    "print(svc_report_train)\n",
    "print('                    Testing Report           ')\n",
    "print(svc_report_test)"
   ]
  },
  {
   "cell_type": "markdown",
   "metadata": {
    "colab_type": "text",
    "id": "ntcuQNTngZLO"
   },
   "source": [
    "**Observation:**\n",
    "\n",
    "- **Accuracy** for **training data is low** as **compared to testing data** which is even **worse than logistic regression**.\n",
    "- **Similar is the case with Precision and recall** for training data and testing data."
   ]
  },
  {
   "cell_type": "code",
   "execution_count": 44,
   "metadata": {
    "colab": {
     "base_uri": "https://localhost:8080/",
     "height": 497
    },
    "colab_type": "code",
    "executionInfo": {
     "elapsed": 60362,
     "status": "ok",
     "timestamp": 1592196254296,
     "user": {
      "displayName": "Varun Rao",
      "photoUrl": "",
      "userId": "01668619371257134222"
     },
     "user_tz": -330
    },
    "id": "QxVLcCTO3Ws_",
    "outputId": "02136cbf-71bd-434e-afe7-ac62e0a7e932"
   },
   "outputs": [
    {
     "data": {
      "image/png": "[encoded data removed]",
      "text/plain": [
       "<Figure size 1080x504 with 2 Axes>"
      ]
     },
     "metadata": {},
     "output_type": "display_data"
    }
   ],
   "source": [
    "# NOTE: This precision and recall have been plotted only for positive class i.e. patient has heart disease\n",
    "\n",
    "figure = plt.figure(figsize = [15, 7])\n",
    "plt.subplot(1, 2, 1)\n",
    "plot_precision_recall(y_true = y_train, y_pred = y_train_pred_proba[:,1], train_or_test ='Train Data')\n",
    "\n",
    "plt.subplot(1, 2, 2)\n",
    "plot_precision_recall(y_true = y_test, y_pred = y_test_pred_proba[:, 1], train_or_test = 'Test Data')\n",
    "\n",
    "plt.suptitle('Precision & Recall Curve', size = 16)\n",
    "plt.show()"
   ]
  },
  {
   "cell_type": "markdown",
   "metadata": {
    "colab_type": "text",
    "id": "ORZiEhKPho0g"
   },
   "source": [
    "**Observation:**\n",
    "\n",
    "- We can see that **average precision** for **training data is 72%** while **for testing data it is 79%**.\n",
    "- The **average recall** for **training data is 58%** while **for testing data it is 62%**."
   ]
  },
  {
   "cell_type": "markdown",
   "metadata": {
    "colab_type": "text",
    "id": "vWt6_m8p4DP2"
   },
   "source": [
    "# <a id = Section813></a>\n",
    "### **8.1.3 Decision Tree Classifier**"
   ]
  },
  {
   "cell_type": "code",
   "execution_count": 45,
   "metadata": {
    "colab": {
     "base_uri": "https://localhost:8080/",
     "height": 468
    },
    "colab_type": "code",
    "executionInfo": {
     "elapsed": 60355,
     "status": "ok",
     "timestamp": 1592196254298,
     "user": {
      "displayName": "Varun Rao",
      "photoUrl": "",
      "userId": "01668619371257134222"
     },
     "user_tz": -330
    },
    "id": "s1CRKHYG4HeC",
    "outputId": "e681cc6d-14aa-4476-cf38-70d8536c41fb"
   },
   "outputs": [
    {
     "data": {
      "image/png": "[encoded data removed]",
      "text/plain": [
       "<Figure size 1080x504 with 4 Axes>"
      ]
     },
     "metadata": {},
     "output_type": "display_data"
    }
   ],
   "source": [
    "dtc = DecisionTreeClassifier(random_state = 42)\n",
    "dtc.fit(X_train, y_train)\n",
    "\n",
    "y_train_pred_count = dtc.predict(X_train)\n",
    "y_test_pred_count = dtc.predict(X_test)\n",
    "\n",
    "y_train_pred_proba = dtc.predict_proba(X_train)\n",
    "y_test_pred_proba = dtc.predict_proba(X_test)\n",
    "\n",
    "fig, (ax1, ax2) = plt.subplots(nrows = 1, ncols = 2, sharex = False, figsize=(15, 7))\n",
    "plot_confusion_matrix(estimator = dtc, X = X_train, y_true = y_train, values_format = '.5g', cmap = 'YlGnBu', ax = ax1)\n",
    "plot_confusion_matrix(estimator = dtc, X = X_test, y_true = y_test, values_format = '.5g', cmap = 'YlGnBu', ax = ax2)\n",
    "ax1.set_title(label = 'Train Data', size = 14)\n",
    "ax2.set_title(label = 'Test Data', size = 14)\n",
    "ax1.grid(b = False)\n",
    "ax2.grid(b = False)\n",
    "plt.suptitle(t = 'Confusion Matrix', size = 16)\n",
    "plt.show()"
   ]
  },
  {
   "cell_type": "markdown",
   "metadata": {
    "colab_type": "text",
    "id": "gqDB8utLf_Ph"
   },
   "source": [
    "**Observation:**\n",
    "\n",
    "- **Train Data:**\n",
    "  - Model predicted **121 instances correctly** for **negative class** while **139 instances** were predicted **correctly** for **positive class**.\n",
    "  - Model **identified 0 instances negative but in actual** they **were positive**.\n",
    "  - Model **identified 0 instances positive but in actual** they **were negative**.\n",
    "\n",
    "- **Test Data:**\n",
    "  - Model predicted **23 instances correctly** for **negative class** while **27 instances** were predicted **correctly** for **positive class**.\n",
    "  - Model **identified 8 instance negative but in actual** they **were positive**.\n",
    "  - Model **identified 7 instances positive but in actual** they **were negative**."
   ]
  },
  {
   "cell_type": "code",
   "execution_count": 46,
   "metadata": {
    "colab": {
     "base_uri": "https://localhost:8080/",
     "height": 353
    },
    "colab_type": "code",
    "executionInfo": {
     "elapsed": 60347,
     "status": "ok",
     "timestamp": 1592196254299,
     "user": {
      "displayName": "Varun Rao",
      "photoUrl": "",
      "userId": "01668619371257134222"
     },
     "user_tz": -330
    },
    "id": "Q7GIvD_m4XON",
    "outputId": "65aacc68-7df9-4faa-e75e-1092f4448e35"
   },
   "outputs": [
    {
     "name": "stdout",
     "output_type": "stream",
     "text": [
      "                    Training Report          \n",
      "              precision    recall  f1-score   support\n",
      "\n",
      "           0       1.00      1.00      1.00       121\n",
      "           1       1.00      1.00      1.00       139\n",
      "\n",
      "    accuracy                           1.00       260\n",
      "   macro avg       1.00      1.00      1.00       260\n",
      "weighted avg       1.00      1.00      1.00       260\n",
      "\n",
      "                    Testing Report           \n",
      "              precision    recall  f1-score   support\n",
      "\n",
      "           0       0.74      0.77      0.75        30\n",
      "           1       0.79      0.77      0.78        35\n",
      "\n",
      "    accuracy                           0.77        65\n",
      "   macro avg       0.77      0.77      0.77        65\n",
      "weighted avg       0.77      0.77      0.77        65\n",
      "\n"
     ]
    }
   ],
   "source": [
    "dtc_report_train = classification_report(y_train, y_train_pred_count)\n",
    "dtc_report_test = classification_report(y_test, y_test_pred_count)\n",
    "print('                    Training Report          ')\n",
    "print(dtc_report_train)\n",
    "print('                    Testing Report           ')\n",
    "print(dtc_report_test)"
   ]
  },
  {
   "cell_type": "markdown",
   "metadata": {
    "colab_type": "text",
    "id": "nVVF0OSegzfo"
   },
   "source": [
    "**Observation:**\n",
    "\n",
    "- **Accuracy** for **training data is high** as **compared to testing data signifying overfitting** over train data.\n",
    "- **Similar is the case with Precision and recall** for training data and testing data."
   ]
  },
  {
   "cell_type": "code",
   "execution_count": 47,
   "metadata": {
    "colab": {
     "base_uri": "https://localhost:8080/",
     "height": 497
    },
    "colab_type": "code",
    "executionInfo": {
     "elapsed": 60341,
     "status": "ok",
     "timestamp": 1592196254301,
     "user": {
      "displayName": "Varun Rao",
      "photoUrl": "",
      "userId": "01668619371257134222"
     },
     "user_tz": -330
    },
    "id": "6f6HFYwS4avz",
    "outputId": "c71c9448-fdd0-4341-8919-aa4b34cbd5ed"
   },
   "outputs": [
    {
     "data": {
      "image/png": "[encoded data removed]",
      "text/plain": [
       "<Figure size 1080x504 with 2 Axes>"
      ]
     },
     "metadata": {},
     "output_type": "display_data"
    }
   ],
   "source": [
    "# NOTE: This precision and recall have been plotted only for positive class i.e. patient has heart disease\n",
    "\n",
    "figure = plt.figure(figsize = [15, 7])\n",
    "plt.subplot(1, 2, 1)\n",
    "plot_precision_recall(y_true = y_train, y_pred = y_train_pred_proba[:,1], train_or_test ='Train Data')\n",
    "\n",
    "plt.subplot(1, 2, 2)\n",
    "plot_precision_recall(y_true = y_test, y_pred = y_test_pred_proba[:, 1], train_or_test = 'Test Data')\n",
    "\n",
    "plt.suptitle('Precision & Recall Curve', size = 16)\n",
    "plt.show()"
   ]
  },
  {
   "cell_type": "markdown",
   "metadata": {
    "colab_type": "text",
    "id": "t88rbh0oL9un"
   },
   "source": [
    "**Note:** In Training Data graph, the blue line is under the red line."
   ]
  },
  {
   "cell_type": "markdown",
   "metadata": {
    "colab_type": "text",
    "id": "_K9BvMXuhxne"
   },
   "source": [
    "**Observation:**\n",
    "\n",
    "- We can see that **average precision** for **training data is 100%** while **for testing data it is 78%**.\n",
    "- The **average recall** for **training data is 50%** while **for testing data it is 59%**."
   ]
  },
  {
   "cell_type": "markdown",
   "metadata": {
    "colab_type": "text",
    "id": "MEEbjn-k41PN"
   },
   "source": [
    "<a id = Section814></a>\n",
    "### **8.1.4 Random Forest Classifier**"
   ]
  },
  {
   "cell_type": "code",
   "execution_count": 48,
   "metadata": {
    "colab": {
     "base_uri": "https://localhost:8080/",
     "height": 468
    },
    "colab_type": "code",
    "executionInfo": {
     "elapsed": 61718,
     "status": "ok",
     "timestamp": 1592196255686,
     "user": {
      "displayName": "Varun Rao",
      "photoUrl": "",
      "userId": "01668619371257134222"
     },
     "user_tz": -330
    },
    "id": "S6BL5Ivq46LG",
    "outputId": "ececd8fc-45e4-447a-c52f-d3e5f4557cba"
   },
   "outputs": [
    {
     "data": {
      "image/png": "[encoded data removed]",
      "text/plain": [
       "<Figure size 1080x504 with 4 Axes>"
      ]
     },
     "metadata": {},
     "output_type": "display_data"
    }
   ],
   "source": [
    "rfc = RandomForestClassifier(random_state = 42)\n",
    "rfc.fit(X_train, y_train)\n",
    "\n",
    "y_train_pred_count = rfc.predict(X_train)\n",
    "y_test_pred_count = rfc.predict(X_test)\n",
    "\n",
    "y_train_pred_proba = rfc.predict_proba(X_train)\n",
    "y_test_pred_proba = rfc.predict_proba(X_test)\n",
    "\n",
    "fig, (ax1, ax2) = plt.subplots(nrows = 1, ncols = 2, sharex = False, figsize=(15, 7))\n",
    "plot_confusion_matrix(estimator = rfc, X = X_train, y_true = y_train, values_format = '.5g', cmap = 'YlGnBu', ax = ax1)\n",
    "plot_confusion_matrix(estimator = rfc, X = X_test, y_true = y_test, values_format = '.5g', cmap = 'YlGnBu', ax = ax2)\n",
    "ax1.set_title(label = 'Train Data', size = 14)\n",
    "ax2.set_title(label = 'Test Data', size = 14)\n",
    "ax1.grid(b = False)\n",
    "ax2.grid(b = False)\n",
    "plt.suptitle(t = 'Confusion Matrix', size = 16)\n",
    "plt.show()"
   ]
  },
  {
   "cell_type": "markdown",
   "metadata": {
    "colab_type": "text",
    "id": "MaQfVTragK78"
   },
   "source": [
    "**Observation:**\n",
    "\n",
    "- **Train Data:**\n",
    "  - Model predicted **121 instances correctly** for **negative class** while **139 instances** were predicted **correctly** for **positive class**.\n",
    "  - Model **identified 0 instances negative but in actual** they **were positive**.\n",
    "  - Model **identified 0 instances positive but in actual** they **were negative**.\n",
    "\n",
    "- **Test Data:**\n",
    "  - Model predicted **23 instances correctly** for **negative class** while **30 instances** were predicted **correctly** for **positive class**.\n",
    "  - Model **identified 5 instance negative but in actual** they **were positive**.\n",
    "  - Model **identified 7 instances positive but in actual** they **were negative**."
   ]
  },
  {
   "cell_type": "code",
   "execution_count": 49,
   "metadata": {
    "colab": {
     "base_uri": "https://localhost:8080/",
     "height": 353
    },
    "colab_type": "code",
    "executionInfo": {
     "elapsed": 61712,
     "status": "ok",
     "timestamp": 1592196255688,
     "user": {
      "displayName": "Varun Rao",
      "photoUrl": "",
      "userId": "01668619371257134222"
     },
     "user_tz": -330
    },
    "id": "TQE4qqXn5Ek5",
    "outputId": "bd1d3d0f-6e6a-4adc-84a9-5de26e273d18"
   },
   "outputs": [
    {
     "name": "stdout",
     "output_type": "stream",
     "text": [
      "                    Training Report          \n",
      "              precision    recall  f1-score   support\n",
      "\n",
      "           0       1.00      1.00      1.00       121\n",
      "           1       1.00      1.00      1.00       139\n",
      "\n",
      "    accuracy                           1.00       260\n",
      "   macro avg       1.00      1.00      1.00       260\n",
      "weighted avg       1.00      1.00      1.00       260\n",
      "\n",
      "                    Testing Report           \n",
      "              precision    recall  f1-score   support\n",
      "\n",
      "           0       0.82      0.77      0.79        30\n",
      "           1       0.81      0.86      0.83        35\n",
      "\n",
      "    accuracy                           0.82        65\n",
      "   macro avg       0.82      0.81      0.81        65\n",
      "weighted avg       0.82      0.82      0.81        65\n",
      "\n"
     ]
    }
   ],
   "source": [
    "rfc_report_train = classification_report(y_train, y_train_pred_count)\n",
    "rfc_report_test = classification_report(y_test, y_test_pred_count)\n",
    "print('                    Training Report          ')\n",
    "print(rfc_report_train)\n",
    "print('                    Testing Report           ')\n",
    "print(rfc_report_test)"
   ]
  },
  {
   "cell_type": "markdown",
   "metadata": {
    "colab_type": "text",
    "id": "a6QoKKYqhAvM"
   },
   "source": [
    "**Observation:**\n",
    "\n",
    "- **Accuracy** for **training data is high** as **compared to testing data signifying overfitting** over train data.\n",
    "- But our **accuracy on test has increased over rest models**.\n",
    "- **Similar is the case with Precision and recall** for training data and testing data.\n",
    "- It shows that **Random Forest worked better than other models**, which we **will tune in upcomming section**."
   ]
  },
  {
   "cell_type": "code",
   "execution_count": 50,
   "metadata": {
    "colab": {
     "base_uri": "https://localhost:8080/",
     "height": 497
    },
    "colab_type": "code",
    "executionInfo": {
     "elapsed": 61705,
     "status": "ok",
     "timestamp": 1592196255689,
     "user": {
      "displayName": "Varun Rao",
      "photoUrl": "",
      "userId": "01668619371257134222"
     },
     "user_tz": -330
    },
    "id": "8yvP7hYh5Prb",
    "outputId": "b7c7f848-5b87-43ec-dee0-9c3fad0b56c5"
   },
   "outputs": [
    {
     "data": {
      "image/png": "[encoded data removed]",
      "text/plain": [
       "<Figure size 1080x504 with 2 Axes>"
      ]
     },
     "metadata": {},
     "output_type": "display_data"
    }
   ],
   "source": [
    "# NOTE: This precision and recall have been plotted only for positive class i.e. patient has heart disease\n",
    "\n",
    "figure = plt.figure(figsize = [15, 7])\n",
    "plt.subplot(1, 2, 1)\n",
    "plot_precision_recall(y_true = y_train, y_pred = y_train_pred_proba[:,1], train_or_test ='Train Data')\n",
    "\n",
    "plt.subplot(1, 2, 2)\n",
    "plot_precision_recall(y_true = y_test, y_pred = y_test_pred_proba[:, 1], train_or_test = 'Test Data')\n",
    "\n",
    "plt.suptitle('Precision & Recall Curve', size = 16)\n",
    "plt.show()"
   ]
  },
  {
   "cell_type": "markdown",
   "metadata": {
    "colab_type": "text",
    "id": "sCT8gFhWh6_i"
   },
   "source": [
    "**Observation:**\n",
    "\n",
    "- We can see that **average precision** for **training data is 100%** while **for testing data it is 94%**.\n",
    "- The **average recall** for **training data is 66%** while **for testing data it is 58%**."
   ]
  },
  {
   "cell_type": "markdown",
   "metadata": {
    "colab_type": "text",
    "id": "3pcy-nKe5rdL"
   },
   "source": [
    "<a id = Section82></a>\n",
    "## **8.2 Fine Tuning of Model**\n",
    "\n",
    "- In previous section we saw **Random Forest working better than rest of the models**. So we **will** **focus** on **fine tuning of Random Forest** in this section.\n",
    "- **Tuning** the model **takes** **extensive work**, so we will be **working** out **with few parameters instead** of **large combinations**.\n",
    "- Now that we know that **Random Forest performed better** **than any other model**, we **will fine tune** it.\n",
    "- For that we will **implement Grid Search CV** to **find optimal setting** for the model.\n",
    "- **Note:** **We want generalize results** i.e. same precision and recall on test data as that of train data."
   ]
  },
  {
   "cell_type": "code",
   "execution_count": 51,
   "metadata": {
    "colab": {},
    "colab_type": "code",
    "id": "H8hseaa054nK"
   },
   "outputs": [],
   "source": [
    "parameter_grid = [{'n_estimators' : [100, 200, 300, 400, 500], 'criterion':['gini', 'entropy'], 'max_depth' : [x for x in range(2, 10)], 'bootstrap' : [True, False]}]"
   ]
  },
  {
   "cell_type": "code",
   "execution_count": null,
   "metadata": {
    "colab": {
     "base_uri": "https://localhost:8080/",
     "height": 151
    },
    "colab_type": "code",
    "executionInfo": {
     "elapsed": 818298,
     "status": "ok",
     "timestamp": 1592197012294,
     "user": {
      "displayName": "Varun Rao",
      "photoUrl": "",
      "userId": "01668619371257134222"
     },
     "user_tz": -330
    },
    "id": "NByvjJcE7Rwc",
    "outputId": "fecd658a-a2bd-4e17-cada-212cb6df372a"
   },
   "outputs": [],
   "source": [
    "# Have some patience, may take some time :)\n",
    "rand_forest = RandomForestClassifier(random_state = 42, n_jobs = -1)\n",
    "random_search = GridSearchCV(estimator = rand_forest, param_grid = parameter_grid, scoring = 'f1', n_jobs = -1, cv = 10, return_train_score = True)\n",
    "random_search.fit(X_train, y_train)\n",
    "random_search.best_estimator_"
   ]
  },
  {
   "cell_type": "code",
   "execution_count": null,
   "metadata": {
    "colab": {
     "base_uri": "https://localhost:8080/",
     "height": 84
    },
    "colab_type": "code",
    "executionInfo": {
     "elapsed": 818295,
     "status": "ok",
     "timestamp": 1592197012298,
     "user": {
      "displayName": "Varun Rao",
      "photoUrl": "",
      "userId": "01668619371257134222"
     },
     "user_tz": -330
    },
    "id": "CAj_878M9kv3",
    "outputId": "f053d728-aff9-4d86-b7c8-bdac2a17b32c"
   },
   "outputs": [],
   "source": [
    "random_search.best_params_"
   ]
  },
  {
   "cell_type": "markdown",
   "metadata": {
    "colab_type": "text",
    "id": "D2kObFUY9tQx"
   },
   "source": [
    "- For complete summary of the results you can execute the following code:\n",
    "  - pd.DataFrame(random_search.cv_results_)"
   ]
  },
  {
   "cell_type": "markdown",
   "metadata": {
    "colab_type": "text",
    "id": "P4KF-u6x9xHe"
   },
   "source": [
    "<a id = Section83></a>\n",
    "## **8.3 Final Model**"
   ]
  },
  {
   "cell_type": "code",
   "execution_count": null,
   "metadata": {
    "colab": {
     "base_uri": "https://localhost:8080/",
     "height": 462
    },
    "colab_type": "code",
    "executionInfo": {
     "elapsed": 820379,
     "status": "ok",
     "timestamp": 1592197014390,
     "user": {
      "displayName": "Varun Rao",
      "photoUrl": "",
      "userId": "01668619371257134222"
     },
     "user_tz": -330
    },
    "id": "TTJi59OD9uQ7",
    "outputId": "fe32aa8d-f49e-44f8-90b2-3def079d26b1"
   },
   "outputs": [],
   "source": [
    "rfc = random_search.best_estimator_\n",
    "rfc.fit(X_train, y_train)\n",
    "\n",
    "y_train_pred_count = rfc.predict(X_train)\n",
    "y_test_pred_count = rfc.predict(X_test)\n",
    "\n",
    "y_train_pred_proba = rfc.predict_proba(X_train)\n",
    "y_test_pred_proba = rfc.predict_proba(X_test)\n",
    "\n",
    "fig, (ax1, ax2) = plt.subplots(nrows = 1, ncols = 2, sharex = False, figsize=(15, 7))\n",
    "plot_confusion_matrix(estimator = rfc, X = X_train, y_true = y_train, values_format = '.5g', cmap = 'YlGnBu', ax = ax1)\n",
    "plot_confusion_matrix(estimator = rfc, X = X_test, y_true = y_test, values_format = '.5g', cmap = 'YlGnBu', ax = ax2)\n",
    "ax1.set_title(label = 'Train Data', size = 14)\n",
    "ax2.set_title(label = 'Test Data', size = 14)\n",
    "ax1.grid(b = False)\n",
    "ax2.grid(b = False)\n",
    "plt.suptitle(t = 'Confusion Matrix', size = 16)\n",
    "plt.show()"
   ]
  },
  {
   "cell_type": "markdown",
   "metadata": {
    "colab_type": "text",
    "id": "QBH74UTsiDQD"
   },
   "source": [
    "**Observation:**\n",
    "\n",
    "- **Train Data:**\n",
    "  - Model predicted **87 instances correctly** for **negative class** while **122 instances** were predicted **correctly** for **positive class**.\n",
    "  - Model **identified 10 instances negative but in actual** they **were positive**.\n",
    "  - Model **identified 23 instances positive but in actual** they **were negative**.\n",
    "\n",
    "- **Test Data:**\n",
    "  - Model predicted **19 instances correctly** for **negative class** while **30 instances** were predicted **correctly** for **positive class**.\n",
    "  - Model **identified 3 instance negative but in actual** they **were positive**.\n",
    "  - Model **identified 9 instances positive but in actual** they **were negative**."
   ]
  },
  {
   "cell_type": "code",
   "execution_count": null,
   "metadata": {
    "colab": {
     "base_uri": "https://localhost:8080/",
     "height": 353
    },
    "colab_type": "code",
    "executionInfo": {
     "elapsed": 820373,
     "status": "ok",
     "timestamp": 1592197014395,
     "user": {
      "displayName": "Varun Rao",
      "photoUrl": "",
      "userId": "01668619371257134222"
     },
     "user_tz": -330
    },
    "id": "Fnoy73aR_8Mx",
    "outputId": "bca3c95d-4cc1-4bda-923a-48aea885229f"
   },
   "outputs": [],
   "source": [
    "rfc_report_train = classification_report(y_train, y_train_pred_count)\n",
    "rfc_report_test = classification_report(y_test, y_test_pred_count)\n",
    "print('                    Training Report          ')\n",
    "print(rfc_report_train)\n",
    "print('                    Testing Report           ')\n",
    "print(rfc_report_test)"
   ]
  },
  {
   "cell_type": "markdown",
   "metadata": {
    "colab_type": "text",
    "id": "8FtOKKevie51"
   },
   "source": [
    "**Observation:**\n",
    "\n",
    "- We can see that from that the **Random Forest without optimization was overfitting** over the **training data** at 100%.\n",
    "- But **now** the **generalization error** is very **close to the training error**."
   ]
  },
  {
   "cell_type": "code",
   "execution_count": null,
   "metadata": {
    "colab": {
     "base_uri": "https://localhost:8080/",
     "height": 497
    },
    "colab_type": "code",
    "executionInfo": {
     "elapsed": 820372,
     "status": "ok",
     "timestamp": 1592197014401,
     "user": {
      "displayName": "Varun Rao",
      "photoUrl": "",
      "userId": "01668619371257134222"
     },
     "user_tz": -330
    },
    "id": "5TtAfYj5AHJi",
    "outputId": "efddd9dd-da92-4c1a-da26-adc6d15885b0"
   },
   "outputs": [],
   "source": [
    "# NOTE: This precision and recall have been plotted only for positive class i.e. patient has heart disease\n",
    "\n",
    "figure = plt.figure(figsize = [15, 7])\n",
    "plt.subplot(1, 2, 1)\n",
    "plot_precision_recall(y_true = y_train, y_pred = y_train_pred_proba[:,1], train_or_test ='Train Data')\n",
    "\n",
    "plt.subplot(1, 2, 2)\n",
    "plot_precision_recall(y_true = y_test, y_pred = y_test_pred_proba[:, 1], train_or_test = 'Test Data')\n",
    "\n",
    "plt.suptitle('Precision & Recall Curve', size = 16)\n",
    "plt.show()"
   ]
  },
  {
   "cell_type": "markdown",
   "metadata": {
    "colab_type": "text",
    "id": "NCTsY0J0iwBG"
   },
   "source": [
    "**Observation:**\n",
    "\n",
    "- We can see that **average precision** for **training data is 89%** while **for testing data it is 88%**.\n",
    "- The **average recall** for **training data is 63%** while **for testing data it is 55%**.\n",
    "\n",
    "**Note:**\n",
    "\n",
    "- We have **choosed** only **limited number of combinations**.\n",
    "- Generally, in **real life a script** is **prepared** for **heavy tuning** of the model.\n",
    "- This **tuning takes several hours** under **high end performance systems**."
   ]
  },
  {
   "cell_type": "markdown",
   "metadata": {
    "colab_type": "text",
    "id": "ztDg7FzVAQvn"
   },
   "source": [
    "<a id = Section9></a>\n",
    "\n",
    "---\n",
    "# **9. Conclusion**\n",
    "---"
   ]
  },
  {
   "cell_type": "markdown",
   "metadata": {
    "colab_type": "text",
    "id": "UY1VqwbhATJ7"
   },
   "source": [
    "- We **studied in depth about the data**, its **characteristics** and its **distribution**.\n",
    "\n",
    "- We **explored various questions** related to the health of the patients (males and females).\n",
    "\n",
    "- We **investigated in depth about the features** which to **retain** and which to **discard**. List of Retained Feature is as:\n",
    "\n",
    "|age|resting_blood_pressure|cholesterol|max_heart_rate_achieved|st_depression|num_major_vessels|thalassemia|chest_pain_type|\n",
    "|:--|:--|:--|:--|:--|:--|:--|:--|\n",
    "\n",
    "- Indeed we **peformed feature selection using Random Forest** because it is fast, accurate and reliable.\n",
    "  \n",
    "- We **performed model development** with **variety** of **algorithms** such as **Logistic Regression, SVM, Decision Tree & Random Forest**.\n",
    "\n",
    "- **On observering** the **performance** of **SVM and Random Forest**, it could be clearly visualized that **SVM was underfitting while Random Forest was overfitting**.\n",
    "\n",
    "- **One could choose either** of these **model or both** and **tune** it **at best settings**.\n",
    "\n",
    "- **If both** models are **tuned** at **optimal settings**, a **comparision** is **required** to **select** the **optimal working model**.\n",
    "\n",
    "- We **choosed Random Forest** and **tuned** it **at max settings** and **finalized** which **in resulted** a **promising generalized performance**.\n",
    "\n",
    "- Now this **model** will **help** us in **saving** not only a lot of **resources** (money, human resources etc.) but also help us in **abstaining** the **delay** in **treatment** of the patients."
   ]
  }
 ],
 "metadata": {
  "colab": {
   "collapsed_sections": [],
   "name": "Analysis & Detection of Heart Disease.ipynb",
   "provenance": []
  },
  "kernelspec": {
   "display_name": "Python 3",
   "language": "python",
   "name": "python3"
  },
  "language_info": {
   "codemirror_mode": {
    "name": "ipython",
    "version": 3
   },
   "file_extension": ".py",
   "mimetype": "text/x-python",
   "name": "python",
   "nbconvert_exporter": "python",
   "pygments_lexer": "ipython3",
   "version": "3.8.3"
  }
 },
 "nbformat": 4,
 "nbformat_minor": 1
}
